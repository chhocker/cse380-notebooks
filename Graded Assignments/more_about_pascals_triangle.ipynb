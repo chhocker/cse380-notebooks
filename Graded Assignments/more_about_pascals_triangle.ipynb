{
  "nbformat": 4,
  "nbformat_minor": 0,
  "metadata": {
    "kernelspec": {
      "display_name": "Python 3",
      "language": "python",
      "name": "python3"
    },
    "language_info": {
      "codemirror_mode": {
        "name": "ipython",
        "version": 3
      },
      "file_extension": ".py",
      "mimetype": "text/x-python",
      "name": "python",
      "nbconvert_exporter": "python",
      "pygments_lexer": "ipython3",
      "version": "3.6.9"
    },
    "colab": {
      "name": "more_about_pascals_triangle.ipynb",
      "provenance": [],
      "include_colab_link": true
    }
  },
  "cells": [
    {
      "cell_type": "markdown",
      "metadata": {
        "id": "view-in-github",
        "colab_type": "text"
      },
      "source": [
        "<a href=\"https://colab.research.google.com/github/chhocker/cse380-notebooks/blob/master/more_about_pascals_triangle.ipynb\" target=\"_parent\"><img src=\"https://colab.research.google.com/assets/colab-badge.svg\" alt=\"Open In Colab\"/></a>"
      ]
    },
    {
      "cell_type": "markdown",
      "metadata": {
        "id": "KWiQCvx0Qe9f"
      },
      "source": [
        "# More About Pascal’s Triangle\n",
        "## Expounding"
      ]
    },
    {
      "cell_type": "markdown",
      "metadata": {
        "id": "ow01r3DhQe9q"
      },
      "source": [
        "## More Helper Functions"
      ]
    },
    {
      "cell_type": "code",
      "metadata": {
        "id": "4pCisev7Qe9r"
      },
      "source": [
        "from math import gcd\n",
        "\n",
        "def nCk(n, k):\n",
        "  if k < 0 or k > n:\n",
        "    return 0\n",
        "  else:\n",
        "    result = 1\n",
        "    d = 1\n",
        "    g = 1\n",
        "    m = min(k, n - k)\n",
        "    while (d <= m):\n",
        "      g = gcd(result, d)\n",
        "      result = n * (result // g)\n",
        "      result = (result // (d // g))\n",
        "      n -= 1\n",
        "      d += 1\n",
        "    return result\n",
        "\n",
        "def center(string, n):\n",
        "  pad = ' ' * ((n - len(string)) // 2)\n",
        "  return pad + string + pad\n",
        "\n",
        "def draw_pascals_triangle(num_rows, k_fn = str, n_fn = print):\n",
        "  print('First', num_rows, \"rows of Pascal's triangle:\")\n",
        "  for n in range(num_rows + 1):\n",
        "    row = []\n",
        "    for k in range(n + 1):\n",
        "      row.append(k_fn(nCk(n, k)))\n",
        "    n_fn(' '.join(row))\n"
      ],
      "execution_count": 1,
      "outputs": []
    },
    {
      "cell_type": "markdown",
      "metadata": {
        "id": "o1L2Z_BJQe9s"
      },
      "source": [
        "Try several variations of calls to ```draw_pascals_triangle```:"
      ]
    },
    {
      "cell_type": "code",
      "metadata": {
        "id": "rfqy-RbAQe9s",
        "outputId": "852ce3a3-98b0-4bc1-8df6-32234ecebe43",
        "colab": {
          "base_uri": "https://localhost:8080/"
        }
      },
      "source": [
        "draw_pascals_triangle(10)"
      ],
      "execution_count": 2,
      "outputs": [
        {
          "output_type": "stream",
          "text": [
            "First 10 rows of Pascal's triangle:\n",
            "1\n",
            "1 1\n",
            "1 2 1\n",
            "1 3 3 1\n",
            "1 4 6 4 1\n",
            "1 5 10 10 5 1\n",
            "1 6 15 20 15 6 1\n",
            "1 7 21 35 35 21 7 1\n",
            "1 8 28 56 70 56 28 8 1\n",
            "1 9 36 84 126 126 84 36 9 1\n",
            "1 10 45 120 210 252 210 120 45 10 1\n"
          ],
          "name": "stdout"
        }
      ]
    },
    {
      "cell_type": "code",
      "metadata": {
        "id": "Sui8OE8dQe9s",
        "outputId": "0bfdb8ce-6f94-4900-8632-e73ff33d2d7e",
        "colab": {
          "base_uri": "https://localhost:8080/"
        }
      },
      "source": [
        "draw_pascals_triangle(10, str, lambda x: print(center(x, 75)))"
      ],
      "execution_count": 3,
      "outputs": [
        {
          "output_type": "stream",
          "text": [
            "First 10 rows of Pascal's triangle:\n",
            "                                     1                                     \n",
            "                                    1 1                                    \n",
            "                                   1 2 1                                   \n",
            "                                  1 3 3 1                                  \n",
            "                                 1 4 6 4 1                                 \n",
            "                               1 5 10 10 5 1                               \n",
            "                             1 6 15 20 15 6 1                             \n",
            "                            1 7 21 35 35 21 7 1                            \n",
            "                          1 8 28 56 70 56 28 8 1                          \n",
            "                        1 9 36 84 126 126 84 36 9 1                        \n",
            "                    1 10 45 120 210 252 210 120 45 10 1                    \n"
          ],
          "name": "stdout"
        }
      ]
    },
    {
      "cell_type": "code",
      "metadata": {
        "id": "CZET71UvQe9t",
        "outputId": "88688750-971a-4874-ec6f-36e639900bdf",
        "colab": {
          "base_uri": "https://localhost:8080/"
        }
      },
      "source": [
        "draw_pascals_triangle(40)"
      ],
      "execution_count": 4,
      "outputs": [
        {
          "output_type": "stream",
          "text": [
            "First 40 rows of Pascal's triangle:\n",
            "1\n",
            "1 1\n",
            "1 2 1\n",
            "1 3 3 1\n",
            "1 4 6 4 1\n",
            "1 5 10 10 5 1\n",
            "1 6 15 20 15 6 1\n",
            "1 7 21 35 35 21 7 1\n",
            "1 8 28 56 70 56 28 8 1\n",
            "1 9 36 84 126 126 84 36 9 1\n",
            "1 10 45 120 210 252 210 120 45 10 1\n",
            "1 11 55 165 330 462 462 330 165 55 11 1\n",
            "1 12 66 220 495 792 924 792 495 220 66 12 1\n",
            "1 13 78 286 715 1287 1716 1716 1287 715 286 78 13 1\n",
            "1 14 91 364 1001 2002 3003 3432 3003 2002 1001 364 91 14 1\n",
            "1 15 105 455 1365 3003 5005 6435 6435 5005 3003 1365 455 105 15 1\n",
            "1 16 120 560 1820 4368 8008 11440 12870 11440 8008 4368 1820 560 120 16 1\n",
            "1 17 136 680 2380 6188 12376 19448 24310 24310 19448 12376 6188 2380 680 136 17 1\n",
            "1 18 153 816 3060 8568 18564 31824 43758 48620 43758 31824 18564 8568 3060 816 153 18 1\n",
            "1 19 171 969 3876 11628 27132 50388 75582 92378 92378 75582 50388 27132 11628 3876 969 171 19 1\n",
            "1 20 190 1140 4845 15504 38760 77520 125970 167960 184756 167960 125970 77520 38760 15504 4845 1140 190 20 1\n",
            "1 21 210 1330 5985 20349 54264 116280 203490 293930 352716 352716 293930 203490 116280 54264 20349 5985 1330 210 21 1\n",
            "1 22 231 1540 7315 26334 74613 170544 319770 497420 646646 705432 646646 497420 319770 170544 74613 26334 7315 1540 231 22 1\n",
            "1 23 253 1771 8855 33649 100947 245157 490314 817190 1144066 1352078 1352078 1144066 817190 490314 245157 100947 33649 8855 1771 253 23 1\n",
            "1 24 276 2024 10626 42504 134596 346104 735471 1307504 1961256 2496144 2704156 2496144 1961256 1307504 735471 346104 134596 42504 10626 2024 276 24 1\n",
            "1 25 300 2300 12650 53130 177100 480700 1081575 2042975 3268760 4457400 5200300 5200300 4457400 3268760 2042975 1081575 480700 177100 53130 12650 2300 300 25 1\n",
            "1 26 325 2600 14950 65780 230230 657800 1562275 3124550 5311735 7726160 9657700 10400600 9657700 7726160 5311735 3124550 1562275 657800 230230 65780 14950 2600 325 26 1\n",
            "1 27 351 2925 17550 80730 296010 888030 2220075 4686825 8436285 13037895 17383860 20058300 20058300 17383860 13037895 8436285 4686825 2220075 888030 296010 80730 17550 2925 351 27 1\n",
            "1 28 378 3276 20475 98280 376740 1184040 3108105 6906900 13123110 21474180 30421755 37442160 40116600 37442160 30421755 21474180 13123110 6906900 3108105 1184040 376740 98280 20475 3276 378 28 1\n",
            "1 29 406 3654 23751 118755 475020 1560780 4292145 10015005 20030010 34597290 51895935 67863915 77558760 77558760 67863915 51895935 34597290 20030010 10015005 4292145 1560780 475020 118755 23751 3654 406 29 1\n",
            "1 30 435 4060 27405 142506 593775 2035800 5852925 14307150 30045015 54627300 86493225 119759850 145422675 155117520 145422675 119759850 86493225 54627300 30045015 14307150 5852925 2035800 593775 142506 27405 4060 435 30 1\n",
            "1 31 465 4495 31465 169911 736281 2629575 7888725 20160075 44352165 84672315 141120525 206253075 265182525 300540195 300540195 265182525 206253075 141120525 84672315 44352165 20160075 7888725 2629575 736281 169911 31465 4495 465 31 1\n",
            "1 32 496 4960 35960 201376 906192 3365856 10518300 28048800 64512240 129024480 225792840 347373600 471435600 565722720 601080390 565722720 471435600 347373600 225792840 129024480 64512240 28048800 10518300 3365856 906192 201376 35960 4960 496 32 1\n",
            "1 33 528 5456 40920 237336 1107568 4272048 13884156 38567100 92561040 193536720 354817320 573166440 818809200 1037158320 1166803110 1166803110 1037158320 818809200 573166440 354817320 193536720 92561040 38567100 13884156 4272048 1107568 237336 40920 5456 528 33 1\n",
            "1 34 561 5984 46376 278256 1344904 5379616 18156204 52451256 131128140 286097760 548354040 927983760 1391975640 1855967520 2203961430 2333606220 2203961430 1855967520 1391975640 927983760 548354040 286097760 131128140 52451256 18156204 5379616 1344904 278256 46376 5984 561 34 1\n",
            "1 35 595 6545 52360 324632 1623160 6724520 23535820 70607460 183579396 417225900 834451800 1476337800 2319959400 3247943160 4059928950 4537567650 4537567650 4059928950 3247943160 2319959400 1476337800 834451800 417225900 183579396 70607460 23535820 6724520 1623160 324632 52360 6545 595 35 1\n",
            "1 36 630 7140 58905 376992 1947792 8347680 30260340 94143280 254186856 600805296 1251677700 2310789600 3796297200 5567902560 7307872110 8597496600 9075135300 8597496600 7307872110 5567902560 3796297200 2310789600 1251677700 600805296 254186856 94143280 30260340 8347680 1947792 376992 58905 7140 630 36 1\n",
            "1 37 666 7770 66045 435897 2324784 10295472 38608020 124403620 348330136 854992152 1852482996 3562467300 6107086800 9364199760 12875774670 15905368710 17672631900 17672631900 15905368710 12875774670 9364199760 6107086800 3562467300 1852482996 854992152 348330136 124403620 38608020 10295472 2324784 435897 66045 7770 666 37 1\n",
            "1 38 703 8436 73815 501942 2760681 12620256 48903492 163011640 472733756 1203322288 2707475148 5414950296 9669554100 15471286560 22239974430 28781143380 33578000610 35345263800 33578000610 28781143380 22239974430 15471286560 9669554100 5414950296 2707475148 1203322288 472733756 163011640 48903492 12620256 2760681 501942 73815 8436 703 38 1\n",
            "1 39 741 9139 82251 575757 3262623 15380937 61523748 211915132 635745396 1676056044 3910797436 8122425444 15084504396 25140840660 37711260990 51021117810 62359143990 68923264410 68923264410 62359143990 51021117810 37711260990 25140840660 15084504396 8122425444 3910797436 1676056044 635745396 211915132 61523748 15380937 3262623 575757 82251 9139 741 39 1\n",
            "1 40 780 9880 91390 658008 3838380 18643560 76904685 273438880 847660528 2311801440 5586853480 12033222880 23206929840 40225345056 62852101650 88732378800 113380261800 131282408400 137846528820 131282408400 113380261800 88732378800 62852101650 40225345056 23206929840 12033222880 5586853480 2311801440 847660528 273438880 76904685 18643560 3838380 658008 91390 9880 780 40 1\n"
          ],
          "name": "stdout"
        }
      ]
    },
    {
      "cell_type": "code",
      "metadata": {
        "id": "QSsrchIyQe9t",
        "outputId": "9ca39328-d8de-46c8-9e23-16f7ec6779f3",
        "colab": {
          "base_uri": "https://localhost:8080/"
        }
      },
      "source": [
        "draw_pascals_triangle(19, str, lambda x: print(center(x, 101)))"
      ],
      "execution_count": 5,
      "outputs": [
        {
          "output_type": "stream",
          "text": [
            "First 19 rows of Pascal's triangle:\n",
            "                                                  1                                                  \n",
            "                                                 1 1                                                 \n",
            "                                                1 2 1                                                \n",
            "                                               1 3 3 1                                               \n",
            "                                              1 4 6 4 1                                              \n",
            "                                            1 5 10 10 5 1                                            \n",
            "                                          1 6 15 20 15 6 1                                          \n",
            "                                         1 7 21 35 35 21 7 1                                         \n",
            "                                       1 8 28 56 70 56 28 8 1                                       \n",
            "                                     1 9 36 84 126 126 84 36 9 1                                     \n",
            "                                 1 10 45 120 210 252 210 120 45 10 1                                 \n",
            "                               1 11 55 165 330 462 462 330 165 55 11 1                               \n",
            "                             1 12 66 220 495 792 924 792 495 220 66 12 1                             \n",
            "                         1 13 78 286 715 1287 1716 1716 1287 715 286 78 13 1                         \n",
            "                     1 14 91 364 1001 2002 3003 3432 3003 2002 1001 364 91 14 1                     \n",
            "                  1 15 105 455 1365 3003 5005 6435 6435 5005 3003 1365 455 105 15 1                  \n",
            "              1 16 120 560 1820 4368 8008 11440 12870 11440 8008 4368 1820 560 120 16 1              \n",
            "          1 17 136 680 2380 6188 12376 19448 24310 24310 19448 12376 6188 2380 680 136 17 1          \n",
            "       1 18 153 816 3060 8568 18564 31824 43758 48620 43758 31824 18564 8568 3060 816 153 18 1       \n",
            "   1 19 171 969 3876 11628 27132 50388 75582 92378 92378 75582 50388 27132 11628 3876 969 171 19 1   \n"
          ],
          "name": "stdout"
        }
      ]
    },
    {
      "cell_type": "code",
      "metadata": {
        "id": "zxR4EmwoQe9t",
        "outputId": "f3c837d1-558d-4877-c5ff-16cadcd5bb40",
        "colab": {
          "base_uri": "https://localhost:8080/"
        }
      },
      "source": [
        "draw_pascals_triangle(32, lambda k:str(k % 2), lambda x: print(center(x, 75)))"
      ],
      "execution_count": 6,
      "outputs": [
        {
          "output_type": "stream",
          "text": [
            "First 32 rows of Pascal's triangle:\n",
            "                                     1                                     \n",
            "                                    1 1                                    \n",
            "                                   1 0 1                                   \n",
            "                                  1 1 1 1                                  \n",
            "                                 1 0 0 0 1                                 \n",
            "                                1 1 0 0 1 1                                \n",
            "                               1 0 1 0 1 0 1                               \n",
            "                              1 1 1 1 1 1 1 1                              \n",
            "                             1 0 0 0 0 0 0 0 1                             \n",
            "                            1 1 0 0 0 0 0 0 1 1                            \n",
            "                           1 0 1 0 0 0 0 0 1 0 1                           \n",
            "                          1 1 1 1 0 0 0 0 1 1 1 1                          \n",
            "                         1 0 0 0 1 0 0 0 1 0 0 0 1                         \n",
            "                        1 1 0 0 1 1 0 0 1 1 0 0 1 1                        \n",
            "                       1 0 1 0 1 0 1 0 1 0 1 0 1 0 1                       \n",
            "                      1 1 1 1 1 1 1 1 1 1 1 1 1 1 1 1                      \n",
            "                     1 0 0 0 0 0 0 0 0 0 0 0 0 0 0 0 1                     \n",
            "                    1 1 0 0 0 0 0 0 0 0 0 0 0 0 0 0 1 1                    \n",
            "                   1 0 1 0 0 0 0 0 0 0 0 0 0 0 0 0 1 0 1                   \n",
            "                  1 1 1 1 0 0 0 0 0 0 0 0 0 0 0 0 1 1 1 1                  \n",
            "                 1 0 0 0 1 0 0 0 0 0 0 0 0 0 0 0 1 0 0 0 1                 \n",
            "                1 1 0 0 1 1 0 0 0 0 0 0 0 0 0 0 1 1 0 0 1 1                \n",
            "               1 0 1 0 1 0 1 0 0 0 0 0 0 0 0 0 1 0 1 0 1 0 1               \n",
            "              1 1 1 1 1 1 1 1 0 0 0 0 0 0 0 0 1 1 1 1 1 1 1 1              \n",
            "             1 0 0 0 0 0 0 0 1 0 0 0 0 0 0 0 1 0 0 0 0 0 0 0 1             \n",
            "            1 1 0 0 0 0 0 0 1 1 0 0 0 0 0 0 1 1 0 0 0 0 0 0 1 1            \n",
            "           1 0 1 0 0 0 0 0 1 0 1 0 0 0 0 0 1 0 1 0 0 0 0 0 1 0 1           \n",
            "          1 1 1 1 0 0 0 0 1 1 1 1 0 0 0 0 1 1 1 1 0 0 0 0 1 1 1 1          \n",
            "         1 0 0 0 1 0 0 0 1 0 0 0 1 0 0 0 1 0 0 0 1 0 0 0 1 0 0 0 1         \n",
            "        1 1 0 0 1 1 0 0 1 1 0 0 1 1 0 0 1 1 0 0 1 1 0 0 1 1 0 0 1 1        \n",
            "       1 0 1 0 1 0 1 0 1 0 1 0 1 0 1 0 1 0 1 0 1 0 1 0 1 0 1 0 1 0 1       \n",
            "      1 1 1 1 1 1 1 1 1 1 1 1 1 1 1 1 1 1 1 1 1 1 1 1 1 1 1 1 1 1 1 1      \n",
            "     1 0 0 0 0 0 0 0 0 0 0 0 0 0 0 0 0 0 0 0 0 0 0 0 0 0 0 0 0 0 0 0 1     \n"
          ],
          "name": "stdout"
        }
      ]
    },
    {
      "cell_type": "code",
      "metadata": {
        "id": "_J8xjXpMQe9u",
        "outputId": "ef88769f-2c54-4e87-d0a7-b87bfc5bffaa",
        "colab": {
          "base_uri": "https://localhost:8080/"
        }
      },
      "source": [
        "draw_pascals_triangle(31, lambda k:'1' if k % 2 else ' ', lambda x: print(center(x, 75)))"
      ],
      "execution_count": 7,
      "outputs": [
        {
          "output_type": "stream",
          "text": [
            "First 31 rows of Pascal's triangle:\n",
            "                                     1                                     \n",
            "                                    1 1                                    \n",
            "                                   1   1                                   \n",
            "                                  1 1 1 1                                  \n",
            "                                 1       1                                 \n",
            "                                1 1     1 1                                \n",
            "                               1   1   1   1                               \n",
            "                              1 1 1 1 1 1 1 1                              \n",
            "                             1               1                             \n",
            "                            1 1             1 1                            \n",
            "                           1   1           1   1                           \n",
            "                          1 1 1 1         1 1 1 1                          \n",
            "                         1       1       1       1                         \n",
            "                        1 1     1 1     1 1     1 1                        \n",
            "                       1   1   1   1   1   1   1   1                       \n",
            "                      1 1 1 1 1 1 1 1 1 1 1 1 1 1 1 1                      \n",
            "                     1                               1                     \n",
            "                    1 1                             1 1                    \n",
            "                   1   1                           1   1                   \n",
            "                  1 1 1 1                         1 1 1 1                  \n",
            "                 1       1                       1       1                 \n",
            "                1 1     1 1                     1 1     1 1                \n",
            "               1   1   1   1                   1   1   1   1               \n",
            "              1 1 1 1 1 1 1 1                 1 1 1 1 1 1 1 1              \n",
            "             1               1               1               1             \n",
            "            1 1             1 1             1 1             1 1            \n",
            "           1   1           1   1           1   1           1   1           \n",
            "          1 1 1 1         1 1 1 1         1 1 1 1         1 1 1 1          \n",
            "         1       1       1       1       1       1       1       1         \n",
            "        1 1     1 1     1 1     1 1     1 1     1 1     1 1     1 1        \n",
            "       1   1   1   1   1   1   1   1   1   1   1   1   1   1   1   1       \n",
            "      1 1 1 1 1 1 1 1 1 1 1 1 1 1 1 1 1 1 1 1 1 1 1 1 1 1 1 1 1 1 1 1      \n"
          ],
          "name": "stdout"
        }
      ]
    },
    {
      "cell_type": "markdown",
      "metadata": {
        "id": "qIivcpcOQe9u"
      },
      "source": [
        "## Predominant and Fundamental\n",
        "The predominant pattern, the fundamental symmetry in Pascal's triangle is captured by the identity:\n",
        "$${n \\choose k} = {n \\choose n - k}$$\n",
        "\n",
        "### Algebraic Proof\n",
        "   $${n \\choose k} = \\frac{n!}{k!(n - k)!} = \\frac{n!}{(n - k)!k!} = {n \\choose n - k}$$\n",
        "\n",
        "### Combinatorial Proof\n",
        "   Choosing $k$ things out of $n$ is the same as choosing the $n - k$ things out of $n$\n",
        "   *not to choose* --- as in choosing which $n - k$ things to leave behind.\n",
        "\n",
        "## Identify Identities\n",
        "These two identities point out the same \"Hockey Stick\" pattern in Pascal's triangle.\n",
        "\n",
        "### Identity 1\n",
        "For nonnegative integers $r$ and $n$:\n",
        "$$\\sum^n_{k=0} {r+k \\choose k} = {r+n+1 \\choose n}$$\n",
        "### Identity 2\n",
        "For nonnegative integers $m$ and $n$:\n",
        "$$\\sum^n_{k=0} {k \\choose m} = {n+1 \\choose m+1}$$\n",
        "\n",
        "When $m = 1$ we have a special case:\n",
        "$${0 \\choose 1} + {1 \\choose 1} + \\dots + {n \\choose 1} = {n + 1 \\choose 2} = \\frac{(n + 1)n}{2}.$$\n",
        "\n",
        "What is this sequence of partial sums called?\n",
        "\n",
        "#### What is the sum of the first few squares?\n",
        "\n",
        "First, observe that:\n",
        "$$k^2 = 2{k \\choose 2} + {k \\choose 1}$$\n",
        "\n",
        "Expand with the \"n choose k\" formula:\n",
        "$$k^2 = 2(k)(k - 1)/2 + k = k(k - 1) + k = k^2 + k - k = k^2$$\n",
        "\n",
        "Now sum both sides from 0 to $n$, and simplify:\n",
        "$$\\sum_{k = 0}^n k^2 = \\sum_{k = 0}^n \\left(2{k \\choose 2} + {k \\choose 1}\\right)$$\n",
        "\n",
        "$$\\sum_{k = 0}^n k^2 = \\sum_{k = 0}^n 2{k \\choose 2} + \\sum_{k = 0}^n {k \\choose 1}$$\n",
        "\n",
        "$$\\sum_{k = 0}^n k^2 = 2 \\cdot \\sum_{k = 0}^n {k \\choose 2} + \\sum_{k = 0}^n {k \\choose 1}$$\n",
        "\n",
        "$$\\sum_{k = 0}^n k^2 = 2 \\cdot {n + 1 \\choose 3} + {n + 1 \\choose 2}$$\n",
        "\n",
        "$$\\sum_{k = 0}^n k^2 = 2\\frac{(n + 1)n(n - 1)}{6} + \\frac{(n + 1)n}{2}$$\n",
        "\n",
        "$$\\sum_{k = 0}^n k^2 = \\frac{2(n + 1)n(n - 1) + 3(n + 1)n}{6}$$\n",
        "\n",
        "$$\\sum_{k = 0}^n k^2 = \\frac{(n + 1)n(2(n - 1) + 3)}{6}$$\n",
        "\n",
        "$$\\sum_{k = 0}^n k^2 = \\frac{n(n + 1)(2n + 1)}{6}$$\n",
        "\n",
        "\n",
        "\n",
        "\n"
      ]
    },
    {
      "cell_type": "markdown",
      "metadata": {
        "id": "9y9Uv66UQe9v"
      },
      "source": [
        "## Validate the Hexagon Identity\n",
        "Suppose that $k$ and $n$ are integers with $1 \\le k \\le n$. Argue using the \"n choose k\" formula and algebra for the validity of this identity relating terms in Pascal's triangle that form a hexagon:"
      ]
    },
    {
      "cell_type": "markdown",
      "metadata": {
        "id": "8LcUE_HQQe9v"
      },
      "source": [
        "$${n - 1 \\choose k - 1}{n \\choose k + 1}{n + 1 \\choose k} = {n - 1 \\choose k}{n \\choose k - 1}{n + 1 \\choose k + 1}$$"
      ]
    },
    {
      "cell_type": "code",
      "metadata": {
        "id": "jPRCJ8bHQe9v",
        "outputId": "2f0ae141-9792-4fa8-aa78-a46504010ff8",
        "colab": {
          "base_uri": "https://localhost:8080/"
        }
      },
      "source": [
        "n = 8\n",
        "k = 2\n",
        "print((n - 1) * 36 * 56, '=', 21 * n * 84)"
      ],
      "execution_count": 8,
      "outputs": [
        {
          "output_type": "stream",
          "text": [
            "14112 = 14112\n"
          ],
          "name": "stdout"
        }
      ]
    },
    {
      "cell_type": "markdown",
      "metadata": {
        "id": "Dr8ayv9XQe9w"
      },
      "source": [
        "$$\\frac{(n-1)!}{(k-1)!(n-1-(k-1))!} \\times \\frac{(n)!}{(k+1)!(n-(k+1))!} \\times \\frac{(n+1)!}{(k!)(n+1-k)!} =$$\n",
        "\n"
      ]
    },
    {
      "cell_type": "markdown",
      "metadata": {
        "id": "VKp11SFgQe9w"
      },
      "source": [
        "$$\\frac{(n-1)!}{(k)!(n-1-k)!} \\times \\frac{(n)!}{(k-1)!(n-(k-1))!} \\times \\frac{(n+1)!}{(k+1)!(n+1-(k+1))!}$$"
      ]
    },
    {
      "cell_type": "markdown",
      "metadata": {
        "id": "v0p0ozByQe9w"
      },
      "source": [
        "# Investigate A Possible Relationship\n",
        "Does any row in Pascal's Triangle have the Fibonacci numbers' relationship between three consecutive entries? In other words, where x, y, and z are three consecutive entries in a single row, does x + y = z?\n",
        "\n",
        "  The number of rows where this relationship could possibly hold is:\n",
        "  - [ ] Zero.\n",
        "  - [X] At least one.\n",
        "  - [ ] At most one.\n",
        "  - [ ] Exactly one.\n",
        "  - [ ] It cannot be determined."
      ]
    },
    {
      "cell_type": "markdown",
      "metadata": {
        "id": "PftBt9nfQe9w"
      },
      "source": [
        "  If you express the Fibonacci relationship\n",
        "  $${n \\choose k} + {n \\choose k + 1} = {n \\choose k + 2}$$\n",
        "  in terms of factorials, and then simplify the equation, you'll get\n",
        "\n",
        "  $$k^2 - 3nk + (n^2 - 3n - 2) = 0$$\n",
        "\n",
        "  which you can solve for $k$ for any given $n$ using the quadratic formula. As the\n",
        "  code below shows, there are six solutions in the first 1000000 rows:\n"
      ]
    },
    {
      "cell_type": "code",
      "metadata": {
        "id": "_aNbzw1VQe9x",
        "outputId": "247c8d38-ea82-4827-cee8-5c2b919196a7",
        "colab": {
          "base_uri": "https://localhost:8080/",
          "height": 395
        }
      },
      "source": [
        "from math import isqrt\n",
        "\n",
        "def find_square_root_if_is_perfect_square(x):\n",
        "    sr = isqrt(x)\n",
        "    perfect = (x == sr * sr)\n",
        "    return perfect and sr\n",
        "\n",
        "def find_k(b, s):\n",
        "    return (b + s) // 2 if (b - s) % 2 else (b - s) // 2\n",
        "\n",
        "def find_fib_starting_at_row_n_col_k(max_n):\n",
        "    for n in range(2, max_n + 1):\n",
        "        b = 3 * n\n",
        "        d = (b * b) - (4 * (n * n - b - 2))\n",
        "        s = find_square_root_if_is_perfect_square(d)\n",
        "        if s:\n",
        "            print(f\"{n:6} {find_k(b, s):5}\")\n",
        "\n",
        "find_fib_starting_at_row_n_col_k(1000000)"
      ],
      "execution_count": 2,
      "outputs": [
        {
          "output_type": "error",
          "ename": "ImportError",
          "evalue": "ignored",
          "traceback": [
            "\u001b[0;31m---------------------------------------------------------------------------\u001b[0m",
            "\u001b[0;31mImportError\u001b[0m                               Traceback (most recent call last)",
            "\u001b[0;32m<ipython-input-2-94a20339ca3b>\u001b[0m in \u001b[0;36m<module>\u001b[0;34m()\u001b[0m\n\u001b[0;32m----> 1\u001b[0;31m \u001b[0;32mfrom\u001b[0m \u001b[0mmath\u001b[0m \u001b[0;32mimport\u001b[0m \u001b[0misqrt\u001b[0m\u001b[0;34m\u001b[0m\u001b[0;34m\u001b[0m\u001b[0m\n\u001b[0m\u001b[1;32m      2\u001b[0m \u001b[0;34m\u001b[0m\u001b[0m\n\u001b[1;32m      3\u001b[0m \u001b[0;32mdef\u001b[0m \u001b[0mfind_square_root_if_is_perfect_square\u001b[0m\u001b[0;34m(\u001b[0m\u001b[0mx\u001b[0m\u001b[0;34m)\u001b[0m\u001b[0;34m:\u001b[0m\u001b[0;34m\u001b[0m\u001b[0;34m\u001b[0m\u001b[0m\n\u001b[1;32m      4\u001b[0m     \u001b[0msr\u001b[0m \u001b[0;34m=\u001b[0m \u001b[0misqrt\u001b[0m\u001b[0;34m(\u001b[0m\u001b[0mx\u001b[0m\u001b[0;34m)\u001b[0m\u001b[0;34m\u001b[0m\u001b[0;34m\u001b[0m\u001b[0m\n\u001b[1;32m      5\u001b[0m     \u001b[0mperfect\u001b[0m \u001b[0;34m=\u001b[0m \u001b[0;34m(\u001b[0m\u001b[0mx\u001b[0m \u001b[0;34m==\u001b[0m \u001b[0msr\u001b[0m \u001b[0;34m*\u001b[0m \u001b[0msr\u001b[0m\u001b[0;34m)\u001b[0m\u001b[0;34m\u001b[0m\u001b[0;34m\u001b[0m\u001b[0m\n",
            "\u001b[0;31mImportError\u001b[0m: cannot import name 'isqrt'",
            "",
            "\u001b[0;31m---------------------------------------------------------------------------\u001b[0;32m\nNOTE: If your import is failing due to a missing package, you can\nmanually install dependencies using either !pip or !apt.\n\nTo view examples of installing some common dependencies, click the\n\"Open Examples\" button below.\n\u001b[0;31m---------------------------------------------------------------------------\u001b[0m\n"
          ]
        }
      ]
    },
    {
      "cell_type": "markdown",
      "metadata": {
        "id": "d-VZaXeQQe9x"
      },
      "source": [
        "# Investigate Another Possible Relationship\n",
        "Does any row in Pascal's Triangle have three consecutive entries in the ratio 1:2:3? (12:24:36 is an example of three numbers in a 1:2:3 ratio.)?\n",
        "\n",
        "  The number of rows where this relationship could possibly hold is:\n",
        "  - [ ] Zero.\n",
        "  - [ ] At least one.\n",
        "  - [ ] At most one.\n",
        "  - [X] Exactly one.\n",
        "  - [ ] It cannot be determined."
      ]
    },
    {
      "cell_type": "markdown",
      "metadata": {
        "id": "xtk33yIXQe9x"
      },
      "source": [
        "Unlike the last problem,\n",
        "$${n \\choose k + 1} = 2 \\times {n \\choose k}$$\n",
        "and\n",
        "$${n \\choose k + 2} = 3 \\times {n \\choose k}$$\n",
        "\n",
        "when expressed in factorials and simplified give you two equations:\n",
        "\n",
        "$$n = 3k + 2$$\n",
        "and\n",
        "$$k^2 - 3k - 4 = 0$$\n",
        "or\n",
        "$$(k - 4)(k + 1) = 0.$$\n",
        "\n",
        "Taking the positive root gives the *one and only* solution: $k = 4, n = 14$."
      ]
    },
    {
      "cell_type": "markdown",
      "metadata": {
        "id": "xUt2aUcCR3EC"
      },
      "source": [
        "# Grading Notes\r\n",
        "You seem to be using functions too new for Colab. See below."
      ]
    },
    {
      "cell_type": "code",
      "metadata": {
        "id": "pUUgr68SSZA8",
        "outputId": "1551fd2c-9ae0-4511-a64f-90fd4ae854ea",
        "colab": {
          "base_uri": "https://localhost:8080/"
        }
      },
      "source": [
        "!python --version"
      ],
      "execution_count": 10,
      "outputs": [
        {
          "output_type": "stream",
          "text": [
            "Python 3.6.9\n"
          ],
          "name": "stdout"
        }
      ]
    },
    {
      "cell_type": "markdown",
      "metadata": {
        "id": "Q6YCnWFQSdVS"
      },
      "source": [
        "See how the [docs](https://docs.python.org/3/library/math.html) say the `isqrt` function is \"New in version 3.8.\"? Take these things into account in the futue. I'll make sure everyone knows how to fix this when we figure it out."
      ]
    },
    {
      "cell_type": "code",
      "metadata": {
        "id": "cu_6dCy4WZ4f"
      },
      "source": [
        ""
      ],
      "execution_count": null,
      "outputs": []
    }
  ]
}