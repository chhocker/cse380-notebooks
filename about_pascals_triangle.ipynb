{
 "cells": [
  {
   "cell_type": "markdown",
   "metadata": {},
   "source": [
    "# About Pascal’s Triangle\n",
    "## Class Directed Learning\n",
    "### Due: Tuesday, 2 February 2021, 11:59 pm"
   ]
  },
  {
   "cell_type": "markdown",
   "metadata": {},
   "source": [
    "## A Helper Function\n",
    "Exercise 253 on page 161 shows a recursive definition of `nCk`. Here's a much more efficient way to compute binomial coefficients, which perhaps you can profitably use in your investigations:\n"
   ]
  },
  {
   "cell_type": "code",
   "execution_count": 1,
   "metadata": {},
   "outputs": [],
   "source": [
    "from math import gcd\n",
    "\n",
    "def nCk(n, k):\n",
    "    if k < 0 or k > n:\n",
    "        return 0\n",
    "    else:\n",
    "        result = 1\n",
    "        d = 1\n",
    "        g = 1\n",
    "        m = min(k, n - k)\n",
    "        while (d <= m):\n",
    "            g = gcd(result, d)\n",
    "            result = n * (result // g)\n",
    "            result = (result // (d // g))\n",
    "            n -= 1\n",
    "            d += 1\n",
    "    return result"
   ]
  },
  {
   "cell_type": "markdown",
   "metadata": {},
   "source": [
    "## Predominant and Fundamental\n",
    "The predominant pattern, the fundamental symmetry in Pascal's triangle is captured by the identity:\n",
    "$${n \\choose k} = {n \\choose n - k}$$\n",
    "## Identify Identities\n",
    "Here are two different identities that point out the same pattern in Pascal's triangle. What is the name of this pattern?\n",
    "### The hockey-stick identities!\n",
    "If you go down the diagonal, and then over one, the numbers on the diagonal sum to the over-one number (which is a triangular number).\n",
    "### Identity 1\n",
    "For nonnegative integers $r$ and $n$:\n",
    "$$\\sum^n_{k=0} {r+k \\choose k} = {r+n+1 \\choose n}$$\n",
    "### Identity 2--Hexagon Identity\n",
    "For nonnegative integers $m$ and $n$:\n",
    "$$\\sum^n_{k=0} {k \\choose m} = {n+1 \\choose m+1}$$"
   ]
  },
  {
   "cell_type": "markdown",
   "metadata": {},
   "source": [
    "# Investigate A Possible Relationship\n",
    "Does any row in Pascal's Triangle have the Fibonacci numbers' relationship between three consecutive entries? In other words, where x, y, and z are three consecutive entries in a single row, does x + y = z?\n",
    "\n",
    "  The number of rows where this relationship could possibly hold is:\n",
    "  - [ ] Zero.\n",
    "  - [X] At least one.\n",
    "  - [ ] At most one.\n",
    "  - [ ] Exactly one.\n",
    "  - [ ] It cannot be determined."
   ]
  },
  {
   "cell_type": "markdown",
   "metadata": {},
   "source": [
    "### At least one\n",
    "    \n",
    "We must answer the question: does this hold true?\n",
    "$${n \\choose k} + {n \\choose k + 1} = {n \\choose k + 2}$$\n",
    "\n",
    "Well, let's do some math!\n",
    "\n",
    "The above equation equals:\n",
    "\n",
    "$$\\frac{n!}{k!(n - k)!} + \\frac{n!}{(n - (k + 1))!(k + 1)!} = \\frac{n!}{(k+2)!(n - (k+2))!}$$\n",
    "\n",
    "This, after a bunch of multiplying and dividing and simplifying, leads to:\n",
    "$$k^2 - 3nk + n^2 - 3n - 2 = 0$$\n",
    "\n",
    "If we treat \n",
    "$$n^2 - 3n - 2$$\n",
    "like a constant, we can use the quadtratic formula for different $k$ values, and then we will be able to find what we need.\n",
    "\n",
    "$$k = \\frac{3n \\pm \\sqrt{(-3n)^2 - 4(1)(n^2 - 3n - 2)}}{2(1)}$$\n",
    "\n",
    "When the right side of this equation is an integer, we find the correct $k$ for the $n$.\n"
   ]
  },
  {
   "cell_type": "code",
   "execution_count": null,
   "metadata": {},
   "outputs": [],
   "source": [
    "def find_fib(row):\n",
    "    return (3*row + sqrt((-3n)**2 - 4*(n**2 - 3*n - 2)))/2"
   ]
  },
  {
   "cell_type": "markdown",
   "metadata": {},
   "source": [
    "# Investigate Another Possible Relationship\n",
    "Does any row in Pascal's Triangle have three consecutive entries in the ratio 1:2:3? (12:24:36 is an example of three numbers in a 1:2:3 ratio.)?\n",
    "\n",
    "  The number of rows where this relationship could possibly hold is:\n",
    "  - [ ] Zero.\n",
    "  - [ ] At least one.\n",
    "  - [ ] At most one.\n",
    "  - [X] Exactly one.\n",
    "  - [ ] It cannot be determined."
   ]
  },
  {
   "cell_type": "markdown",
   "metadata": {},
   "source": [
    "### Exactly one\n",
    "    \n",
    "We must answer the question: When can this be true?\n",
    "$$ 2 \\times {n \\choose k} = {n \\choose k + 1} $$\n",
    "and\n",
    "$$ 3 \\times {n \\choose k} = {n \\choose k + 2} $$\n"
   ]
  },
  {
   "cell_type": "code",
   "execution_count": null,
   "metadata": {},
   "outputs": [],
   "source": []
  }
 ],
 "metadata": {
  "kernelspec": {
   "display_name": "Python 3",
   "language": "python",
   "name": "python3"
  },
  "language_info": {
   "codemirror_mode": {
    "name": "ipython",
    "version": 3
   },
   "file_extension": ".py",
   "mimetype": "text/x-python",
   "name": "python",
   "nbconvert_exporter": "python",
   "pygments_lexer": "ipython3",
   "version": "3.6.9"
  }
 },
 "nbformat": 4,
 "nbformat_minor": 4
}