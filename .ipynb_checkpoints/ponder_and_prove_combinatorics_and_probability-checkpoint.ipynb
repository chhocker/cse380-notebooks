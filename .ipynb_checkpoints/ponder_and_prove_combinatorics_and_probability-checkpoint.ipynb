{
 "cells": [
  {
   "cell_type": "markdown",
   "metadata": {},
   "source": [
    "# Ponder and Prove Combinatorics and Probability\n",
    "#### Due: Saturday, 6 February 2021, 11:59 pm."
   ]
  },
  {
   "cell_type": "markdown",
   "metadata": {},
   "source": [
    "## #1 Conjecture\n",
    "\n",
    "A number-theoretic conjecture of combinatorial significance is the following:\n",
    "\n",
    "$degree2({2n \\choose n}) =$ the \"bits-on count\" (or population count, or Hamming weight) of $n$.\n",
    "\n",
    "$degree2(m)$ is defined as the number (degree, exponent) of 2's in the prime factorization of $m$.\n",
    "\n",
    "In other words, for any $m$, a positive integer, $m = 2^e \\cdot o$ where $o$ is an odd positive integer (could be 1) and $e$ is a natural number, including zero --- which would be the case when $m$ is odd. It's the $e$ that is the $degree2$ of $m$.\n",
    "\n",
    "Another way to state this conjecture is that the number of 1's in the binary expansion of $n$ for positive integer $n$ is equal to the number of 2's in the prime factorization of ${2n \\choose n}$.\n",
    "\n",
    "Your task is to write Python code to test this conjecture for as many positive integers as you can. See the self-assessment for more details.\n",
    "\n",
    "Note: a `bitsoncount` function can be a one-liner in Python: `return bin(x).count('1')`\n",
    "\n"
   ]
  },
  {
   "cell_type": "code",
   "execution_count": 27,
   "metadata": {},
   "outputs": [],
   "source": [
    "from math import factorial as fact\n",
    "from math import e\n",
    "import datetime"
   ]
  },
  {
   "cell_type": "code",
   "execution_count": 28,
   "metadata": {},
   "outputs": [],
   "source": [
    "from math import gcd\n",
    "\n",
    "def nCk(n, k):\n",
    "    if k < 0 or k > n:\n",
    "        return 0\n",
    "    else:\n",
    "        result = 1\n",
    "        d = 1\n",
    "        g = 1\n",
    "        m = min(k, n - k)\n",
    "        while (d <= m):\n",
    "            g = gcd(result, d)\n",
    "            result = n * (result // g)\n",
    "            result = (result // (d // g))\n",
    "            n -= 1\n",
    "            d += 1\n",
    "    return result"
   ]
  },
  {
   "cell_type": "code",
   "execution_count": 29,
   "metadata": {},
   "outputs": [],
   "source": [
    "def bits_on_count(n):\n",
    "    return bin(n).count('1')\n",
    "\n",
    "# Function to return the count of times 2 \n",
    "# appears in the prime factors of n\n",
    "def get_num_twos(n):\n",
    "    prime = 2 # The prime we are looking for\n",
    "    count = 0 \n",
    "    val = prime\n",
    "    while (True): \n",
    "        # Number of values in n that are divisible by val \n",
    "        a = n // val\n",
    "        # Number of values in n - 1 that are divisible by val\n",
    "        b = (n - 1) // val\n",
    "        # Increment the power of the val \n",
    "        val *= prime\n",
    "        # (a - b) is the count of numbers in n that are divisible by val\n",
    "        if (a - b): \n",
    "            count += (a - b)\n",
    "            # No values that are divisible by val\n",
    "            # thus exiting from the loop \n",
    "        else:\n",
    "            break\n",
    "    return int(count);\n",
    "\n",
    "\n",
    "def test_conjecture(n):\n",
    "    return bits_on_count(n) == get_num_twos(nCk(2*n, n))\n"
   ]
  },
  {
   "cell_type": "code",
   "execution_count": 38,
   "metadata": {},
   "outputs": [
    {
     "name": "stdout",
     "output_type": "stream",
     "text": [
      "Verified up to 1624 at 2021-02-04 16:19:27.940728\n"
     ]
    }
   ],
   "source": [
    "n = 1\n",
    "try:\n",
    "    while test_conjecture(n):\n",
    "        n += 1\n",
    "except:\n",
    "    print('Verified up to ' + str(n) + ' at ' + str(datetime.datetime.now()))"
   ]
  },
  {
   "cell_type": "code",
   "execution_count": 37,
   "metadata": {},
   "outputs": [
    {
     "name": "stdout",
     "output_type": "stream",
     "text": [
      "Wall time: 0 ns\n"
     ]
    },
    {
     "data": {
      "text/plain": [
       "<function __main__.time_it()>"
      ]
     },
     "execution_count": 37,
     "metadata": {},
     "output_type": "execute_result"
    }
   ],
   "source": []
  },
  {
   "cell_type": "markdown",
   "metadata": {},
   "source": [
    "## #2 Basic Probability Theory Question\n",
    "A dark room contains two barrels. The first barrel is filled with green marbles, the second is filled with a half-and-half mixture of green and blue marbles. So there's a 100% chance of choosing a green marble from the first barrel, and a 50% chance of choosing either color in the second barrel. You reach into one of the barrels (it's dark so you don't know which one) and select a marble at random. It's green. You select another. It's green too. You select a third, a fourth, a fifth, etc. Green each time. What is the *minimum* number of marbles you need to select to *exceed* a probability of 99% that you are picking them out of the all-green barrel? (Note that there are enough marbles so that the answer does not depend on how many marbles are in the second barrel.)\n"
   ]
  },
  {
   "cell_type": "code",
   "execution_count": 10,
   "metadata": {},
   "outputs": [
    {
     "name": "stdout",
     "output_type": "stream",
     "text": [
      "Number of marbles is: 7\n",
      "Probability of being the all-green barrel: 99.21875\n"
     ]
    }
   ],
   "source": [
    "def find_num_marbles():\n",
    "    prob = 0\n",
    "    num_marbles = 0\n",
    "    while (prob < 0.99):\n",
    "        num_marbles += 1\n",
    "        prob = 1 - ((0.5) ** num_marbles)\n",
    "    return num_marbles, prob\n",
    "\n",
    "num_marbles, prob = find_num_marbles()\n",
    "\n",
    "print(\"Number of marbles is:\", num_marbles)\n",
    "print(\"Probability of being the all-green barrel:\", prob * 100)"
   ]
  },
  {
   "cell_type": "markdown",
   "metadata": {},
   "source": [
    "### Answer: Seven Marbles\n",
    "The probability of choosing seven green marbles in a row from the half-and-half barrel is extremely unlikely (less than a 1% chance). Thus, if you choose seven green marbles from a barrel, you can be almost certain you are choosing from the all-green barrel."
   ]
  },
  {
   "cell_type": "markdown",
   "metadata": {},
   "source": [
    "## #3 A Related But Deeper Basic Probability Theory Question\n",
    "Take a deep breath. Suppose Shakespeare's account is accurate and Julius Caesar gasped \"You too, Brutus\" before breathing his last. What is the probability that you just inhaled a molecule that Julius Caesar exhaled in his dying breath?\n",
    "\n",
    "Assume that after more than two thousand years the exhaled molecules are uniformly spread about the world and the vast majority are still free in the atmosphere. Assume further that there are $10^{44}$ molecules of air in the world, and that your inhaled quantity and Caesar's exhaled quantity were each about $2.2 \\times 10^{22}$ molecules.\n",
    "### Hint\n",
    "If a number $x$ is small, then $(1 - x)$ is approximately equal to $e^{-x}$.\n"
   ]
  },
  {
   "cell_type": "code",
   "execution_count": 26,
   "metadata": {},
   "outputs": [
    {
     "name": "stdout",
     "output_type": "stream",
     "text": [
      "The probability of inhaling a molecule of Caesar's dying breath: 0.9920929459484066\n"
     ]
    }
   ],
   "source": [
    "def prob_of_shared_breath():\n",
    "    one_breath = 2.2 * 10**22\n",
    "    prob_caesar_mol = one_breath / (10 ** 44)\n",
    "    my_breath = one_breath * prob_caesar_mol\n",
    "    return 1 - (e ** (-my_breath))\n",
    "\n",
    "print(\"The probability of inhaling a molecule of Caesar's dying breath:\", prob_of_shared_breath())"
   ]
  },
  {
   "cell_type": "markdown",
   "metadata": {},
   "source": [
    "### Answer: $0.9921$ % Chance\n",
    "\n",
    "\n",
    "\n",
    "\n",
    "Source:\n",
    "https://puzzlemath.blogspot.com/2011/06/julius-caesars-last-breath.html"
   ]
  },
  {
   "cell_type": "markdown",
   "metadata": {},
   "source": [
    "## What is True?\n",
    "Assess yourself on how you did using the checkboxes below. Check a box by putting an 'X' in it only if it is warranted.\n"
   ]
  },
  {
   "cell_type": "markdown",
   "metadata": {},
   "source": [
    "### What is true of my experience in general?\n",
    "(5 points each, 15 points total)\n",
    "- [x] I had fun.\n",
    "- [ ] I learned something new.\n",
    "- [ ] I achieved something meaningful, or something I can build upon at a later time."
   ]
  },
  {
   "cell_type": "markdown",
   "metadata": {},
   "source": [
    "### What is true of my report on what I learned?\n",
    "(5 points each, 25 points total)\n",
    "- [ ] I wrote a sufficient number of well-written sentences.\n",
    "- [ ] My report is free of \"mechanical infelicities\" (misspelled words, grammatical errors, punctuation errors, etc.).\n",
    "- [ ] I reported on any connections I found between this investigation and something I already know.\n",
    "- [ ] I reported who were and what contribution each of my collaborators made.\n",
    "- [ ] I reported on how many numbers I was able to verify with a time/computation budget of 24 hours (in a row).\n"
   ]
  },
  {
   "cell_type": "markdown",
   "metadata": {},
   "source": [
    "### What is true about my answers?\n",
    "(15 points each, 60 points total)\n",
    "- [ ] I figured out how to run a Python program continuously for at least 24 hours.\n",
    "- [ ] I refrained from printing out anything except the highest number I verified, knowing that printing just slows a program down.\n",
    "- [ ] I got the right answer for the first probability theory question.\n",
    "- [ ] I got the right answer for the second probability theory question.\n"
   ]
  },
  {
   "cell_type": "code",
   "execution_count": null,
   "metadata": {},
   "outputs": [],
   "source": []
  }
 ],
 "metadata": {
  "kernelspec": {
   "display_name": "Python 3",
   "language": "python",
   "name": "python3"
  },
  "language_info": {
   "codemirror_mode": {
    "name": "ipython",
    "version": 3
   },
   "file_extension": ".py",
   "mimetype": "text/x-python",
   "name": "python",
   "nbconvert_exporter": "python",
   "pygments_lexer": "ipython3",
   "version": "3.6.9"
  }
 },
 "nbformat": 4,
 "nbformat_minor": 4
}
