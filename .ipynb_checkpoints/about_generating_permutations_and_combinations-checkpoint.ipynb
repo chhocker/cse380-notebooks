{
 "cells": [
  {
   "cell_type": "markdown",
   "metadata": {},
   "source": [
    "# About Generating Permutations and Combinations\n",
    "## Divide Pair Conquer\n",
    "### Due: Monday, 1 February 2021, 11:59pm\n"
   ]
  },
  {
   "cell_type": "markdown",
   "metadata": {},
   "source": [
    "There are many occasions when you need to *generate* the permutations or\n",
    "combinations of a set, not just count them.\n",
    "\n",
    "There are many algorithms for generating permutations and combinations --- you\n",
    "can find them if you look.\n",
    "\n",
    "For an application, from a biographical sketch about Donald Knuth by Kenneth\n",
    "Rosen, we learn that\n"
   ]
  },
  {
   "cell_type": "markdown",
   "metadata": {},
   "source": [
    "> \"Knuth grew up in Milwaukee, where his father taught bookkeeping at a Lutheran\n",
    "high school and owned a small printing business. He was an excellent student,\n",
    "earning academic achievement awards. He applied his intelligence in\n",
    "unconventional ways, winning a contest when he was in the eighth grade by\n",
    "finding as many words as possible that could be formed from the letters in\n",
    "\n",
    "---\n",
    "\n",
    "> **Ziegler's Giant Bar**.\n",
    "\n",
    "___\n",
    "\n",
    "> This won a television set for his school and a candy bar for everyone in his class.\n"
   ]
  },
  {
   "cell_type": "markdown",
   "metadata": {},
   "source": [
    "Knuth found over 4500 words. How many can **you** find?"
   ]
  },
  {
   "cell_type": "code",
   "execution_count": 17,
   "metadata": {},
   "outputs": [],
   "source": [
    "phrase = ['z','i','e','g','l','e','r','s','g','i','a','n','t','b','a','r']"
   ]
  },
  {
   "cell_type": "code",
   "execution_count": 18,
   "metadata": {},
   "outputs": [],
   "source": [
    "def load_words():\n",
    "    with open('words.txt') as word_file:\n",
    "        valid_words = set(word_file.read().split())\n",
    "\n",
    "    return valid_words"
   ]
  },
  {
   "cell_type": "code",
   "execution_count": 19,
   "metadata": {},
   "outputs": [],
   "source": [
    "dictionary = load_words()"
   ]
  },
  {
   "cell_type": "code",
   "execution_count": 20,
   "metadata": {},
   "outputs": [
    {
     "name": "stdout",
     "output_type": "stream",
     "text": [
      "5345\n"
     ]
    }
   ],
   "source": [
    "from collections import Counter\n",
    "words = []\n",
    "\n",
    "for word in dictionary:\n",
    "    if not Counter(word) - Counter(phrase):\n",
    "        words.append(word)\n",
    "\n",
    "print(len(words))"
   ]
  },
  {
   "cell_type": "code",
   "execution_count": null,
   "metadata": {},
   "outputs": [],
   "source": [
    "# Using a counter, I was able to find 5345! I found an answer on Stack Overflow about how to\n",
    "# use the Counter object. I think it is correct. "
   ]
  }
 ],
 "metadata": {
  "kernelspec": {
   "display_name": "Python 3",
   "language": "python",
   "name": "python3"
  },
  "language_info": {
   "codemirror_mode": {
    "name": "ipython",
    "version": 3
   },
   "file_extension": ".py",
   "mimetype": "text/x-python",
   "name": "python",
   "nbconvert_exporter": "python",
   "pygments_lexer": "ipython3",
   "version": "3.6.9"
  }
 },
 "nbformat": 4,
 "nbformat_minor": 4
}
