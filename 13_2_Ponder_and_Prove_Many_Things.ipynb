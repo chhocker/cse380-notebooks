{
  "nbformat": 4,
  "nbformat_minor": 0,
  "metadata": {
    "colab": {
      "name": "13_2_Ponder_and_Prove_Many_Things.ipynb",
      "provenance": [],
      "authorship_tag": "ABX9TyO8IULuqVjJlvplhZWUq5VK",
      "include_colab_link": true
    },
    "kernelspec": {
      "name": "python391jvsc74a57bd0504028bce203091079403af22faad46801a055fad573530b5c75f3f62945829a",
      "display_name": "Python 3.9.1 64-bit"
    },
    "language_info": {
      "name": "python",
      "version": "3.9.1"
    }
  },
  "cells": [
    {
      "cell_type": "markdown",
      "metadata": {
        "id": "view-in-github",
        "colab_type": "text"
      },
      "source": [
        "<a href=\"https://colab.research.google.com/github/byui-cse/cse380-notebooks/blob/master/13_2_Ponder_and_Prove_Many_Things.ipynb\" target=\"_parent\"><img src=\"https://colab.research.google.com/assets/colab-badge.svg\" alt=\"Open In Colab\"/></a>"
      ]
    },
    {
      "cell_type": "markdown",
      "metadata": {
        "id": "0GZOWnts9NAD"
      },
      "source": [
        "# Ponder and Prove Many Things\n",
        "## Claire Hocker\n",
        "### In collaboration with Daniel Strickland, Bretton Steiner, and Hannah Parker"
      ]
    },
    {
      "cell_type": "markdown",
      "metadata": {
        "id": "S5XdXGMv9dy4"
      },
      "source": [
        "### Is It Decidable?"
      ]
    },
    {
      "cell_type": "markdown",
      "metadata": {
        "id": "Gzy9wIboAVvi"
      },
      "source": [
        "#### DONE Study and run the code below."
      ]
    },
    {
      "cell_type": "markdown",
      "metadata": {
        "id": "218Qmbtx9lP6"
      },
      "source": [
        "And answer these questions:\n",
        "1. What is this program computing?\n",
        "2. How does it do it?\n",
        "3. Will it ever terminate?"
      ]
    },
    {
      "cell_type": "code",
      "metadata": {
        "id": "LfltDFaw9trA"
      },
      "source": [
        "from math import log2\n",
        "\n",
        "def you_decide():\n",
        "  flibbers = [17,78,19,23,29,77,95,77,1,11,13,15,15,55]\n",
        "  flobbers = [91,85,51,38,33,29,23,19,17,13,11,14,2,1]\n",
        "  i = 2\n",
        "  time_keeps_ticking = True\n",
        "  while time_keeps_ticking:\n",
        "    time_keeps_ticking = False\n",
        "    for n in range(len(flibbers)):\n",
        "      f = i * flibbers[n]\n",
        "      if not f % flobbers[n]:\n",
        "        i = f // flobbers[n]\n",
        "        possible_prime = log2(i)\n",
        "        if possible_prime.is_integer():\n",
        "          print(i)\n",
        "          print(int(possible_prime))\n",
        "        time_keeps_ticking = True\n",
        "        break"
      ],
      "execution_count": 12,
      "outputs": []
    },
    {
      "cell_type": "code",
      "metadata": {
        "id": "fGZ9lZCP9xWC"
      },
      "source": [
        "you_decide()"
      ],
      "execution_count": null,
      "outputs": []
    },
    {
      "source": [
        "#### Answers\n",
        "1. It is computing the prime numbers as powers of $2$ ($2^{p}$ where $p$ is prime).\n",
        "\n",
        "2. This code implements Conway's Prime-Producing Machine. (https://www.futilitycloset.com/2010/06/27/conways-prime-producing-machine/) It uses the two lists as fractions (flibber numbers are numerators, flobber numbers are denominators). We use our $i$ and find the first \"fraction\" that generates a whole number, then use that as the new $i$. When our $i$ is big enough (2 raised to a prime) we print it out.\n",
        "\n",
        "3. It will not terminate. The code checks if a number is divisible by $1$ to decide if it will go through the while loop again. Since ALL numbers are divisible by $1$, it will not stop. Over time the program's efficiency will decrease and possibly even cause the system to crash. This function can find an infinity of primes, but it is undecidable if it will find all primes.\n"
      ],
      "cell_type": "markdown",
      "metadata": {}
    },
    {
      "cell_type": "markdown",
      "metadata": {
        "id": "oqZ3784B-EyX"
      },
      "source": [
        "### Fun With Decidability\n",
        "\n",
        "#### DONE Read and Share"
      ]
    },
    {
      "cell_type": "markdown",
      "metadata": {
        "id": "i13mpSpd-O39"
      },
      "source": [
        "### Hmm . . . Interesting\n",
        "1. These problems are fascinating. The answer changes based on the input and you can't know at first whether it will halt after a few cycles or if it will continue forever.\n",
        "\n",
        "2. \". . . small changes to the input can cause our process to play out in radically different ways\" (3). This not only goes for mathematical functions and problems but also with life in general. If we put in small changes to be healthier, be more spiritual, be kinder, etc., our lives can be changed in radically different (and hopefully positive) ways!\n",
        "\n",
        "3. It is possible to prove that an answer is undecidable and these undecidable problems are everywhere. \n",
        "\n",
        "4. The Fractran program is fascinating. It is like unto the Godel hash. Each register is assigned a couple of primes and instead of a bunch of fancy instructions, just one number is needed to tell the register what to do and where to go.\n",
        "\n",
        "5. The Post Correspondence Problem is very visually appealing. I think it would be fun to make it into an actual puzzle, with top and bottom pieces and you have to make them into the complete strip by matching top and bottom.\n",
        "\n",
        "6. \"It is certainly useful to know that certain problems--at least the especially important or natural ones--will forever be beyond full mathematical analysis. . .\"(16). I agree! No matter how hard we try, some things will just need to wait until the next life.\n",
        "\n",
        "### I knew that.\n",
        "\n",
        "\n",
        "1. \"Yet there is no obvious means to determine whether the process funs forever\" (2). Upon reading about the process, I certainly didn't see (or know) a method!\n",
        "\n",
        "2. Math can be very confusing. This is something I have known forever, and reading this paper just reminded me of it again.\n",
        "\n",
        "3. It is possible to get the list of primes from a list of fractions and some simple mathematics (the problem above shows us one of these ways).\n",
        "\n",
        "4. Page 12 talks about Word Ladders, which we worked on in class. I can do that problem! (Or is it an exercise?)\n",
        "\n",
        "5. My husband plays a game similar to Wolfram's Rule 110. I have never played it, but it is white and black dots on a grid with intermittent empty spaces. You choose whether to put in a white or black dot depending on the colors of dots around it. I don't know all the rules, but it is very similar to the rules of what a spot can be based upon its neighbors.\n",
        "\n",
        "6. Mathematical systems are, indeed, relevant, abundant, and worth studying. I know this to be true!"
      ]
    },
    {
      "cell_type": "markdown",
      "metadata": {
        "id": "gjeWZ0Mo-r6E"
      },
      "source": [
        "### The Map of Mathematics\n",
        "#### DONE Watch and Share"
      ]
    },
    {
      "cell_type": "markdown",
      "metadata": {
        "id": "9WIEkJ0p-9JD"
      },
      "source": [
        "### Hmm . . . Interesting\n",
        "1. \"Other animals are able to count as well.\" I don't think I had ever heard that before!\"\n",
        "\n",
        "2. I feel like a lot of people say they hate math because they don't understand its possibilities. They only focus on the \"pure\" mathematics, not the applications and their usefulness. The pure maths just seem pointless.\n",
        "\n",
        "3. \"Anything with a two-way relationship can be ordered.\" Again, something I've never thought about but is super true. \n",
        "\n",
        "4. Fractal geometries are amazing but so trippy. The video kept zooming in on one and it was fascinating but also gave me a bit of a headache.\n",
        "\n",
        "5. Vector calculus. What is that? How does that work?\n",
        "\n",
        "6. Study of evolution is considered to be a type of mathematics.\n",
        "\n",
        "### I knew that.\n",
        "\n",
        "\n",
        "1. We only get a glimpse of all the different types and applications of mathematics in school.\n",
        "\n",
        "2. Some numbers have interesting properties. Take prime numbers, $ \\pi$, and $e$ for example! They are everywhere!\n",
        "\n",
        "3. Some infinities are bigger than others. I learned that in this class and how to prove it.\n",
        "\n",
        "4. Physics uses just about every type of pure mathematics.\n",
        "\n",
        "5. Probability is the study of random events. I know that!\n",
        "\n",
        "6. Cryptography, machine learning, and computer science are all founded on mathematics."
      ]
    },
    {
      "cell_type": "markdown",
      "metadata": {
        "id": "nfxMo9bl_TZA"
      },
      "source": [
        "### The Map of Computer Science\n",
        "\n",
        "#### DONE Watch and Share"
      ]
    },
    {
      "cell_type": "markdown",
      "metadata": {
        "id": "zTI_XHCU_1HW"
      },
      "source": [
        "### Hmm . . . Interesting\n",
        "1. The opening line of this video is amazing. \"We build computers to expand our brains.\" I had never thought of computers in that way before, but is so true! There are things we cannot compute and cannot keep track of, but computers can. They are an extension of us. \n",
        "\n",
        "2. The Apollo mission could've been run on a couple of game consoles. I am amazed!\n",
        "\n",
        "3. The computational complexity graph looked a lot like Brother Neff's language graph (subsets and supersets)\n",
        "\n",
        "4. There are so many different subjects related to computer science. Seeing them all listed out was just mind-blowing. I wish I could study them all!\n",
        "\n",
        "5. See #4 below.\n",
        "\n",
        "6. I found the language processing bit to be fascinating! I have studied many Romance languages and I am seeking a job that will allow me to use my expertise in human languages with software work. Maybe natural language processing is the way to go!\n",
        "\n",
        "### I knew that.\n",
        "\n",
        "1. Computers, no matter how complicated, are just a bunch of 0's and 1's.\n",
        "\n",
        "2. I know what parity checking is! I learned it in my networks class. It's neat to see things I've learned on here.\n",
        "\n",
        "3. The Halting Problem--predicting whether or not a program will ever end. Some things are impossible to determine!\n",
        "\n",
        "4. \"You'll never know if it's the best answer.\" Although we should always strive for the best, sometimes we just will not be able to know if what we have written/coded IS the best. There are too many possibilities and new methods being discovered every day.\n",
        "\n",
        "5. I am in my senior year of the CS major and I am proud to say that I have studied/explored all of the fields of theoretical computer science that are mentioned in the first four minutes of the video. I can't believe it. Just a few years ago, I was a child development major and had never even heard of a compiler! I've come a long way.\n",
        "\n",
        "6. Software engineering is a type of art! You take something creative and apply logic to it. There are a bunch of rules it has to go by though, unlike some art.\n"
      ]
    },
    {
      "cell_type": "markdown",
      "metadata": {
        "id": "fPu3fWgR_3hI"
      },
      "source": [
        "### SKIP Report"
      ]
    },
    {
      "cell_type": "markdown",
      "metadata": {
        "id": "JoO9lagO_5lt"
      },
      "source": [
        "The sentences you have already (supposedly) written will suffice."
      ]
    },
    {
      "cell_type": "markdown",
      "metadata": {
        "id": "shpEERFS_87F"
      },
      "source": [
        "### SKIP Self-Assessment"
      ]
    },
    {
      "cell_type": "markdown",
      "metadata": {
        "id": "yWvKYeqc__bX"
      },
      "source": [
        "Instead, you will have ilearn peer reviews to complete."
      ]
    }
  ]
}