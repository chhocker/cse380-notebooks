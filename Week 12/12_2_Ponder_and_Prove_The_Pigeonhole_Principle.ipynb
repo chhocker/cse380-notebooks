{
  "nbformat": 4,
  "nbformat_minor": 0,
  "metadata": {
    "colab": {
      "name": "12_2_Ponder_and_Prove_The_Pigeonhole_Principle.ipynb",
      "provenance": [],
      "authorship_tag": "ABX9TyMUpDwijcJKPxnaIhDtOnTj",
      "include_colab_link": true
    },
    "kernelspec": {
      "name": "python3",
      "display_name": "Python 3",
      "language": "python"
    },
    "language_info": {
      "name": "python",
      "version": "3.9.1"
    }
  },
  "cells": [
    {
      "cell_type": "markdown",
      "metadata": {
        "id": "view-in-github",
        "colab_type": "text"
      },
      "source": [
        "<a href=\"https://colab.research.google.com/github/byui-cse/cse380-notebooks/blob/master/12_2_Ponder_and_Prove_The_Pigeonhole_Principle.ipynb\" target=\"_parent\"><img src=\"https://colab.research.google.com/assets/colab-badge.svg\" alt=\"Open In Colab\"/></a>"
      ]
    },
    {
      "cell_type": "markdown",
      "metadata": {
        "id": "ivY_Ypmxx7Vm"
      },
      "source": [
        "# Ponder and Prove The Pigeonhole Principle\n",
        "## Due: Saturday, 27 March 2021"
      ]
    },
    {
      "cell_type": "markdown",
      "metadata": {
        "id": "zF2K38sxyH5Z"
      },
      "source": [
        "## Exploration"
      ]
    },
    {
      "cell_type": "markdown",
      "metadata": {
        "id": "uBgYLYK5yJzk"
      },
      "source": [
        "You are invited to explore some of the ramifications of the *Pigeonhole Principle*, a fascinating counting principle belonging to combinatorics.\n"
      ]
    },
    {
      "cell_type": "markdown",
      "metadata": {
        "id": "cIS4n3DpyXA1"
      },
      "source": [
        "### Requirements"
      ]
    },
    {
      "cell_type": "markdown",
      "metadata": {
        "id": "FqgealMfyZc8"
      },
      "source": [
        "Read Brother Kent Bessey's essay entitled *Pigeons and Pigeonholes*, think about and explore the topics therein, and write your response thereto.\n",
        "\n",
        "Include in your response a description of a discussion about this essay that you will have had with someone *not in the class* (nor in any of the STEM majors). This person can be a spouse, friend, roommate, or relative. The point is to find someone who is not mathematically strong, and has probably never heard of the Pigeonhole Principle, or combinatorics (or discrete mathematics) in general."
      ]
    },
    {
      "cell_type": "markdown",
      "metadata": {
        "id": "aPEEcqUGzFds"
      },
      "source": [
        "#### Copyright Note"
      ]
    },
    {
      "cell_type": "markdown",
      "metadata": {
        "id": "9EPgpQ0hzHr5"
      },
      "source": [
        "Brother Kent A. Bessey, Professor of Mathematics at BYU-Idaho, holds the copyright to this essay, which means:\n",
        "\n",
        "> All rights reserved (by him). Reproduced by permission (from him).\n",
        "Read-only. Please do not copy, print, transmit or save a copy of\n",
        "this work.\n",
        "\n",
        "He has authorized your temporary use of his work, which [you can find here](https://firstthreeodds.org/17657741833134731255/pigeons-and-pigeonholes.pdf)."
      ]
    },
    {
      "cell_type": "markdown",
      "metadata": {
        "id": "vRKIt3NOzkwH"
      },
      "source": [
        "### DONE Concretize the Abstract by Writing Some Code"
      ]
    },
    {
      "cell_type": "markdown",
      "metadata": {
        "id": "ngXSoVu3znIJ"
      },
      "source": [
        "Specifically, write some Python code to help you figure out the problem on page 40, which Brother Bessey prefaces by saying:\n",
        "\n",
        "> I leave it to the reader to verify the calculations for a final (albeit challenging) exercise ...!\n",
        "\n",
        "Include the results of your grappling with this problem, and note the two stubbed functions below that you must flesh out in order to verify the calculations and explain the hows and whys."
      ]
    },
    {
      "cell_type": "markdown",
      "metadata": {
        "id": "EBQNhzqGzzIF"
      },
      "source": [
        "####  Code"
      ]
    },
    {
      "cell_type": "code",
      "metadata": {
        "id": "fCOUkHjqz10k"
      },
      "source": [
        "def calculate_number_of_possible_initials_including_middle_initial_if_any(alphabet_size):\n",
        "  return (alphabet_size ** 2) * (alphabet_size + 1)"
      ],
      "execution_count": 2,
      "outputs": []
    },
    {
      "cell_type": "code",
      "execution_count": 3,
      "metadata": {},
      "outputs": [],
      "source": [
        "def pigeonhole_from_pigeon(pigeon_represented_as_a_person_with_traits):\n",
        "\n",
        "  # The variable name is incredibly too long. This is a shorter name\n",
        "  pige = pigeon_represented_as_a_person_with_traits\n",
        "  alphabet_size = 26\n",
        "\n",
        "  # get the name of the pigeon, uh, person\n",
        "  names = (pige['Name']).split()\n",
        "  initials = names[0][0].upper()\n",
        "\n",
        "  # if the person has three names, get all initials\n",
        "  # otherwise, add a space\n",
        "  if len(names) == 3:\n",
        "    initials += names[1][0].upper() + names[2][0].upper()\n",
        "  else:\n",
        "    initials += ' ' + names[1][0].upper()\n",
        "\n",
        "  # Get the binary representations of the attributes (order matters)\n",
        "  binaries = ''\n",
        "  binary_keys = list(filter(lambda key: key != 'Name', list(pigeon.keys())))\n",
        "  for key in binary_keys:\n",
        "    binaries += '1' if pige[key] else '0'\n",
        "\n",
        "  # Assert the string is exactly 10 characters long (initials:binary)\n",
        "  string = initials + ':' + binaries\n",
        "  assert(len(string) == 10)\n",
        "\n",
        "  # Assert the cardinality of the combinations of the initials and binaries is over 1 million\n",
        "  cardinality = calculate_number_of_possible_initials_including_middle_initial_if_any(alphabet_size) * 2 ** len(binary_keys)\n",
        "  print(cardinality)\n",
        "  assert(cardinality > 1000000)\n",
        "\n",
        "  # Returns the string of initials and the string of bools (1, 0) of attributes\n",
        "  return string"
      ]
    },
    {
      "cell_type": "code",
      "execution_count": 4,
      "metadata": {},
      "outputs": [
        {
          "output_type": "stream",
          "name": "stdout",
          "text": [
            "1168128\nJ D:111001\n"
          ]
        }
      ],
      "source": [
        "pigeon = {'Name': 'John Doe', 'LDS': True, 'Likes Cats': True, 'Born Before 1967': True, 'Wears Contacts': False, 'Bites Fingernails': False, 'Lives Close': True}\n",
        "pigeonhole = pigeonhole_from_pigeon(pigeon)\n",
        "print(pigeonhole)\n"
      ]
    },
    {
      "cell_type": "code",
      "execution_count": 5,
      "metadata": {},
      "outputs": [
        {
          "output_type": "stream",
          "name": "stdout",
          "text": [
            "1168128\nCHH:100001\n"
          ]
        }
      ],
      "source": [
        "pigeon = {'Name': 'Claire Haderlie Hocker', 'LDS': True, 'Likes Cats': False, 'Born Before 1967': False, 'Wears Contacts': False, 'Bites Fingernails': False, 'Lives Close': True}\n",
        "pigeonhole = pigeonhole_from_pigeon(pigeon)\n",
        "print(pigeonhole)"
      ]
    },
    {
      "cell_type": "markdown",
      "metadata": {
        "id": "JvMpIHMF0JuM"
      },
      "source": [
        "### DONE Find Applications of the Pigeonhole Principle"
      ]
    },
    {
      "cell_type": "markdown",
      "metadata": {
        "id": "9aicPoZG0Lbj"
      },
      "source": [
        "One I found to be funny was the sock drawer problem! If I have three colors of socks and it's dark and I cannot see what colors I am picking out, I have to pull out at least four individual socks to guarantee at least one matching pair. This is useful because my husband sometimes works until 5:00 AM and I wake up at 7:00 and don't want to wake him up. I just need to grab four socks to ensure that I have a match! (Though I keep my socks in pairs anyway, so this isn't as relevant as I thought.)\n",
        "\n",
        "I think the principle can also be used to help people in social situations. Make a list of X number of things you like to talk about, then count how many people are in the room. If there are not very many, narrow down your list to just a few things. There will exist someone in that room who likes to talk about something that you do! You may think you have nothing in common, but the Pigeonhole Principle proves that you do. Just knowing that can give you the confidence to speak up and start a conversation.\n",
        "\n",
        "\n",
        "I discussed this principle with my sister, using the pigeon and the birthday examples, and she thought it was interesting, but didn't quite understand its implications. I, myself, have difficulties wrapping my mind around everything.\n",
        "\n",
        "#### Graph Stuff\n",
        "\n",
        "In any finite graph having more than one vertex, there is at least one pair of vertices that have the same degree. Say you're at a party with a certain number of people and you feel like you don't know anybody there because you only know one person. Well, it is possible that there exists someone who knows only one person too! \n",
        "\n",
        "\n",
        "For every graph $G = (V, E)$, there is a vertex partition $V = U ∪ W$ such that at least half of the edges of $G$ have one vertex in $U$ and the other in $W$.\n",
        "\n",
        "There is a tournament on $n$ vertices that has at least $2^{1−n}n! $ Hamiltonian paths. We learned about these before! \n"
      ]
    },
    {
      "source": [
        "### Sources\n",
        "\n",
        "http://cs.tsu.edu/ghemri/CS248/ClassNotes/Non_Reg_Lang.pdf\n",
        "\n",
        "https://www.ukessays.com/essays/mathematics/applications-of-the-pigeonhole-principle-mathematics-essay.php\n",
        "\n",
        "http://math.mit.edu/~goemans/18310S15/pigeonholenotes.pdf\n",
        "\n",
        "\n",
        "\n",
        "\n",
        "\n"
      ],
      "cell_type": "markdown",
      "metadata": {}
    },
    {
      "cell_type": "markdown",
      "metadata": {
        "id": "81dbKwHenxnT"
      },
      "source": [
        "## DONE My Report on What I Did and What I Learned"
      ]
    },
    {
      "cell_type": "markdown",
      "metadata": {
        "id": "C8BeiIern33B"
      },
      "source": [
        "### Fun\n"
      ]
    },
    {
      "cell_type": "markdown",
      "metadata": {
        "id": "ElukRLoezyxd"
      },
      "source": [
        "We had fun figuring out what this could be used for. Some of the examples were just so interesting, we never would've thought of them."
      ]
    },
    {
      "cell_type": "markdown",
      "metadata": {
        "id": "OzOkZ3son-u9"
      },
      "source": [
        "### New"
      ]
    },
    {
      "cell_type": "markdown",
      "metadata": {
        "id": "3-nYIdEUz4x5"
      },
      "source": [
        "I never knew that such a simple principle could have so many applications!\n",
        "\n",
        "Also, this principle is connected to the Chinese Remainder Theorem, which is super neat."
      ]
    },
    {
      "cell_type": "markdown",
      "metadata": {
        "id": "mJHvoj6GokaZ"
      },
      "source": [
        "### Meaningful\n"
      ]
    },
    {
      "cell_type": "markdown",
      "metadata": {
        "id": "XOxh3XFTz-6N"
      },
      "source": [
        "I wonder at the implications of certainty-not-chance. Proving something exists can be useful at times, but not always. I guess if you want to find a certain commonality or attribute, it might be useful to know that it DOES exist within a certain number of people in a group before you try to find it. I guess I just don't see the overall usefulness of the Pigeonhole Principle."
      ]
    },
    {
      "cell_type": "markdown",
      "metadata": {
        "id": "_RBE03fhpNUG"
      },
      "source": [
        "### Other"
      ]
    },
    {
      "cell_type": "markdown",
      "metadata": {
        "id": "d-sXEeq60C3W"
      },
      "source": [
        "Collaborators: Daniel, Bretton, and Hannah.\n",
        "\n",
        "Bretton, again, was the mastermind behind most of the code. We all collaborated to figure out what the functions were for though, and to fully understand what the super-long-named function was supposed to do."
      ]
    },
    {
      "cell_type": "markdown",
      "metadata": {
        "id": "Nrk-8EmgW4NP"
      },
      "source": [
        "## DONE What is True?\n",
        "Click on each warranted checkbox to toggle it to True (or back to False). \n",
        "\n",
        "NOTE: *This only works in Colab. If you run it in some other Jupyter notebook client/server environment you may have to change False to True (or vice versa) manually.*\n",
        "\n",
        "This self-assessment is subject to revision by a grader."
      ]
    },
    {
      "cell_type": "code",
      "metadata": {
        "id": "qGAjzgVRXR4M"
      },
      "source": [
        "#@markdown ## What is True about what I did?\n",
        "#@markdown ### I had fun.\n",
        "cb00 = True #@param {type:'boolean'}\n",
        "#@markdown ### I learned something new.\n",
        "cb01 = True #@param {type:'boolean'}\n",
        "#@markdown ### I achieved something meaningful, or something I can build upon at a later time.\n",
        "cb02 = True #@param {type:'boolean'}\n",
        "#@markdown ## What is True about my report?\n",
        "#@markdown ### I wrote a sufficient number of well-written sentences.\n",
        "cb03 = True #@param {type:'boolean'}\n",
        "#@markdown ### My report is free of mechanical infelicities.\n",
        "cb04 = True #@param {type:'boolean'}\n",
        "#@markdown ### I used Grammarly (or something better described in my report) to check for MIs.\n",
        "cb05 = True #@param {type:'boolean'}\n",
        "#@markdown ### I reported on any connections I found between these problems and something I already know. \n",
        "cb06 = True #@param {type:'boolean'}\n",
        "#@markdown ### I reported who were and what contribution each of my collaborators made.\n",
        "cb07 = True #@param {type:'boolean'}\n",
        "#@markdown ### I reported what I thought about the essay in general.\n",
        "cb08 = True #@param {type:'boolean'}\n",
        "#@markdown ### I reported what I thought about the certainty-not-chance feature of the pigeonhole principle.\n",
        "cb09 = True #@param {type:'boolean'}\n",
        "#@markdown ### I reported what I thought about the philosophical aspect of the pigeonhole principle per page 41.\n",
        "cb10 = True #@param {type:'boolean'}\n",
        "#@markdown ### I reported on how my discussion with a non-STEM non-classmate went.\n",
        "cb11 = True #@param {type:'boolean'}\n",
        "#@markdown ### I reported on how I grappled with the problem at the bottom of page 40.\n",
        "cb12 = True #@param {type:'boolean'}\n",
        "#@markdown ### I reported on the connection I found between the pigeonhole principle and graphs.\n",
        "cb13 = True #@param {type:'boolean'}\n",
        "#@markdown ## What is True about my code?\n",
        "#@markdown ### I implemented the first function (the one with the absurdly long name) in one or two lines of code.\n",
        "cb14 = True #@param {type:'boolean'}\n",
        "#@markdown ### I used either the sum rule and product rule together or else just the product rule in the first function.\n",
        "cb15 = True #@param {type:'boolean'}\n",
        "#@markdown ### The first function calculates and returns the correct value (see Exercise 250).\n",
        "cb16 = True #@param {type:'boolean'}\n",
        "#@markdown ### The second function inputs a dictionary like {'Name': 'John Doe', 'LDS': True, 'Likes Cats': True, 'Born Before': True, 'Wears Contacts': False, 'Bites Fingernails': False, 'Lives Close': True} and returns the string 'J D:111001'.\n",
        "cb17 = True #@param {type:'boolean'}\n",
        "#@markdown ### The second function calls the first function with the appropriate argument and uses the result.\n",
        "cb18 = True #@param {type:'boolean'}\n",
        "#@markdown ### The second function includes an assert that the length of the string being returned is 10.\n",
        "cb19 = True #@param {type:'boolean'}\n",
        "#@markdown ### The second function includes an assert that the cardinality of its codomain (set of possible return values) is over a million.\n",
        "cb20 = True #@param {type:'boolean'}"
      ],
      "execution_count": null,
      "outputs": []
    },
    {
      "cell_type": "markdown",
      "metadata": {
        "id": "q8KESLBANSkC"
      },
      "source": [
        "## DO NOT CHANGE ANYTHING IN THE NEXT CODE CELL!!\n",
        "### Delete this cell and the following ones before submitting your work."
      ]
    }
  ]
}