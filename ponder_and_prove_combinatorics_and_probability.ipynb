{
 "cells": [
  {
   "cell_type": "markdown",
   "metadata": {},
   "source": [
    "# Ponder and Prove Combinatorics and Probability\n",
    "#### Claire Hocker\n",
    "##### Collaborators: Daniel Strickland, Bretton Steiner"
   ]
  },
  {
   "cell_type": "markdown",
   "metadata": {},
   "source": [
    "## #1 Conjecture\n",
    "### $degree2({2n \\choose n}) =$ the Hamming weight of $n$.\n",
    "\n",
    "A number-theoretic conjecture of combinatorial significance is the following:\n",
    "\n",
    "$degree2({2n \\choose n}) =$ the \"bits-on count\" (or population count, or Hamming weight) of $n$.\n",
    "\n",
    "Your task is to write Python code to test this conjecture for as many positive integers as you can. See the self-assessment for more details.\n"
   ]
  },
  {
   "cell_type": "code",
   "execution_count": 8,
   "metadata": {},
   "outputs": [],
   "source": [
    "from math import factorial as fact\n",
    "from math import e\n",
    "import datetime"
   ]
  },
  {
   "cell_type": "code",
   "execution_count": 9,
   "metadata": {},
   "outputs": [],
   "source": [
    "from math import gcd\n",
    "\n",
    "def nCk(n, k):\n",
    "    if k < 0 or k > n:\n",
    "        return 0\n",
    "    else:\n",
    "        result = 1\n",
    "        d = 1\n",
    "        g = 1\n",
    "        m = min(k, n - k)\n",
    "        while (d <= m):\n",
    "            g = gcd(result, d)\n",
    "            result = n * (result // g)\n",
    "            result = (result // (d // g))\n",
    "            n -= 1\n",
    "            d += 1\n",
    "    return result"
   ]
  },
  {
   "cell_type": "code",
   "execution_count": 10,
   "metadata": {},
   "outputs": [],
   "source": [
    "# Return the number of \"on\" bits in the binary representation of n\n",
    "def bits_on_count(n):\n",
    "    return bin(n).count('1')\n",
    "\n",
    "# Function to return the count of times 2 \n",
    "# appears in the prime factors of n\n",
    "def get_num_twos(n):\n",
    "#Adapted from Geeksforgeeks.org\n",
    "    prime = 2 # The prime we are looking for\n",
    "    count = 0 \n",
    "    val = prime\n",
    "    while (True): \n",
    "        # Number of values in n that are divisible by val \n",
    "        a = n // val\n",
    "        # Number of values in n - 1 that are divisible by val\n",
    "        b = (n - 1) // val\n",
    "        # Increment the power of the val \n",
    "        val *= prime\n",
    "        # (a - b) is the count of numbers in n that are divisible by val\n",
    "        if (a - b): \n",
    "            count += (a - b)\n",
    "            # No values that are divisible by val\n",
    "            # thus exiting from the loop \n",
    "        else:\n",
    "            break\n",
    "    return int(count);\n",
    "\n",
    "\n",
    "# Return True if the conjecture holds for n\n",
    "def test_conjecture(n):\n",
    "    return bits_on_count(n) == get_num_twos(nCk(2*n, n))\n"
   ]
  },
  {
   "cell_type": "code",
   "execution_count": 8,
   "metadata": {},
   "outputs": [
    {
     "name": "stdout",
     "output_type": "stream",
     "text": [
      "Verified up to 6725 at 2021-02-04 20:08:20.384906\n"
     ]
    }
   ],
   "source": [
    "n = 1\n",
    "try:\n",
    "    while test_conjecture(n):\n",
    "        n += 1\n",
    "except:\n",
    "    print('Verified up to ' + str(n) + ' at ' + str(datetime.datetime.now()))"
   ]
  },
  {
   "cell_type": "markdown",
   "metadata": {},
   "source": [
    "### Results\n",
    "   I was able to verify up to 52,507 within the 24 hour period of time. I ran the program on my husbands Asus laptop.\n",
    "   I used the exception-catching code to report on the verification. "
   ]
  },
  {
   "cell_type": "markdown",
   "metadata": {},
   "source": [
    "## #2 Basic Probability Theory Question\n",
    "### Barrels in a Dark Room\n",
    "What is the *minimum* number of marbles you need to select to *exceed* a probability of 99% that you are picking them out of the all-green barrel?"
   ]
  },
  {
   "cell_type": "code",
   "execution_count": 11,
   "metadata": {},
   "outputs": [
    {
     "name": "stdout",
     "output_type": "stream",
     "text": [
      "Number of marbles is: 7\n",
      "Probability of being the all-green barrel: 99.21875\n"
     ]
    }
   ],
   "source": [
    "def find_num_marbles():\n",
    "    prob = 0\n",
    "    num_marbles = 0\n",
    "    while (prob < 0.99):\n",
    "        num_marbles += 1\n",
    "        prob = 1 - ((0.5) ** num_marbles)\n",
    "    return num_marbles, prob\n",
    "\n",
    "num_marbles, prob = find_num_marbles()\n",
    "\n",
    "print(\"Number of marbles is:\", num_marbles)\n",
    "print(\"Probability of being the all-green barrel:\", prob * 100)"
   ]
  },
  {
   "cell_type": "markdown",
   "metadata": {},
   "source": [
    "## #2 Answer: Seven Marbles\n",
    "   The probability of choosing seven green marbles in a row from the half-and-half barrel is extremely unlikely (less than a 1% chance). Thus, if you choose seven green marbles from a barrel, you can be almost certain you are choosing from the all-green barrel."
   ]
  },
  {
   "cell_type": "markdown",
   "metadata": {},
   "source": [
    "## #3 A Related But Deeper Basic Probability Theory Question\n",
    "### Caesar's Breath\n",
    "What is the probability that you just inhaled a molecule that Julius Caesar exhaled in his dying breath?"
   ]
  },
  {
   "cell_type": "code",
   "execution_count": 12,
   "metadata": {},
   "outputs": [
    {
     "name": "stdout",
     "output_type": "stream",
     "text": [
      "The probability of inhaling a molecule of Caesar's dying breath: 0.9920929459484066\n"
     ]
    }
   ],
   "source": [
    "def prob_of_shared_breath():\n",
    "    one_breath = 2.2 * 10**22\n",
    "    prob_caesar_mol = one_breath / (10 ** 44)\n",
    "    my_breath = one_breath * prob_caesar_mol\n",
    "    return 1 - (e ** (-my_breath))\n",
    "\n",
    "print(\"The probability of inhaling a molecule of Caesar's dying breath:\", prob_of_shared_breath())"
   ]
  },
  {
   "cell_type": "markdown",
   "metadata": {},
   "source": [
    "## #3 Answer: $0.9921$ % Chance\n",
    "   Which is surprisingly huge!!\n",
    "   \n",
    "Source:\n",
    "   https://puzzlemath.blogspot.com/2011/06/julius-caesars-last-breath.html"
   ]
  },
  {
   "cell_type": "markdown",
   "metadata": {},
   "source": [
    "#### Fun?\n",
    "   I enjoyed the probability questions and coding, especially the one about Caesar's breath, but, honestly, I thought running the program for 24 hours didn't have a purpose. Most of us students only have one computer, and we have other classes and things to do. Putting all other homework and work on hold so that our computer can run a program for 24 hours is not exactly realistic. My computer crashed when running it, and my husband's seemed close to overheating/crashing if other activities were done while it was running.\n",
    "   I find it extremely unlikely that this scenario actually happens in the real world. Most companies will allot enough resources for such programs to run but not interfere with other work. I did not see the point to this assignment, sorry. \n",
    "   \n",
    "#### New?\n",
    "   Well, I learned that I might be breathing a lot of molecules of very famous people! If you think of how many breaths we take in a lifetime, and then do this probability math, it is very, very likely (if not completely guaranteed) that you're breathing what a very famous person breathed out!\n",
    "   To be a little more serious, I learned how to apply math to the real world. I learned how to call a function with a loop and use an interrupt to end an infinite loop while saving the output. I learned just how huge factorials can be. I thought my conjecture would be able to verify up to a much higher number. It only went to a little over 50,000!\n",
    "   \n",
    "#### Meaningful? Build upon? Connections?\n",
    "   I am sure that I will be building upon the use of probability in real-world problems. My husband and I really like card games, and so it has been fun to estimate the probability of getting a certain card or certain color. We spent an hour on one collaborative board game, and we were one turn away from winning. Sadly, we only had a 43% chance of not picking up a card that would kill us. We picked up a card that would kill us, and lost the game. I wonder how we could use this kind of math to increase the probability of winning. Probability is fascinating!\n",
    "    \n",
    "#### Collaborators?\n",
    "   I worked with Daniel Strickland and Bretton Steiner. Bretton found the count_num_twos() function on geekforgeeks.org. He adapted it to work for our program.\n",
    "   Bretton also clarified the Caesar's breath problem. I thought it was just one_breath / all_air, but he helped us realize the need to use the multiplication. Daniel found the source. (I had previously read that source, but Daniel brought it back to my attention.)"
   ]
  },
  {
   "cell_type": "markdown",
   "metadata": {},
   "source": [
    "## What is True?\n",
    "Assess yourself on how you did using the checkboxes below. Check a box by putting an 'X' in it only if it is warranted.\n"
   ]
  },
  {
   "cell_type": "markdown",
   "metadata": {},
   "source": [
    "### What is true of my experience in general?\n",
    "(5 points each, 15 points total)\n",
    "- [x] I had fun.\n",
    "- [x] I learned something new.\n",
    "- [x] I achieved something meaningful, or something I can build upon at a later time."
   ]
  },
  {
   "cell_type": "markdown",
   "metadata": {},
   "source": [
    "### What is true of my report on what I learned?\n",
    "(5 points each, 25 points total)\n",
    "- [x] I wrote a sufficient number of well-written sentences.\n",
    "- [x] My report is free of \"mechanical infelicities\" (misspelled words, grammatical errors, punctuation errors, etc.).\n",
    "- [x] I reported on any connections I found between this investigation and something I already know.\n",
    "- [x] I reported who were and what contribution each of my collaborators made.\n",
    "- [x] I reported on how many numbers I was able to verify with a time/computation budget of 24 hours (in a row)."
   ]
  },
  {
   "cell_type": "markdown",
   "metadata": {},
   "source": [
    "### What is true about my answers?\n",
    "(15 points each, 60 points total)\n",
    "- [x] I figured out how to run a Python program continuously for at least 24 hours.\n",
    "- [x] I refrained from printing out anything except the highest number I verified, knowing that printing just slows a program down.\n",
    "- [x] I got the right answer for the first probability theory question.\n",
    "- [x] I got the right answer for the second probability theory question.\n"
   ]
  },
  {
   "cell_type": "code",
   "execution_count": null,
   "metadata": {},
   "outputs": [],
   "source": []
  }
 ],
 "metadata": {
  "kernelspec": {
   "display_name": "Python 3",
   "language": "python",
   "name": "python3"
  },
  "language_info": {
   "codemirror_mode": {
    "name": "ipython",
    "version": 3
   },
   "file_extension": ".py",
   "mimetype": "text/x-python",
   "name": "python",
   "nbconvert_exporter": "python",
   "pygments_lexer": "ipython3",
   "version": "3.6.9"
  }
 },
 "nbformat": 4,
 "nbformat_minor": 4
}