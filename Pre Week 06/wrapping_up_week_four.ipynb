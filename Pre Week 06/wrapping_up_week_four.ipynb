{
  "nbformat": 4,
  "nbformat_minor": 0,
  "metadata": {
    "kernelspec": {
      "display_name": "Python 3",
      "language": "python",
      "name": "python3"
    },
    "language_info": {
      "codemirror_mode": {
        "name": "ipython",
        "version": 3
      },
      "file_extension": ".py",
      "mimetype": "text/x-python",
      "name": "python",
      "nbconvert_exporter": "python",
      "pygments_lexer": "ipython3",
      "version": "3.6.9"
    },
    "colab": {
      "name": "wrapping_up_week_four.ipynb",
      "provenance": [],
      "include_colab_link": true
    }
  },
  "cells": [
    {
      "cell_type": "markdown",
      "metadata": {
        "id": "view-in-github",
        "colab_type": "text"
      },
      "source": [
        "<a href=\"https://colab.research.google.com/github/chhocker/cse380-notebooks/blob/master/wrapping_up_week_four.ipynb\" target=\"_parent\"><img src=\"https://colab.research.google.com/assets/colab-badge.svg\" alt=\"Open In Colab\"/></a>"
      ]
    },
    {
      "cell_type": "markdown",
      "metadata": {
        "id": "zQ2YuRNeMFlZ"
      },
      "source": [
        "# grading notes\r\n",
        "Be sure to include the packages installed from pip in a code block. Then graders can optionally run that code block and things will not break.\r\n",
        "\r\n",
        "For example, see the code block below."
      ]
    },
    {
      "cell_type": "code",
      "metadata": {
        "id": "8m-OCu0UMs8B",
        "outputId": "ad32e8bd-efe4-4802-89b9-86bf4a1cd4ec",
        "colab": {
          "base_uri": "https://localhost:8080/"
        }
      },
      "source": [
        "!pip install pyprimesieve"
      ],
      "execution_count": 1,
      "outputs": [
        {
          "output_type": "stream",
          "text": [
            "Collecting pyprimesieve\n",
            "  Downloading https://files.pythonhosted.org/packages/71/65/df0f953cfda5aa6dba56bcbeac5707f544bf0ad5b649a6a7807c5e09966e/pyprimesieve-0.1.6.tar.gz\n",
            "Building wheels for collected packages: pyprimesieve\n",
            "  Building wheel for pyprimesieve (setup.py) ... \u001b[?25l\u001b[?25hdone\n",
            "  Created wheel for pyprimesieve: filename=pyprimesieve-0.1.6-cp36-cp36m-linux_x86_64.whl size=367945 sha256=19ebce07a87058a46a629efbd25ae6a2a9dadfb4ffa8168045000bdb87b252fa\n",
            "  Stored in directory: /root/.cache/pip/wheels/c4/63/2b/a485079de882a375d28a4dc141386c76ea9a6aaad505f2198b\n",
            "Successfully built pyprimesieve\n",
            "Installing collected packages: pyprimesieve\n",
            "Successfully installed pyprimesieve-0.1.6\n"
          ],
          "name": "stdout"
        }
      ]
    },
    {
      "cell_type": "markdown",
      "metadata": {
        "id": "dOvwwovfNaC4"
      },
      "source": [
        "Otherwise, this looks good."
      ]
    },
    {
      "cell_type": "markdown",
      "metadata": {
        "id": "EQuiiGMtLqtV"
      },
      "source": [
        "# Wrapping Up Week Four\n",
        "  At the end (of class meetings) of this fourth week, let's recap:\n",
        "## GCD\n",
        "  Revisiting this important concept one more time:\n",
        "### Important?\n",
        "   Important enough to be a library-import away:"
      ]
    },
    {
      "cell_type": "code",
      "metadata": {
        "id": "uqMucol_Lqth",
        "outputId": "cb3f9183-d88d-4259-edaf-f76b166a4f69",
        "colab": {
          "base_uri": "https://localhost:8080/"
        }
      },
      "source": [
        "from math import gcd\n",
        "\n",
        "print(gcd(89932875987987948500007, 5677777777777777777777))"
      ],
      "execution_count": 2,
      "outputs": [
        {
          "output_type": "stream",
          "text": [
            "1\n"
          ],
          "name": "stdout"
        }
      ]
    },
    {
      "cell_type": "markdown",
      "metadata": {
        "id": "EmVSeNkALqtk"
      },
      "source": [
        "### Trace and Test"
      ]
    },
    {
      "cell_type": "code",
      "metadata": {
        "id": "3zXQRH4ZLqtl"
      },
      "source": [
        "from math import floor, log10\n",
        "\n",
        "def trace_gcd(a, b):\n",
        "    r = -1\n",
        "    num_digits_in_a = str(floor(log10(a)) + 1)\n",
        "    num_digits_in_b = str(floor(log10(b)) + 1)\n",
        "    num_digits_in_r = str(floor(log10(a % b)) + 1)\n",
        "    format_specifier = '{0:' + num_digits_in_a + \\\n",
        "                       '} = {1:' + num_digits_in_b + \\\n",
        "                       '}({2}) + {3:' + num_digits_in_r + '}'\n",
        "    while r:\n",
        "        q = a // b\n",
        "        r = a % b\n",
        "        print(format_specifier.format(a, b, q, r))\n",
        "        a, b = b, r"
      ],
      "execution_count": 3,
      "outputs": []
    },
    {
      "cell_type": "code",
      "metadata": {
        "id": "EIIoKIKuLqtm",
        "outputId": "09077af9-a24f-477c-e31b-eb40049a8a64",
        "colab": {
          "base_uri": "https://localhost:8080/"
        }
      },
      "source": [
        "trace_gcd(87,55)"
      ],
      "execution_count": 4,
      "outputs": [
        {
          "output_type": "stream",
          "text": [
            "87 = 55(1) + 32\n",
            "55 = 32(1) + 23\n",
            "32 = 23(1) +  9\n",
            "23 =  9(2) +  5\n",
            " 9 =  5(1) +  4\n",
            " 5 =  4(1) +  1\n",
            " 4 =  1(4) +  0\n"
          ],
          "name": "stdout"
        }
      ]
    },
    {
      "cell_type": "code",
      "metadata": {
        "id": "hzdm8JjbLqtm",
        "outputId": "4410e543-605b-4a03-9c53-dec50e317123",
        "colab": {
          "base_uri": "https://localhost:8080/"
        }
      },
      "source": [
        "trace_gcd(89, 56)"
      ],
      "execution_count": 5,
      "outputs": [
        {
          "output_type": "stream",
          "text": [
            "89 = 56(1) + 33\n",
            "56 = 33(1) + 23\n",
            "33 = 23(1) + 10\n",
            "23 = 10(2) +  3\n",
            "10 =  3(3) +  1\n",
            " 3 =  1(3) +  0\n"
          ],
          "name": "stdout"
        }
      ]
    },
    {
      "cell_type": "code",
      "metadata": {
        "id": "qw07IMaxLqtn",
        "outputId": "00ecb4c0-05f7-4b88-c450-56f3c2b9f98e",
        "colab": {
          "base_uri": "https://localhost:8080/"
        }
      },
      "source": [
        "trace_gcd(56, 89)"
      ],
      "execution_count": 6,
      "outputs": [
        {
          "output_type": "stream",
          "text": [
            "56 = 89(0) + 56\n",
            "89 = 56(1) + 33\n",
            "56 = 33(1) + 23\n",
            "33 = 23(1) + 10\n",
            "23 = 10(2) +  3\n",
            "10 =  3(3) +  1\n",
            " 3 =  1(3) +  0\n"
          ],
          "name": "stdout"
        }
      ]
    },
    {
      "cell_type": "code",
      "metadata": {
        "id": "IJ6C3tqKLqto"
      },
      "source": [
        "from fractions import Fraction as frac\n",
        "\n",
        "def contfrac2frac(seq):\n",
        "    \"\"\"Convert the simple continued fraction in `seq`\n",
        "       into a fraction with numerator num and denominator den.\n",
        "    \"\"\"\n",
        "    num, den = 1, 0\n",
        "    for u in reversed(seq):\n",
        "        num, den = den + num * u, num\n",
        "    return frac(num, den)\n",
        "\n",
        "def frac2contfrac(f):\n",
        "    \"\"\"Build the simple continued fraction expansion of fraction f.\n",
        "    \"\"\"\n",
        "    seq = []\n",
        "    frac2contfrac_rec(f, seq)\n",
        "    return seq\n",
        "\n",
        "def frac2contfrac_rec(f, seq):\n",
        "    n = f.numerator\n",
        "    d = f.denominator\n",
        "    if d != 0:\n",
        "        seq.append(n // d)\n",
        "        if n % d != 0:\n",
        "            frac2contfrac_rec(frac(d, n % d), seq)\n",
        "\n",
        "def e_cont_frac(n):\n",
        "    \"\"\"Build `n` terms of the simple continued fraction expansion of e\n",
        "        `n` must be a positive integer\n",
        "    \"\"\"\n",
        "    seq = [2 * (i + 1) // 3 if i % 3 == 2 else 1 for i in range(n)]\n",
        "    seq[0] += 1\n",
        "    return seq\n",
        "\n",
        "def eval_frac(f):\n",
        "    \"\"\"Evaluate the fraction f as a float.\n",
        "    \"\"\"\n",
        "    return f.numerator / f.denominator"
      ],
      "execution_count": 7,
      "outputs": []
    },
    {
      "cell_type": "code",
      "metadata": {
        "id": "0ejAYuNeLqtp",
        "outputId": "8e1de38c-4e09-4181-c28e-7d835a43f451",
        "colab": {
          "base_uri": "https://localhost:8080/"
        }
      },
      "source": [
        "print(frac2contfrac(frac(89, 56)))"
      ],
      "execution_count": 8,
      "outputs": [
        {
          "output_type": "stream",
          "text": [
            "[1, 1, 1, 2, 3, 3]\n"
          ],
          "name": "stdout"
        }
      ]
    },
    {
      "cell_type": "code",
      "metadata": {
        "id": "D0e9n2rCLqtq",
        "outputId": "85f9fcdb-527f-4f2d-ea59-2f066d0b60fd",
        "colab": {
          "base_uri": "https://localhost:8080/"
        }
      },
      "source": [
        "from math import sqrt\n",
        "\n",
        "phi = (sqrt(5) + 1) / 2\n",
        "print(phi)\n",
        "\n",
        "phi_as_frac = frac(phi).limit_denominator(10000000)\n",
        "\n",
        "cfr_phi_as_frac = frac2contfrac(phi_as_frac)\n",
        "print(cfr_phi_as_frac)\n",
        "print(all(map(lambda x: x == 1, cfr_phi_as_frac[:-1])))"
      ],
      "execution_count": 9,
      "outputs": [
        {
          "output_type": "stream",
          "text": [
            "1.618033988749895\n",
            "[1, 1, 1, 1, 1, 1, 1, 1, 1, 1, 1, 1, 1, 1, 1, 1, 1, 1, 1, 1, 1, 1, 1, 1, 1, 1, 1, 1, 1, 1, 1, 1, 1, 2]\n",
            "True\n"
          ],
          "name": "stdout"
        }
      ]
    },
    {
      "cell_type": "code",
      "metadata": {
        "id": "K8hSxi2mLqtr",
        "outputId": "f4cebe70-be13-4a4f-a52f-9f5d346b9f85",
        "colab": {
          "base_uri": "https://localhost:8080/"
        }
      },
      "source": [
        "trace_gcd(377, 233)"
      ],
      "execution_count": 10,
      "outputs": [
        {
          "output_type": "stream",
          "text": [
            "377 = 233(1) + 144\n",
            "233 = 144(1) +  89\n",
            "144 =  89(1) +  55\n",
            " 89 =  55(1) +  34\n",
            " 55 =  34(1) +  21\n",
            " 34 =  21(1) +  13\n",
            " 21 =  13(1) +   8\n",
            " 13 =   8(1) +   5\n",
            "  8 =   5(1) +   3\n",
            "  5 =   3(1) +   2\n",
            "  3 =   2(1) +   1\n",
            "  2 =   1(2) +   0\n"
          ],
          "name": "stdout"
        }
      ]
    },
    {
      "cell_type": "code",
      "metadata": {
        "id": "V27tzDoeLqts",
        "outputId": "21dcef2d-e36d-4446-cb00-f2e25ce44527",
        "colab": {
          "base_uri": "https://localhost:8080/"
        }
      },
      "source": [
        "trace_gcd(899, 493)"
      ],
      "execution_count": 11,
      "outputs": [
        {
          "output_type": "stream",
          "text": [
            "899 = 493(1) + 406\n",
            "493 = 406(1) +  87\n",
            "406 =  87(4) +  58\n",
            " 87 =  58(1) +  29\n",
            " 58 =  29(2) +   0\n"
          ],
          "name": "stdout"
        }
      ]
    },
    {
      "cell_type": "markdown",
      "metadata": {
        "id": "Q2a3PaAGLqtt"
      },
      "source": [
        "## Now, about that Stern-Brocot Tree Address!\n",
        "\n",
        "   5/2 is at address 110, equals 2.5000000"
      ]
    },
    {
      "cell_type": "code",
      "metadata": {
        "id": "j5U4IQ66Lqtu",
        "outputId": "fd8ab201-03a0-4f3a-e6a7-95abce6d056a",
        "colab": {
          "base_uri": "https://localhost:8080/"
        }
      },
      "source": [
        "trace_gcd(5, 2)"
      ],
      "execution_count": 12,
      "outputs": [
        {
          "output_type": "stream",
          "text": [
            "5 = 2(2) + 1\n",
            "2 = 1(2) + 0\n"
          ],
          "name": "stdout"
        }
      ]
    },
    {
      "cell_type": "markdown",
      "metadata": {
        "id": "SOM42cUSLqtv"
      },
      "source": [
        "8/3 is at address 1101, equals 2.666666..."
      ]
    },
    {
      "cell_type": "code",
      "metadata": {
        "id": "yqfYf2p-Lqtv",
        "outputId": "ac12914c-b014-4b59-da6b-41e8654d6634",
        "colab": {
          "base_uri": "https://localhost:8080/"
        }
      },
      "source": [
        "trace_gcd(8, 3)"
      ],
      "execution_count": 13,
      "outputs": [
        {
          "output_type": "stream",
          "text": [
            "8 = 3(2) + 2\n",
            "3 = 2(1) + 1\n",
            "2 = 1(2) + 0\n"
          ],
          "name": "stdout"
        }
      ]
    },
    {
      "cell_type": "markdown",
      "metadata": {
        "id": "0C1Jy_3zLqtw"
      },
      "source": [
        "11/4 is at address 11011, equals 2.7500000..."
      ]
    },
    {
      "cell_type": "code",
      "metadata": {
        "id": "jB2VxohRLqtw",
        "outputId": "cbac7a77-8eab-4dec-bec1-62fe9425e13f",
        "colab": {
          "base_uri": "https://localhost:8080/"
        }
      },
      "source": [
        "trace_gcd(11, 4)"
      ],
      "execution_count": 14,
      "outputs": [
        {
          "output_type": "stream",
          "text": [
            "11 = 4(2) + 3\n",
            " 4 = 3(1) + 1\n",
            " 3 = 1(3) + 0\n"
          ],
          "name": "stdout"
        }
      ]
    },
    {
      "cell_type": "markdown",
      "metadata": {
        "id": "xTBVg7ZsLqtw"
      },
      "source": [
        "19/7 is at address 110110, equals 2.7142857..."
      ]
    },
    {
      "cell_type": "code",
      "metadata": {
        "id": "FgLGbrnZLqtx",
        "outputId": "a41ecfb3-6aed-4ddb-febc-90045d718718",
        "colab": {
          "base_uri": "https://localhost:8080/"
        }
      },
      "source": [
        "trace_gcd(19, 7)"
      ],
      "execution_count": 15,
      "outputs": [
        {
          "output_type": "stream",
          "text": [
            "19 = 7(2) + 5\n",
            " 7 = 5(1) + 2\n",
            " 5 = 2(2) + 1\n",
            " 2 = 1(2) + 0\n"
          ],
          "name": "stdout"
        }
      ]
    },
    {
      "cell_type": "markdown",
      "metadata": {
        "id": "ij78fF5TLqty"
      },
      "source": [
        "30/11 is at address 1101101, equals 2.7272727..."
      ]
    },
    {
      "cell_type": "code",
      "metadata": {
        "id": "Z5eJE2tYLqty",
        "outputId": "1a4120bf-10d2-4618-9da7-cb9c35db29db",
        "colab": {
          "base_uri": "https://localhost:8080/"
        }
      },
      "source": [
        "trace_gcd(30, 11)"
      ],
      "execution_count": 16,
      "outputs": [
        {
          "output_type": "stream",
          "text": [
            "30 = 11(2) + 8\n",
            "11 =  8(1) + 3\n",
            " 8 =  3(2) + 2\n",
            " 3 =  2(1) + 1\n",
            " 2 =  1(2) + 0\n"
          ],
          "name": "stdout"
        }
      ]
    },
    {
      "cell_type": "markdown",
      "metadata": {
        "id": "b1auKDw1Lqtz"
      },
      "source": [
        "49/18 is at address 11011010, equals 2.7222222..."
      ]
    },
    {
      "cell_type": "code",
      "metadata": {
        "id": "EXKWshrULqtz",
        "outputId": "cda75ac5-15f8-4817-d55e-6335498167e3",
        "colab": {
          "base_uri": "https://localhost:8080/"
        }
      },
      "source": [
        "trace_gcd(49, 18)"
      ],
      "execution_count": 17,
      "outputs": [
        {
          "output_type": "stream",
          "text": [
            "49 = 18(2) + 13\n",
            "18 = 13(1) +  5\n",
            "13 =  5(2) +  3\n",
            " 5 =  3(1) +  2\n",
            " 3 =  2(1) +  1\n",
            " 2 =  1(2) +  0\n"
          ],
          "name": "stdout"
        }
      ]
    },
    {
      "cell_type": "code",
      "metadata": {
        "id": "nSBLeQZlLqt0",
        "outputId": "710b2ad1-911c-4727-aff7-81aa96107a70",
        "colab": {
          "base_uri": "https://localhost:8080/"
        }
      },
      "source": [
        "print(frac2contfrac(frac(49, 18)))"
      ],
      "execution_count": 18,
      "outputs": [
        {
          "output_type": "stream",
          "text": [
            "[2, 1, 2, 1, 1, 2]\n"
          ],
          "name": "stdout"
        }
      ]
    },
    {
      "cell_type": "markdown",
      "metadata": {
        "id": "yqKCu7w9Lqt0"
      },
      "source": [
        "87/32 is at address 1101101000, equals 2.7187500..."
      ]
    },
    {
      "cell_type": "code",
      "metadata": {
        "id": "bDURJBwsLqt0",
        "outputId": "bc50c784-7d31-4655-c1f6-c7680a42bef7",
        "colab": {
          "base_uri": "https://localhost:8080/"
        }
      },
      "source": [
        "trace_gcd(87, 32)"
      ],
      "execution_count": 19,
      "outputs": [
        {
          "output_type": "stream",
          "text": [
            "87 = 32(2) + 23\n",
            "32 = 23(1) +  9\n",
            "23 =  9(2) +  5\n",
            " 9 =  5(1) +  4\n",
            " 5 =  4(1) +  1\n",
            " 4 =  1(4) +  0\n"
          ],
          "name": "stdout"
        }
      ]
    },
    {
      "cell_type": "markdown",
      "metadata": {
        "id": "ARsOQ_CGLqt1"
      },
      "source": [
        "106/39 is at address 11011010000, equals 2.7179487..."
      ]
    },
    {
      "cell_type": "code",
      "metadata": {
        "id": "B051nueyLqt1",
        "outputId": "c9261ba9-74eb-4a34-82d0-fa84b6387375",
        "colab": {
          "base_uri": "https://localhost:8080/"
        }
      },
      "source": [
        "trace_gcd(106, 39)"
      ],
      "execution_count": 20,
      "outputs": [
        {
          "output_type": "stream",
          "text": [
            "106 = 39(2) + 28\n",
            " 39 = 28(1) + 11\n",
            " 28 = 11(2) +  6\n",
            " 11 =  6(1) +  5\n",
            "  6 =  5(1) +  1\n",
            "  5 =  1(5) +  0\n"
          ],
          "name": "stdout"
        }
      ]
    },
    {
      "cell_type": "code",
      "metadata": {
        "id": "jU9VgISVLqt1",
        "outputId": "2b75103e-c2b3-47fd-dd93-45d5b082ca46",
        "colab": {
          "base_uri": "https://localhost:8080/"
        }
      },
      "source": [
        "print('{0:.50f}'.format(1038929163353808 / 382200680031313))"
      ],
      "execution_count": 21,
      "outputs": [
        {
          "output_type": "stream",
          "text": [
            "2.71828182845904509079559829842764884233474731445312\n"
          ],
          "name": "stdout"
        }
      ]
    },
    {
      "cell_type": "code",
      "metadata": {
        "id": "SXQZZhNYLqt1",
        "outputId": "075a93d4-ac80-4181-c020-944748844055",
        "colab": {
          "base_uri": "https://localhost:8080/"
        }
      },
      "source": [
        "from mpmath import mp\n",
        "mp.dps = 50\n",
        "print(mp.fdiv(1038929163353808, 382200680031313))"
      ],
      "execution_count": 22,
      "outputs": [
        {
          "output_type": "stream",
          "text": [
            "2.7182818284590452353602874713492485633715800289396\n"
          ],
          "name": "stdout"
        }
      ]
    },
    {
      "cell_type": "code",
      "metadata": {
        "id": "0ysHGnSpLqt2",
        "outputId": "a803a549-b123-4988-b668-34dbface0223",
        "colab": {
          "base_uri": "https://localhost:8080/"
        }
      },
      "source": [
        "from math import e\n",
        "e_as_frac = frac(e).limit_denominator(10000000000000000)\n",
        "print(e_as_frac, frac2contfrac(e_as_frac))\n",
        "print(e_cont_frac(20))"
      ],
      "execution_count": 23,
      "outputs": [
        {
          "output_type": "stream",
          "text": [
            "6121026514868073/2251799813685248 [2, 1, 2, 1, 1, 4, 1, 1, 6, 1, 1, 8, 1, 1, 10, 1, 1, 12, 1, 1, 11, 1, 1, 1, 11, 5, 1, 1, 2, 1, 4, 2, 1, 1, 9, 17, 3]\n",
            "[2, 1, 2, 1, 1, 4, 1, 1, 6, 1, 1, 8, 1, 1, 10, 1, 1, 12, 1, 1]\n"
          ],
          "name": "stdout"
        }
      ]
    },
    {
      "cell_type": "code",
      "metadata": {
        "id": "7zTHHiLeLqt3",
        "outputId": "68d30982-d912-4755-e3d9-01e7d407016b",
        "colab": {
          "base_uri": "https://localhost:8080/"
        }
      },
      "source": [
        "print(contfrac2frac([2,1,2,1,1,4,1,1,6,1,1,8,1,1,10,1,1,12,1,1,14,1,1,16,1,1,18,1,1,20,1,1,22,1,1,24]))"
      ],
      "execution_count": 24,
      "outputs": [
        {
          "output_type": "stream",
          "text": [
            "52061284670617417/19152276311294112\n"
          ],
          "name": "stdout"
        }
      ]
    },
    {
      "cell_type": "code",
      "metadata": {
        "id": "j_c27cjYLqt3",
        "outputId": "089eaa99-4d21-4168-b637-0301e1d69abf",
        "colab": {
          "base_uri": "https://localhost:8080/"
        }
      },
      "source": [
        "from mpmath import mp\n",
        "mp.dps = 50\n",
        "print(mp.fdiv(52061284670617417, 19152276311294112))"
      ],
      "execution_count": 25,
      "outputs": [
        {
          "output_type": "stream",
          "text": [
            "2.7182818284590452353602874713526638578384660674105\n"
          ],
          "name": "stdout"
        }
      ]
    },
    {
      "cell_type": "markdown",
      "metadata": {
        "id": "P1wDRRneLqt4"
      },
      "source": [
        "## Answer Selected Questions\n",
        "### 1\n",
        "How can relations be encoded as sets of pairs?\n",
        "#### Answer\n",
        "Try it!"
      ]
    },
    {
      "cell_type": "code",
      "metadata": {
        "id": "-E8HrjoSLqt4",
        "outputId": "9f05f2af-ff7a-409d-c59f-87cd77ec1420",
        "colab": {
          "base_uri": "https://localhost:8080/"
        }
      },
      "source": [
        "from pyprimesieve import primes\n",
        "# ftmpl = first ten million primes list\n",
        "ftmpl = list(primes(1, 179424674))\n",
        "print(len(ftmpl))\n",
        "def encode_set(nset):\n",
        "  return encode_set(nset[1:]) * ftmpl[nset[0]] if nset else 1"
      ],
      "execution_count": 26,
      "outputs": [
        {
          "output_type": "stream",
          "text": [
            "10000000\n"
          ],
          "name": "stdout"
        }
      ]
    },
    {
      "cell_type": "code",
      "metadata": {
        "id": "CQvYhhwtLqt4",
        "outputId": "d2002d3e-76fa-4c00-9296-2911c3c4871d",
        "colab": {
          "base_uri": "https://localhost:8080/"
        }
      },
      "source": [
        "print(ftmpl[0])"
      ],
      "execution_count": 27,
      "outputs": [
        {
          "output_type": "stream",
          "text": [
            "2\n"
          ],
          "name": "stdout"
        }
      ]
    },
    {
      "cell_type": "code",
      "metadata": {
        "id": "uGq4U2A5Lqt5"
      },
      "source": [
        "def encode_set(nset):\n",
        "  return encode_set(nset[1:]) * ftmpl[nset[0]] if nset else 1"
      ],
      "execution_count": 28,
      "outputs": []
    },
    {
      "cell_type": "code",
      "metadata": {
        "id": "6pKAOSEtLqt5",
        "outputId": "1f7f6efc-a872-402a-fd9e-5a652946cbbc",
        "colab": {
          "base_uri": "https://localhost:8080/"
        }
      },
      "source": [
        "print(encode_set([1, 2, 3]))"
      ],
      "execution_count": 29,
      "outputs": [
        {
          "output_type": "stream",
          "text": [
            "105\n"
          ],
          "name": "stdout"
        }
      ]
    },
    {
      "cell_type": "code",
      "metadata": {
        "id": "EnfvoTMgLqt5",
        "outputId": "5ade6f7e-cb70-4315-af7c-0ba310c2544c",
        "colab": {
          "base_uri": "https://localhost:8080/"
        }
      },
      "source": [
        "R = [(1, 2), (2, 3), (1, 3)]\n",
        "print(R)\n",
        "pair_encodings = list(map(encode_set, R))\n",
        "print(pair_encodings)\n",
        "encoding_of_R = encode_set(pair_encodings)\n",
        "print(encoding_of_R)"
      ],
      "execution_count": 30,
      "outputs": [
        {
          "output_type": "stream",
          "text": [
            "[(1, 2), (2, 3), (1, 3)]\n",
            "[15, 35, 21]\n",
            "632237\n"
          ],
          "name": "stdout"
        }
      ]
    },
    {
      "cell_type": "markdown",
      "metadata": {
        "id": "6V2KuF3gLqt6"
      },
      "source": [
        "### 2\n",
        "Why is an ordered set which is reflexive, antisymmetric, and transitive called a partial order? If all the elements preceding a given element are less than in comparable value and a set can have no duplicates (meaning if x and y as elements of set S are equal by x = y, then they are duplicates), why is it called a partial order? It sounds to me more like a total order - a complete order. Incomplete is a synonym to partial, the opposite of complete.\n",
        "#### Answer\n",
        "What we have here is a category error.\n",
        "\n",
        "A Partial Order is a *relation*, not a set.\n",
        "\n",
        "A poster-child poset is the pair (P(S), $\\subseteq$). For example:\n",
        "\n",
        "Given S = {1, 2, 3, 4}, P(S) = Power Set of S = {$\\emptyset$, {1}, {2}, {3}, {4}, {1, 2}, {1, 3}, {1, 4}, {2, 3}, {2, 4}, {3, 4}, {1, 2, 3}, {1, 2, 4}, {1, 3, 4}, {2, 3, 4}, {1, 2, 3, 4}}.\n",
        "\n",
        "---\n",
        "\n",
        "Here is how to draw the Hasse diagram of this poset using dot:\n"
      ]
    },
    {
      "cell_type": "code",
      "metadata": {
        "id": "oySrLF1sLqt6",
        "outputId": "dfd7fd31-df40-4eb2-adf9-a7547eaf1f16",
        "colab": {
          "base_uri": "https://localhost:8080/",
          "height": 463
        }
      },
      "source": [
        "from graphviz import Source\n",
        "Source('''\n",
        "graph {\n",
        "  node [shape=none]\n",
        "  1234 [label=\"{1, 2, 3, 4}\"]\n",
        "   123 [label=\"{1, 2, 3}\"]\n",
        "   124 [label=\"{1, 2, 4}\"]\n",
        "   134 [label=\"{1, 3, 4}\"]\n",
        "   234 [label=\"{2, 3, 4}\"]\n",
        "    12 [label=\"{1, 2}\"]\n",
        "    13 [label=\"{1, 3}\"]\n",
        "    14 [label=\"{1, 4}\"]\n",
        "    23 [label=\"{2, 3}\"]\n",
        "    24 [label=\"{2, 4}\"]\n",
        "    34 [label=\"{3, 4}\"]\n",
        "     1 [label=\"{1}\"]\n",
        "     2 [label=\"{2}\"]\n",
        "     3 [label=\"{3}\"]\n",
        "     4 [label=\"{4}\"]\n",
        "     0 [label=<&empty;>]\n",
        "  1234 -- {123, 124, 134, 234}\n",
        "   123 -- {12, 13, 23}\n",
        "   124 -- {12, 14, 24}\n",
        "   134 -- {13, 14, 34}\n",
        "   234 -- {23, 24, 34}\n",
        "    12 -- {1, 2}\n",
        "    13 -- {1, 3}\n",
        "    14 -- {1, 4}\n",
        "    23 -- {2, 3}\n",
        "    24 -- {2, 4}\n",
        "    34 -- {3, 4}\n",
        "     1 -- 0\n",
        "     2 -- 0\n",
        "     3 -- 0\n",
        "     4 -- 0\n",
        "  {rank=same 1234}\n",
        "  {rank=same 123 124 134 234}\n",
        "  {rank=same 12 13 14 23 24 34}\n",
        "  {rank=same 1 2 3 4}\n",
        "  {rank=same 0}\n",
        "}\n",
        "''')"
      ],
      "execution_count": 31,
      "outputs": [
        {
          "output_type": "execute_result",
          "data": {
            "text/plain": [
              "<graphviz.files.Source at 0x7efef4f56710>"
            ],
            "image/svg+xml": "<?xml version=\"1.0\" encoding=\"UTF-8\" standalone=\"no\"?>\n<!DOCTYPE svg PUBLIC \"-//W3C//DTD SVG 1.1//EN\"\n \"http://www.w3.org/Graphics/SVG/1.1/DTD/svg11.dtd\">\n<!-- Generated by graphviz version 2.40.1 (20161225.0304)\n -->\n<!-- Title: %3 Pages: 1 -->\n<svg width=\"422pt\" height=\"332pt\"\n viewBox=\"0.00 0.00 422.00 332.00\" xmlns=\"http://www.w3.org/2000/svg\" xmlns:xlink=\"http://www.w3.org/1999/xlink\">\n<g id=\"graph0\" class=\"graph\" transform=\"scale(1 1) rotate(0) translate(4 328)\">\n<title>%3</title>\n<polygon fill=\"#ffffff\" stroke=\"transparent\" points=\"-4,4 -4,-328 418,-328 418,4 -4,4\"/>\n<!-- 1234 -->\n<g id=\"node1\" class=\"node\">\n<title>1234</title>\n<text text-anchor=\"middle\" x=\"200\" y=\"-302.3\" font-family=\"Times,serif\" font-size=\"14.00\" fill=\"#000000\">{1, 2, 3, 4}</text>\n</g>\n<!-- 123 -->\n<g id=\"node2\" class=\"node\">\n<title>123</title>\n<text text-anchor=\"middle\" x=\"71\" y=\"-230.3\" font-family=\"Times,serif\" font-size=\"14.00\" fill=\"#000000\">{1, 2, 3}</text>\n</g>\n<!-- 1234&#45;&#45;123 -->\n<g id=\"edge1\" class=\"edge\">\n<title>1234&#45;&#45;123</title>\n<path fill=\"none\" stroke=\"#000000\" d=\"M167.4479,-287.8314C147.8924,-276.9167 123.0953,-263.0764 103.5417,-252.1628\"/>\n</g>\n<!-- 124 -->\n<g id=\"node3\" class=\"node\">\n<title>124</title>\n<text text-anchor=\"middle\" x=\"157\" y=\"-230.3\" font-family=\"Times,serif\" font-size=\"14.00\" fill=\"#000000\">{1, 2, 4}</text>\n</g>\n<!-- 1234&#45;&#45;124 -->\n<g id=\"edge2\" class=\"edge\">\n<title>1234&#45;&#45;124</title>\n<path fill=\"none\" stroke=\"#000000\" d=\"M189.1493,-287.8314C182.6806,-277 174.4912,-263.2876 167.9968,-252.4133\"/>\n</g>\n<!-- 134 -->\n<g id=\"node4\" class=\"node\">\n<title>134</title>\n<text text-anchor=\"middle\" x=\"243\" y=\"-230.3\" font-family=\"Times,serif\" font-size=\"14.00\" fill=\"#000000\">{1, 3, 4}</text>\n</g>\n<!-- 1234&#45;&#45;134 -->\n<g id=\"edge3\" class=\"edge\">\n<title>1234&#45;&#45;134</title>\n<path fill=\"none\" stroke=\"#000000\" d=\"M210.8507,-287.8314C217.3194,-277 225.5088,-263.2876 232.0032,-252.4133\"/>\n</g>\n<!-- 234 -->\n<g id=\"node5\" class=\"node\">\n<title>234</title>\n<text text-anchor=\"middle\" x=\"329\" y=\"-230.3\" font-family=\"Times,serif\" font-size=\"14.00\" fill=\"#000000\">{2, 3, 4}</text>\n</g>\n<!-- 1234&#45;&#45;234 -->\n<g id=\"edge4\" class=\"edge\">\n<title>1234&#45;&#45;234</title>\n<path fill=\"none\" stroke=\"#000000\" d=\"M232.5521,-287.8314C252.1076,-276.9167 276.9047,-263.0764 296.4583,-252.1628\"/>\n</g>\n<!-- 12 -->\n<g id=\"node6\" class=\"node\">\n<title>12</title>\n<text text-anchor=\"middle\" x=\"27\" y=\"-158.3\" font-family=\"Times,serif\" font-size=\"14.00\" fill=\"#000000\">{1, 2}</text>\n</g>\n<!-- 123&#45;&#45;12 -->\n<g id=\"edge5\" class=\"edge\">\n<title>123&#45;&#45;12</title>\n<path fill=\"none\" stroke=\"#000000\" d=\"M59.8969,-215.8314C53.2778,-205 44.898,-191.2876 38.2526,-180.4133\"/>\n</g>\n<!-- 13 -->\n<g id=\"node7\" class=\"node\">\n<title>13</title>\n<text text-anchor=\"middle\" x=\"99\" y=\"-158.3\" font-family=\"Times,serif\" font-size=\"14.00\" fill=\"#000000\">{1, 3}</text>\n</g>\n<!-- 123&#45;&#45;13 -->\n<g id=\"edge6\" class=\"edge\">\n<title>123&#45;&#45;13</title>\n<path fill=\"none\" stroke=\"#000000\" d=\"M78.0656,-215.8314C82.2778,-205 87.6104,-191.2876 91.8393,-180.4133\"/>\n</g>\n<!-- 23 -->\n<g id=\"node9\" class=\"node\">\n<title>23</title>\n<text text-anchor=\"middle\" x=\"243\" y=\"-158.3\" font-family=\"Times,serif\" font-size=\"14.00\" fill=\"#000000\">{2, 3}</text>\n</g>\n<!-- 123&#45;&#45;23 -->\n<g id=\"edge7\" class=\"edge\">\n<title>123&#45;&#45;23</title>\n<path fill=\"none\" stroke=\"#000000\" d=\"M105.2331,-219.5716C108.1941,-218.3534 111.1474,-217.1489 114,-216 155.1127,-199.4413 166.4668,-197.9306 207,-180 209.8118,-178.7562 212.7205,-177.4082 215.6097,-176.0285\"/>\n</g>\n<!-- 124&#45;&#45;12 -->\n<g id=\"edge8\" class=\"edge\">\n<title>124&#45;&#45;12</title>\n<path fill=\"none\" stroke=\"#000000\" d=\"M124.1955,-215.8314C102.5328,-203.8336 74.4874,-188.3007 54.094,-177.0059\"/>\n</g>\n<!-- 14 -->\n<g id=\"node8\" class=\"node\">\n<title>14</title>\n<text text-anchor=\"middle\" x=\"171\" y=\"-158.3\" font-family=\"Times,serif\" font-size=\"14.00\" fill=\"#000000\">{1, 4}</text>\n</g>\n<!-- 124&#45;&#45;14 -->\n<g id=\"edge9\" class=\"edge\">\n<title>124&#45;&#45;14</title>\n<path fill=\"none\" stroke=\"#000000\" d=\"M160.5328,-215.8314C162.6389,-205 165.3052,-191.2876 167.4196,-180.4133\"/>\n</g>\n<!-- 24 -->\n<g id=\"node10\" class=\"node\">\n<title>24</title>\n<text text-anchor=\"middle\" x=\"315\" y=\"-158.3\" font-family=\"Times,serif\" font-size=\"14.00\" fill=\"#000000\">{2, 4}</text>\n</g>\n<!-- 124&#45;&#45;24 -->\n<g id=\"edge10\" class=\"edge\">\n<title>124&#45;&#45;24</title>\n<path fill=\"none\" stroke=\"#000000\" d=\"M191.114,-219.4105C215.6859,-208.778 249.5587,-193.8667 279,-180 281.9079,-178.6304 284.9332,-177.1718 287.9397,-175.7004\"/>\n</g>\n<!-- 134&#45;&#45;13 -->\n<g id=\"edge11\" class=\"edge\">\n<title>134&#45;&#45;13</title>\n<path fill=\"none\" stroke=\"#000000\" d=\"M208.874,-216.937C183.5905,-204.2953 149.5963,-187.2981 126.1487,-175.5744\"/>\n</g>\n<!-- 134&#45;&#45;14 -->\n<g id=\"edge12\" class=\"edge\">\n<title>134&#45;&#45;14</title>\n<path fill=\"none\" stroke=\"#000000\" d=\"M224.8314,-215.8314C214,-205 200.2876,-191.2876 189.4133,-180.4133\"/>\n</g>\n<!-- 34 -->\n<g id=\"node11\" class=\"node\">\n<title>34</title>\n<text text-anchor=\"middle\" x=\"387\" y=\"-158.3\" font-family=\"Times,serif\" font-size=\"14.00\" fill=\"#000000\">{3, 4}</text>\n</g>\n<!-- 134&#45;&#45;34 -->\n<g id=\"edge13\" class=\"edge\">\n<title>134&#45;&#45;34</title>\n<path fill=\"none\" stroke=\"#000000\" d=\"M277.126,-216.937C302.4095,-204.2953 336.4037,-187.2981 359.8513,-175.5744\"/>\n</g>\n<!-- 234&#45;&#45;23 -->\n<g id=\"edge14\" class=\"edge\">\n<title>234&#45;&#45;23</title>\n<path fill=\"none\" stroke=\"#000000\" d=\"M307.2986,-215.8314C294.2616,-204.9167 277.7302,-191.0764 264.6945,-180.1628\"/>\n</g>\n<!-- 234&#45;&#45;24 -->\n<g id=\"edge15\" class=\"edge\">\n<title>234&#45;&#45;24</title>\n<path fill=\"none\" stroke=\"#000000\" d=\"M325.4672,-215.8314C323.3611,-205 320.6948,-191.2876 318.5804,-180.4133\"/>\n</g>\n<!-- 234&#45;&#45;34 -->\n<g id=\"edge16\" class=\"edge\">\n<title>234&#45;&#45;34</title>\n<path fill=\"none\" stroke=\"#000000\" d=\"M343.6358,-215.8314C352.3611,-205 363.4072,-191.2876 372.1671,-180.4133\"/>\n</g>\n<!-- 1 -->\n<g id=\"node12\" class=\"node\">\n<title>1</title>\n<text text-anchor=\"middle\" x=\"99\" y=\"-86.3\" font-family=\"Times,serif\" font-size=\"14.00\" fill=\"#000000\">{1}</text>\n</g>\n<!-- 12&#45;&#45;1 -->\n<g id=\"edge17\" class=\"edge\">\n<title>12&#45;&#45;1</title>\n<path fill=\"none\" stroke=\"#000000\" d=\"M45.1686,-143.8314C56,-133 69.7124,-119.2876 80.5867,-108.4133\"/>\n</g>\n<!-- 2 -->\n<g id=\"node13\" class=\"node\">\n<title>2</title>\n<text text-anchor=\"middle\" x=\"171\" y=\"-86.3\" font-family=\"Times,serif\" font-size=\"14.00\" fill=\"#000000\">{2}</text>\n</g>\n<!-- 12&#45;&#45;2 -->\n<g id=\"edge18\" class=\"edge\">\n<title>12&#45;&#45;2</title>\n<path fill=\"none\" stroke=\"#000000\" d=\"M54.0853,-148.4574C79.6673,-135.6664 117.8446,-116.5777 143.5466,-103.7267\"/>\n</g>\n<!-- 13&#45;&#45;1 -->\n<g id=\"edge19\" class=\"edge\">\n<title>13&#45;&#45;1</title>\n<path fill=\"none\" stroke=\"#000000\" d=\"M99,-143.8314C99,-133 99,-119.2876 99,-108.4133\"/>\n</g>\n<!-- 3 -->\n<g id=\"node14\" class=\"node\">\n<title>3</title>\n<text text-anchor=\"middle\" x=\"243\" y=\"-86.3\" font-family=\"Times,serif\" font-size=\"14.00\" fill=\"#000000\">{3}</text>\n</g>\n<!-- 13&#45;&#45;3 -->\n<g id=\"edge20\" class=\"edge\">\n<title>13&#45;&#45;3</title>\n<path fill=\"none\" stroke=\"#000000\" d=\"M126.0853,-148.4574C151.6673,-135.6664 189.8446,-116.5777 215.5466,-103.7267\"/>\n</g>\n<!-- 14&#45;&#45;1 -->\n<g id=\"edge21\" class=\"edge\">\n<title>14&#45;&#45;1</title>\n<path fill=\"none\" stroke=\"#000000\" d=\"M152.8314,-143.8314C142,-133 128.2876,-119.2876 117.4133,-108.4133\"/>\n</g>\n<!-- 4 -->\n<g id=\"node15\" class=\"node\">\n<title>4</title>\n<text text-anchor=\"middle\" x=\"315\" y=\"-86.3\" font-family=\"Times,serif\" font-size=\"14.00\" fill=\"#000000\">{4}</text>\n</g>\n<!-- 14&#45;&#45;4 -->\n<g id=\"edge22\" class=\"edge\">\n<title>14&#45;&#45;4</title>\n<path fill=\"none\" stroke=\"#000000\" d=\"M198.0853,-148.4574C223.6673,-135.6664 261.8446,-116.5777 287.5466,-103.7267\"/>\n</g>\n<!-- 23&#45;&#45;2 -->\n<g id=\"edge23\" class=\"edge\">\n<title>23&#45;&#45;2</title>\n<path fill=\"none\" stroke=\"#000000\" d=\"M224.8314,-143.8314C214,-133 200.2876,-119.2876 189.4133,-108.4133\"/>\n</g>\n<!-- 23&#45;&#45;3 -->\n<g id=\"edge24\" class=\"edge\">\n<title>23&#45;&#45;3</title>\n<path fill=\"none\" stroke=\"#000000\" d=\"M243,-143.8314C243,-133 243,-119.2876 243,-108.4133\"/>\n</g>\n<!-- 24&#45;&#45;2 -->\n<g id=\"edge25\" class=\"edge\">\n<title>24&#45;&#45;2</title>\n<path fill=\"none\" stroke=\"#000000\" d=\"M287.9147,-148.4574C262.3327,-135.6664 224.1554,-116.5777 198.4534,-103.7267\"/>\n</g>\n<!-- 24&#45;&#45;4 -->\n<g id=\"edge26\" class=\"edge\">\n<title>24&#45;&#45;4</title>\n<path fill=\"none\" stroke=\"#000000\" d=\"M315,-143.8314C315,-133 315,-119.2876 315,-108.4133\"/>\n</g>\n<!-- 34&#45;&#45;3 -->\n<g id=\"edge27\" class=\"edge\">\n<title>34&#45;&#45;3</title>\n<path fill=\"none\" stroke=\"#000000\" d=\"M359.9147,-148.4574C334.3327,-135.6664 296.1554,-116.5777 270.4534,-103.7267\"/>\n</g>\n<!-- 34&#45;&#45;4 -->\n<g id=\"edge28\" class=\"edge\">\n<title>34&#45;&#45;4</title>\n<path fill=\"none\" stroke=\"#000000\" d=\"M368.8314,-143.8314C358,-133 344.2876,-119.2876 333.4133,-108.4133\"/>\n</g>\n<!-- 0 -->\n<g id=\"node16\" class=\"node\">\n<title>0</title>\n<text text-anchor=\"start\" x=\"199.5\" y=\"-14.3\" font-family=\"Times,serif\" font-size=\"14.00\" fill=\"#000000\">∅</text>\n</g>\n<!-- 1&#45;&#45;0 -->\n<g id=\"edge29\" class=\"edge\">\n<title>1&#45;&#45;0</title>\n<path fill=\"none\" stroke=\"#000000\" d=\"M126.253,-71.8314C142.6249,-60.9167 163.3853,-47.0764 179.7558,-36.1628\"/>\n</g>\n<!-- 2&#45;&#45;0 -->\n<g id=\"edge30\" class=\"edge\">\n<title>2&#45;&#45;0</title>\n<path fill=\"none\" stroke=\"#000000\" d=\"M180.0843,-71.8314C185.5,-61 192.3562,-47.2876 197.7934,-36.4133\"/>\n</g>\n<!-- 3&#45;&#45;0 -->\n<g id=\"edge31\" class=\"edge\">\n<title>3&#45;&#45;0</title>\n<path fill=\"none\" stroke=\"#000000\" d=\"M233.9157,-71.8314C228.5,-61 221.6438,-47.2876 216.2066,-36.4133\"/>\n</g>\n<!-- 4&#45;&#45;0 -->\n<g id=\"edge32\" class=\"edge\">\n<title>4&#45;&#45;0</title>\n<path fill=\"none\" stroke=\"#000000\" d=\"M287.747,-71.8314C271.3751,-60.9167 250.6147,-47.0764 234.2442,-36.1628\"/>\n</g>\n</g>\n</svg>\n"
          },
          "metadata": {
            "tags": []
          },
          "execution_count": 31
        }
      ]
    },
    {
      "cell_type": "markdown",
      "metadata": {
        "id": "hs-CX-NiLqt7"
      },
      "source": [
        "### 3\n",
        "From the reading we learn that a Gödel hash can uniquely identify the original object. Does this mean that most hashes are larger than their original objects?\n",
        "#### Answer\n",
        "It depends on the prime map and the elements being hashed.\n",
        "\n",
        "### 4\n",
        "As defined in the book, \"An equivalence relation is a binary relation that is reflexive, symmetric, and transitive.\" This being the case, if a relation is symmetric and transitive, would it not also **have** to be reflexive? Why or why not?\n",
        "#### Answer\n",
        "The is-sibling-of relation is symmetric and transitive, but not reflexive.\n",
        "\n",
        "### 5\n",
        "In the book an example is given of a relation $R_1 = \\{(1, 1)\\}$, which is characterized as both symmetric and antisymmetric. With the standard meaning of the word symmetry it's hard to envision how something could be both symmetric and antisymmetric. Are the only relations that possess both properties those in which x = y?\n",
        "#### Answer\n",
        "Yes. In fact, any subset of the identity relation possesses both.\n",
        "\n",
        "(Note: The empty relation vacuously does too.)\n",
        "\n",
        "### 6\n",
        "What, exactly, is the prime basis of a poset?\n",
        "\n",
        "According to the reading, the prime basis is a subset of the poset. Also, \"A poset has a prime basis if every (non-bottom) element has a unique decomposition as the least upper bound of a finite number of basis elements.\" Is this saying that each element in the poset has a unique decomposition, or each element in the prime basis has a unique decomposition?\n",
        "#### Answer\n",
        "A good example, related to the poster-child poset mentioned earlier, is given in V.B.d) *factorable power sets*: A partially ordered power set (P(S), ⊆) where the order is inclusion is easily factorable: its prime basis, $B_{P(S)}$, consists of the singleton sets over $S: \\{\\{s\\} : s \\in S\\}$.\n",
        "\n",
        "### 7\n",
        "When considering binary relations, does a partial order always imply divisibility? If so, is this the reason Gödel hashes are considered partial order-preserving?\n",
        "#### Answer\n",
        "\"Divides\" (e.g. 3 | 12) is a partial order. It can profitably be thought of when pondering the abstract nature of these objects.\n",
        "\n",
        "## For Your Consideration, Profit, and Learning\n",
        "There's a feature column of the American Mathematical Society called *Monthly essays on mathematical topics*. Here's one:\n",
        "\n",
        "https://www.ams.org/publicoutreach/feature-column/fcarc-stern-brocot\n",
        "\n",
        "The above link to the original AMS site is broken sometimes, or the images are broken, so here's a PDF version someone captured:\n",
        "\n",
        "https://gaurish4math.files.wordpress.com/2016/10/feature-column-from-the-ams.pdf\n",
        "\n"
      ]
    }
  ]
}