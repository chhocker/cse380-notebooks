{
  "nbformat": 4,
  "nbformat_minor": 0,
  "metadata": {
    "colab": {
      "name": "09_1_About_Huffman_Trees_and_Codes.ipynb",
      "provenance": [],
      "collapsed_sections": [],
      "authorship_tag": "ABX9TyNYVKKcM6551Wvyp7aqsOho",
      "include_colab_link": true
    },
    "kernelspec": {
      "name": "python3",
      "display_name": "Python 3",
      "language": "python"
    }
  },
  "cells": [
    {
      "cell_type": "markdown",
      "metadata": {
        "id": "view-in-github",
        "colab_type": "text"
      },
      "source": [
        "<a href=\"https://colab.research.google.com/github/byui-cse/cse380-notebooks/blob/master/09_1_About_Huffman_Trees_and_Codes.ipynb\" target=\"_parent\"><img src=\"https://colab.research.google.com/assets/colab-badge.svg\" alt=\"Open In Colab\"/></a>"
      ]
    },
    {
      "cell_type": "markdown",
      "metadata": {
        "id": "VPy5vbgRQBMQ"
      },
      "source": [
        "# About Huffman Trees and Codes\n",
        "## Divide Pair Conquer\n",
        "### Due: Monday, 1 March 2021, 11:59 pm"
      ]
    },
    {
      "cell_type": "markdown",
      "metadata": {
        "id": "sgaSqpkyQMwl"
      },
      "source": [
        "## Goal"
      ]
    },
    {
      "cell_type": "markdown",
      "metadata": {
        "id": "_YpNGyjWQbVx"
      },
      "source": [
        "Review Huffman Trees and Codes from DM1 to get ready for your Ponder and Prove assignment."
      ]
    },
    {
      "cell_type": "code",
      "metadata": {
        "id": "7C-ClNTHQkFw"
      },
      "source": [
        "from math import ceil, log\n",
        "from collections import Counter\n",
        "\n",
        "def show_results(message, code_tuples):\n",
        "  total_characters = len(message)\n",
        "  total_unique_characters = len(code_tuples)\n",
        "  total_bits = 0\n",
        "  for char, count, code in code_tuples:\n",
        "    total_bits += count * len(code)\n",
        "  average_bits_per_character = total_bits / total_characters\n",
        "  fixed_bits_per_character = ceil(log(total_unique_characters, 2))\n",
        "  total_fixed_bits = total_characters * fixed_bits_per_character\n",
        "  compression_ratio = (total_fixed_bits - total_bits) / total_fixed_bits\n",
        "  print(f'          Total Characters: {total_characters}')\n",
        "  print(f'   Total Unique Characters: {total_unique_characters}')\n",
        "  print(f'                Total Bits: {total_bits}')\n",
        "  print(f'Average Bits per Character: {average_bits_per_character:.2f}')\n",
        "  print(f'  Fixed Bits per Character: {fixed_bits_per_character}')\n",
        "  print(f'          Total Fixed Bits: {total_fixed_bits}')\n",
        "  print(f'         Compression Ratio: {compression_ratio:.3f}')\n",
        "\n",
        "message1 = 'thebookofmormon'\n",
        "counter1 = Counter(message1)\n",
        "\n",
        "print(message1, '-->', counter1)\n",
        "\n",
        "message2 = 'therestoration'\n",
        "\n",
        "counter2 = Counter(message2)\n",
        "\n",
        "print(message2, '-->', counter2)"
      ],
      "execution_count": 26,
      "outputs": [
        {
          "output_type": "stream",
          "name": "stdout",
          "text": [
            "thebookofmormon --> Counter({'o': 5, 'm': 2, 't': 1, 'h': 1, 'e': 1, 'b': 1, 'k': 1, 'f': 1, 'r': 1, 'n': 1})\ntherestoration --> Counter({'t': 3, 'e': 2, 'r': 2, 'o': 2, 'h': 1, 's': 1, 'a': 1, 'i': 1, 'n': 1})\n"
          ]
        }
      ]
    },
    {
      "cell_type": "markdown",
      "metadata": {
        "id": "YnsvrdQkRZIP"
      },
      "source": [
        "### Which message has the lower compression ratio?"
      ]
    },
    {
      "cell_type": "markdown",
      "metadata": {
        "id": "ZQZ9qfo-RgDB"
      },
      "source": [
        "#### Message 1"
      ]
    },
    {
      "cell_type": "markdown",
      "metadata": {
        "id": "66pMEoO_Rkb3"
      },
      "source": [
        "Do all the steps, like the examples in the book, first sorting the counted occurrences:\n",
        "\n",
        "| Char | # |\n",
        "|------|---|\n",
        "|   b  | 1 |\n",
        "|   e  | 1 |\n",
        "|   f  | 1 |\n",
        "|   h  | 1 |\n",
        "|   k  | 1 |\n",
        "|   n  | 1 |\n",
        "|   r  | 1 |\n",
        "|   t  | 1 |\n",
        "|   m  | 2 |\n",
        "|   o  | 5 |"
      ]
    },
    {
      "cell_type": "markdown",
      "metadata": {
        "id": "Sf-Wc2SvSMvh"
      },
      "source": [
        "##### The ever-shrinking queue:"
      ]
    },
    {
      "cell_type": "markdown",
      "metadata": {
        "id": "1NVAHiTySQUZ"
      },
      "source": [
        "* b1 e1 f1 h1 k1 n1 r1 t1 m2 o5\n",
        "* f1 h1 k1 n1 r1 t1 m2 be2 o5\n",
        "* k1 n1 r1 t1 m2 be2 fh2 o5\n",
        "* r1 t1 m2 be2 fh2 kn2 o5\n",
        "* m2 be2 fh2 kn2 rt2 o5\n",
        "* fh2 kn2 rt2 mbe4 o5\n",
        "* rt2 meb4 fhkn4 o5\n",
        "* fhkn4 o5 rtmeb6\n",
        "* rtmbe6 fhkno9\n",
        "* rtmbefhkno15"
      ]
    },
    {
      "cell_type": "markdown",
      "metadata": {
        "id": "FQ542b55SnRo"
      },
      "source": [
        "##### The Huffman Tree:"
      ]
    },
    {
      "cell_type": "code",
      "metadata": {
        "id": "JEatqgo2S2GS"
      },
      "source": [
        "'''\n",
        "       rtmbefhkno15\n",
        "         /        \\\n",
        "     rtmbe6      fhkno9\n",
        "     /   \\        /    \\\n",
        "  rt2   mbe4   fhkn4   o5\n",
        "  /\\    / \\     /   \\\n",
        "r1 t1 m2 be2  fh2   kn2\n",
        "         / \\  / \\   / \\\n",
        "       b1 e1 f1 h1 k1 n1\n",
        "'''"
      ],
      "execution_count": null,
      "outputs": []
    },
    {
      "cell_type": "markdown",
      "metadata": {
        "id": "Zz3k9BfdSqMh"
      },
      "source": [
        "##### The Code Tuples"
      ]
    },
    {
      "cell_type": "markdown",
      "metadata": {
        "id": "k8NwLvJzTzOd"
      },
      "source": [
        "Read the codes from the tree:"
      ]
    },
    {
      "cell_type": "code",
      "metadata": {
        "colab": {
          "base_uri": "https://localhost:8080/"
        },
        "id": "7dT6TB3MS7wY",
        "outputId": "c549846d-a912-48bb-b7e0-b5730cea5f49"
      },
      "source": [
        "message1_code_tuples = \\\n",
        "[('b', 1, '0110'),\n",
        " ('e', 1, '0111'),\n",
        " ('f', 1, '1000'),\n",
        " ('h', 1, '1001'),\n",
        " ('k', 1, '1010'),\n",
        " ('m', 2, '010'),\n",
        " ('n', 1, '1011'),\n",
        " ('o', 5, '11'),\n",
        " ('r', 1, '000'),\n",
        " ('t', 1, '001'),\n",
        "]\n",
        "\n",
        "show_results(message1, message1_code_tuples)"
      ],
      "execution_count": 13,
      "outputs": [
        {
          "output_type": "stream",
          "text": [
            "          Total Characters: 15\n",
            "   Total Unique Characters: 10\n",
            "                Total Bits: 46\n",
            "Average Bits per Character: 3.07\n",
            "  Fixed Bits per Character: 4\n",
            "          Total Fixed Bits: 60\n",
            "         Compression Ratio: 0.233\n"
          ],
          "name": "stdout"
        }
      ]
    },
    {
      "cell_type": "markdown",
      "metadata": {
        "id": "EekOyNAyVbY3"
      },
      "source": [
        "#### Message 2"
      ]
    },
    {
      "cell_type": "markdown",
      "metadata": {
        "id": "5ktqJRmOVbY3"
      },
      "source": [
        "Do all the steps, like the examples in the book, first sorting the counted occurrences:\n",
        "\n",
        "| Char | # |\n",
        "|------|---|\n",
        "|   a  | 1 |\n",
        "|   h  | 1 |\n",
        "|   i  | 1 |\n",
        "|   n  | 1 |\n",
        "|   s  | 1 |\n",
        "|   e  | 2 |\n",
        "|   o  | 2 |\n",
        "|   r  | 2 |\n",
        "|   t  | 3 |"
      ]
    },
    {
      "cell_type": "markdown",
      "metadata": {
        "id": "BjOIgAZZVbY4"
      },
      "source": [
        "##### The ever-shrinking queue:"
      ]
    },
    {
      "cell_type": "markdown",
      "metadata": {
        "id": "LEVjSFE9VbY4"
      },
      "source": [
        "* a1 h1 i1 n1 s1 e2 o2 r2 t3\n",
        "* i1 n1 s1 e2 o2 r2 ah2 t3\n",
        "* s1 e2 o2 r2 ah2 in2 t3\n",
        "* o2 r2 ah2 in2 t3 se3\n",
        "* ah2 in2 t3 se3 or4\n",
        "* t3 se3 or4 ahin4\n",
        "* or4 ahin4 tse6\n",
        "* tse6 orahin8\n",
        "* tseorahin14"
      ]
    },
    {
      "cell_type": "markdown",
      "metadata": {
        "id": "ZeozgfOLVbY4"
      },
      "source": [
        "##### The Huffman Tree:"
      ]
    },
    {
      "cell_type": "code",
      "metadata": {
        "id": "-2FB2vHtVbY4"
      },
      "source": [
        "'''\n",
        "    tseorahin14\n",
        "    /        \\\n",
        " tse6     orahin8\n",
        "  / \\      /    \\\n",
        "t3 se3   or4   ahin4\n",
        "   / \\   / \\    /   \\\n",
        "  s1 e2 o2 r2 ah2   in2\n",
        "              / \\   / \\\n",
        "             a1 h1 i1 n1\n",
        "'''"
      ],
      "execution_count": null,
      "outputs": []
    },
    {
      "cell_type": "markdown",
      "metadata": {
        "id": "Weh87t4iVbY6"
      },
      "source": [
        "##### The Code Tuples"
      ]
    },
    {
      "cell_type": "markdown",
      "metadata": {
        "id": "-uihVyZuVbY6"
      },
      "source": [
        "Read the codes from the tree:"
      ]
    },
    {
      "cell_type": "code",
      "metadata": {
        "id": "3J20ht-dVbY6"
      },
      "source": [
        "message2_code_tuples = \\\n",
        "[('a', 1, '1100'),\n",
        " ('e', 2, '011'),\n",
        " ('h', 1, '1101'),\n",
        " ('i', 1, '1110'),\n",
        " ('n', 1, '1111'),\n",
        " ('o', 2, '100'),\n",
        " ('r', 2, '101'),\n",
        " ('s', 1, '010'),\n",
        " ('t', 3, '00'),\n",
        "]\n",
        "\n",
        "show_results(message2, message2_code_tuples)"
      ],
      "execution_count": 27,
      "outputs": [
        {
          "output_type": "stream",
          "name": "stdout",
          "text": [
            "          Total Characters: 14\n   Total Unique Characters: 9\n                Total Bits: 43\nAverage Bits per Character: 3.07\n  Fixed Bits per Character: 4\n          Total Fixed Bits: 56\n         Compression Ratio: 0.232\n"
          ]
        }
      ]
    },
    {
      "cell_type": "markdown",
      "metadata": {
        "id": "iNVsz1Pixjxg"
      },
      "source": [
        "### DONE Create Data Tree and Code"
      ]
    },
    {
      "cell_type": "markdown",
      "metadata": {
        "id": "5HGwfaArxmyg"
      },
      "source": [
        "More warmup for your Ponder and Prove assignment this week:\n",
        "\n",
        "Create a Huffman Tree and codes for the gaps between the first few prime (except for the gap of size 1 between 2 and 3). Your goal is to find how many is \"few\" enough to have a compression ratio **better than 24%**.\n"
      ]
    },
    {
      "cell_type": "code",
      "metadata": {
        "colab": {
          "base_uri": "https://localhost:8080/"
        },
        "id": "7TBjHxPqx9WI",
        "outputId": "adf1269c-93da-47b4-c802-8f8cb124cab6"
      },
      "source": [
        "from sympy import primerange\n",
        "\n",
        "table = {}\n",
        "primes = []\n",
        "prev = 3\n",
        "gap = 0\n",
        "for prime in list(primerange(4, 101)):\n",
        "    gap = prime - prev\n",
        "    primes.append(prime)\n",
        "    #print(gap)\n",
        "    prev = prime\n",
        "    if (gap in table):\n",
        "        table[gap] += 1\n",
        "    else:\n",
        "        table[gap] = 1\n",
        "table"
      ],
      "execution_count": 24,
      "outputs": [
        {
          "output_type": "execute_result",
          "data": {
            "text/plain": [
              "{2: 8, 4: 7, 6: 7, 8: 1}"
            ]
          },
          "metadata": {},
          "execution_count": 24
        }
      ]
    },
    {
      "source": [
        "From 4 to 1000\n",
        "\n",
        "\n",
        "| Gap | # |\n",
        "|------|---|\n",
        "|   2  | 35 |\n",
        "|   4  | 40 |\n",
        "|   6  | 44 |\n",
        "|   8  | 15 |\n",
        "|   10  | 16 |\n",
        "|   12 | 7|\n",
        "|   14  | 7 |\n",
        "|   18  | 1 |\n",
        "|   20  | 1 |"
      ],
      "cell_type": "markdown",
      "metadata": {}
    },
    {
      "cell_type": "code",
      "execution_count": null,
      "metadata": {},
      "outputs": [],
      "source": []
    },
    {
      "source": [
        "(18)-1 | (20)-1  |  (12)-7 |  (14))-7 |  (8)-15 |  (10)-16 |  (2)-35  |  (4)-40   |  (6)-44\n",
        "\n",
        "**(18)(20)-2**   |  (12)-7   |  (14)-7   |  (8)-15   |  (10)-16   |  (2)-35   |  (4)-40   |  (6)-44\n",
        "\n",
        "(14)-7   |  **(12)(18)(20)-9**   |  (8)-15   |  (10)-16   |  (2)-35   |  (4)-40   |  (6)-44\n",
        "\n",
        "(8)-15   |  (10)-16   |  **(12)(14)(18)(20)-16**   |  (2)-35   |  (4)-40   |  (6)-44\n",
        "\n",
        "(12)(14)(18)(20)-16   |  **(8)(10)-31**   |  (2)-35 (4)-40   |  (6)-44\n",
        "\n",
        "(2)-35   |  (4)-40   |  (6)-44  |   **(8)(10)(12)(14)(18)(20)-47**\n",
        "\n",
        "(6)-44  |   (8)(10)(12)(14)(18)(20)-47   |  **(2)(4)-75**\n",
        "\n",
        "**(6)(8)(10)(12)(14)(18)(20)-91**   |  (2)(4)-75\n",
        "\n",
        "**(2)(4)(6)(8)(10)(12)(14)(18)(20)-166**\n",
        "\n",
        "\n",
        "\n"
      ],
      "cell_type": "markdown",
      "metadata": {}
    },
    {
      "cell_type": "code",
      "execution_count": null,
      "metadata": {},
      "outputs": [],
      "source": [
        "'''\n",
        "                                (2, 4, 6, 8, 10, 12, 14, 18, 20)[166]\n",
        "                                        /               \\\n",
        "                            (2, 4)[75]             (6, 8, 10, 12, 14, 18, 20)[91]\n",
        "                            /   \\                       /           \\\n",
        "                         (2)[35] (4)[40]            (6)[44]         (8, 10, 12, 14, 18, 20)[47]\n",
        "                                                                        /                    \\           \n",
        "                                                         (12)(14)(18)(20)-16              (8)(10)-31    \n",
        "                                                            /       \\                     /       \\\n",
        "                                                       (14)-7     (12)(18)(20)-9      (8)-15        (10)-16\n",
        "                                                                     /      \\                           \n",
        "                                                            (18)(20)-2     (12)-7\n",
        "                                                               /   \\\n",
        "                                                        (18)-1    (20)-1\n",
        "'''"
      ]
    },
    {
      "source": [
        "| Gap | # | Code|\n",
        "|------|---|---|\n",
        "|   2  | 35 | 00|\n",
        "|   4  | 40 |01|\n",
        "|   6  | 44 |10|\n",
        "|   8  | 15 |1110|\n",
        "|   10  | 16 |1111|\n",
        "|   12 | 7|11011|\n",
        "|   14  | 7 |1100|\n",
        "|   18  | 1 |110100|\n",
        "|   20  | 1 |110101|"
      ],
      "cell_type": "markdown",
      "metadata": {}
    },
    {
      "source": [
        "'''\n",
        "{2: 8, 4: 7, 6: 7, 8: 1}\n",
        "\n",
        "(8)-1 (2)-8 (4)-7 (6)-7\n",
        "\n",
        "(4)-7 (6)-7 (2)(8)-9\n",
        "\n",
        "(2)(8)-9 (4)(6)-14\n",
        "\n",
        "                                            (2)(4)(6)(8)-23\n",
        "                                             /            \\\n",
        "                                         (2)(8)-9           (4)(6)-14  \n",
        "                                        /        \\          /       \\\n",
        "                                    (8)-1       (2)-8     (4)-7     (6)-7\n",
        "\n",
        "'''\n"
      ],
      "cell_type": "code",
      "metadata": {},
      "execution_count": 25,
      "outputs": [
        {
          "output_type": "execute_result",
          "data": {
            "text/plain": [
              "'\\n{2: 8, 4: 7, 6: 7, 8: 1}\\n\\n(8)-1 (2)-8 (4)-7 (6)-7\\n\\n(4)-7 (6)-7 (2)(8)-9\\n\\n(2)(8)-9 (4)(6)-14\\n\\n                                            (2)(4)(6)(8)-23\\n                                             /                                                     (2)(8)-9           (4)(6)-14  \\n                                        /        \\\\          /                                           (8)-1       (2)-8     (4)-7     (6)-7\\n\\n'"
            ]
          },
          "metadata": {},
          "execution_count": 25
        }
      ]
    },
    {
      "cell_type": "code",
      "execution_count": 28,
      "metadata": {},
      "outputs": [
        {
          "output_type": "stream",
          "name": "stdout",
          "text": [
            "          Total Characters: 23\n   Total Unique Characters: 4\n                Total Bits: 46\nAverage Bits per Character: 2.00\n  Fixed Bits per Character: 2\n          Total Fixed Bits: 46\n         Compression Ratio: 0.000\n"
          ]
        }
      ],
      "source": [
        "message2_code_tuples = \\\n",
        "[('2', 8, '01'),\n",
        " ('4', 7, '10'),\n",
        " ('6', 7, '11'),\n",
        " ('8', 1, '00')\n",
        "]\n",
        "\n",
        "message2 = '22222222444444466666668'\n",
        "show_results(message2, message2_code_tuples)"
      ]
    },
    {
      "cell_type": "code",
      "execution_count": 13,
      "metadata": {},
      "outputs": [],
      "source": []
    },
    {
      "cell_type": "code",
      "execution_count": null,
      "metadata": {},
      "outputs": [],
      "source": []
    }
  ]
}