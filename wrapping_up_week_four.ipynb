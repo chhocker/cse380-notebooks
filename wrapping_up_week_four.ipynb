{
 "cells": [
  {
   "cell_type": "markdown",
   "metadata": {},
   "source": [
    "# Wrapping Up Week Four\n",
    "  At the end (of class meetings) of this fourth week, let's recap:\n",
    "## GCD\n",
    "  Revisiting this important concept one more time:\n",
    "### Important?\n",
    "   Important enough to be a library-import away:"
   ]
  },
  {
   "cell_type": "code",
   "execution_count": 2,
   "metadata": {},
   "outputs": [
    {
     "name": "stdout",
     "output_type": "stream",
     "text": [
      "1\n"
     ]
    }
   ],
   "source": [
    "from math import gcd\n",
    "\n",
    "print(gcd(89932875987987948500007, 5677777777777777777777))"
   ]
  },
  {
   "cell_type": "markdown",
   "metadata": {},
   "source": [
    "### Trace and Test"
   ]
  },
  {
   "cell_type": "code",
   "execution_count": 3,
   "metadata": {},
   "outputs": [],
   "source": [
    "from math import floor, log10\n",
    "\n",
    "def trace_gcd(a, b):\n",
    "    r = -1\n",
    "    num_digits_in_a = str(floor(log10(a)) + 1)\n",
    "    num_digits_in_b = str(floor(log10(b)) + 1)\n",
    "    num_digits_in_r = str(floor(log10(a % b)) + 1)\n",
    "    format_specifier = '{0:' + num_digits_in_a + \\\n",
    "                       '} = {1:' + num_digits_in_b + \\\n",
    "                       '}({2}) + {3:' + num_digits_in_r + '}'\n",
    "    while r:\n",
    "        q = a // b\n",
    "        r = a % b\n",
    "        print(format_specifier.format(a, b, q, r))\n",
    "        a, b = b, r"
   ]
  },
  {
   "cell_type": "code",
   "execution_count": 4,
   "metadata": {},
   "outputs": [
    {
     "name": "stdout",
     "output_type": "stream",
     "text": [
      "87 = 55(1) + 32\n",
      "55 = 32(1) + 23\n",
      "32 = 23(1) +  9\n",
      "23 =  9(2) +  5\n",
      " 9 =  5(1) +  4\n",
      " 5 =  4(1) +  1\n",
      " 4 =  1(4) +  0\n"
     ]
    }
   ],
   "source": [
    "trace_gcd(87,55)"
   ]
  },
  {
   "cell_type": "code",
   "execution_count": 5,
   "metadata": {},
   "outputs": [
    {
     "name": "stdout",
     "output_type": "stream",
     "text": [
      "89 = 56(1) + 33\n",
      "56 = 33(1) + 23\n",
      "33 = 23(1) + 10\n",
      "23 = 10(2) +  3\n",
      "10 =  3(3) +  1\n",
      " 3 =  1(3) +  0\n"
     ]
    }
   ],
   "source": [
    "trace_gcd(89, 56)"
   ]
  },
  {
   "cell_type": "code",
   "execution_count": 6,
   "metadata": {},
   "outputs": [
    {
     "name": "stdout",
     "output_type": "stream",
     "text": [
      "56 = 89(0) + 56\n",
      "89 = 56(1) + 33\n",
      "56 = 33(1) + 23\n",
      "33 = 23(1) + 10\n",
      "23 = 10(2) +  3\n",
      "10 =  3(3) +  1\n",
      " 3 =  1(3) +  0\n"
     ]
    }
   ],
   "source": [
    "trace_gcd(56, 89)"
   ]
  },
  {
   "cell_type": "code",
   "execution_count": 7,
   "metadata": {},
   "outputs": [],
   "source": [
    "from fractions import Fraction as frac\n",
    "\n",
    "def contfrac2frac(seq):\n",
    "    \"\"\"Convert the simple continued fraction in `seq`\n",
    "       into a fraction with numerator num and denominator den.\n",
    "    \"\"\"\n",
    "    num, den = 1, 0\n",
    "    for u in reversed(seq):\n",
    "        num, den = den + num * u, num\n",
    "    return frac(num, den)\n",
    "\n",
    "def frac2contfrac(f):\n",
    "    \"\"\"Build the simple continued fraction expansion of fraction f.\n",
    "    \"\"\"\n",
    "    seq = []\n",
    "    frac2contfrac_rec(f, seq)\n",
    "    return seq\n",
    "\n",
    "def frac2contfrac_rec(f, seq):\n",
    "    n = f.numerator\n",
    "    d = f.denominator\n",
    "    if d != 0:\n",
    "        seq.append(n // d)\n",
    "        if n % d != 0:\n",
    "            frac2contfrac_rec(frac(d, n % d), seq)\n",
    "\n",
    "def e_cont_frac(n):\n",
    "    \"\"\"Build `n` terms of the simple continued fraction expansion of e\n",
    "        `n` must be a positive integer\n",
    "    \"\"\"\n",
    "    seq = [2 * (i + 1) // 3 if i % 3 == 2 else 1 for i in range(n)]\n",
    "    seq[0] += 1\n",
    "    return seq\n",
    "\n",
    "def eval_frac(f):\n",
    "    \"\"\"Evaluate the fraction f as a float.\n",
    "    \"\"\"\n",
    "    return f.numerator / f.denominator"
   ]
  },
  {
   "cell_type": "code",
   "execution_count": 8,
   "metadata": {},
   "outputs": [
    {
     "name": "stdout",
     "output_type": "stream",
     "text": [
      "[1, 1, 1, 2, 3, 3]\n"
     ]
    }
   ],
   "source": [
    "print(frac2contfrac(frac(89, 56)))"
   ]
  },
  {
   "cell_type": "code",
   "execution_count": 9,
   "metadata": {},
   "outputs": [
    {
     "name": "stdout",
     "output_type": "stream",
     "text": [
      "1.618033988749895\n",
      "[1, 1, 1, 1, 1, 1, 1, 1, 1, 1, 1, 1, 1, 1, 1, 1, 1, 1, 1, 1, 1, 1, 1, 1, 1, 1, 1, 1, 1, 1, 1, 1, 1, 2]\n",
      "True\n"
     ]
    }
   ],
   "source": [
    "from math import sqrt\n",
    "\n",
    "phi = (sqrt(5) + 1) / 2\n",
    "print(phi)\n",
    "\n",
    "phi_as_frac = frac(phi).limit_denominator(10000000)\n",
    "\n",
    "cfr_phi_as_frac = frac2contfrac(phi_as_frac)\n",
    "print(cfr_phi_as_frac)\n",
    "print(all(map(lambda x: x == 1, cfr_phi_as_frac[:-1])))"
   ]
  },
  {
   "cell_type": "code",
   "execution_count": 10,
   "metadata": {},
   "outputs": [
    {
     "name": "stdout",
     "output_type": "stream",
     "text": [
      "377 = 233(1) + 144\n",
      "233 = 144(1) +  89\n",
      "144 =  89(1) +  55\n",
      " 89 =  55(1) +  34\n",
      " 55 =  34(1) +  21\n",
      " 34 =  21(1) +  13\n",
      " 21 =  13(1) +   8\n",
      " 13 =   8(1) +   5\n",
      "  8 =   5(1) +   3\n",
      "  5 =   3(1) +   2\n",
      "  3 =   2(1) +   1\n",
      "  2 =   1(2) +   0\n"
     ]
    }
   ],
   "source": [
    "trace_gcd(377, 233)"
   ]
  },
  {
   "cell_type": "code",
   "execution_count": 11,
   "metadata": {},
   "outputs": [
    {
     "name": "stdout",
     "output_type": "stream",
     "text": [
      "899 = 493(1) + 406\n",
      "493 = 406(1) +  87\n",
      "406 =  87(4) +  58\n",
      " 87 =  58(1) +  29\n",
      " 58 =  29(2) +   0\n"
     ]
    }
   ],
   "source": [
    "trace_gcd(899, 493)"
   ]
  },
  {
   "cell_type": "markdown",
   "metadata": {},
   "source": [
    "## Now, about that Stern-Brocot Tree Address!\n",
    "\n",
    "   5/2 is at address 110, equals 2.5000000"
   ]
  },
  {
   "cell_type": "code",
   "execution_count": 12,
   "metadata": {},
   "outputs": [
    {
     "name": "stdout",
     "output_type": "stream",
     "text": [
      "5 = 2(2) + 1\n",
      "2 = 1(2) + 0\n"
     ]
    }
   ],
   "source": [
    "trace_gcd(5, 2)"
   ]
  },
  {
   "cell_type": "markdown",
   "metadata": {},
   "source": [
    "8/3 is at address 1101, equals 2.666666..."
   ]
  },
  {
   "cell_type": "code",
   "execution_count": 13,
   "metadata": {},
   "outputs": [
    {
     "name": "stdout",
     "output_type": "stream",
     "text": [
      "8 = 3(2) + 2\n",
      "3 = 2(1) + 1\n",
      "2 = 1(2) + 0\n"
     ]
    }
   ],
   "source": [
    "trace_gcd(8, 3)"
   ]
  },
  {
   "cell_type": "markdown",
   "metadata": {},
   "source": [
    "11/4 is at address 11011, equals 2.7500000..."
   ]
  },
  {
   "cell_type": "code",
   "execution_count": 14,
   "metadata": {},
   "outputs": [
    {
     "name": "stdout",
     "output_type": "stream",
     "text": [
      "11 = 4(2) + 3\n",
      " 4 = 3(1) + 1\n",
      " 3 = 1(3) + 0\n"
     ]
    }
   ],
   "source": [
    "trace_gcd(11, 4)"
   ]
  },
  {
   "cell_type": "markdown",
   "metadata": {},
   "source": [
    "19/7 is at address 110110, equals 2.7142857..."
   ]
  },
  {
   "cell_type": "code",
   "execution_count": 15,
   "metadata": {},
   "outputs": [
    {
     "name": "stdout",
     "output_type": "stream",
     "text": [
      "19 = 7(2) + 5\n",
      " 7 = 5(1) + 2\n",
      " 5 = 2(2) + 1\n",
      " 2 = 1(2) + 0\n"
     ]
    }
   ],
   "source": [
    "trace_gcd(19, 7)"
   ]
  },
  {
   "cell_type": "markdown",
   "metadata": {},
   "source": [
    "30/11 is at address 1101101, equals 2.7272727..."
   ]
  },
  {
   "cell_type": "code",
   "execution_count": 16,
   "metadata": {},
   "outputs": [
    {
     "name": "stdout",
     "output_type": "stream",
     "text": [
      "30 = 11(2) + 8\n",
      "11 =  8(1) + 3\n",
      " 8 =  3(2) + 2\n",
      " 3 =  2(1) + 1\n",
      " 2 =  1(2) + 0\n"
     ]
    }
   ],
   "source": [
    "trace_gcd(30, 11)"
   ]
  },
  {
   "cell_type": "markdown",
   "metadata": {},
   "source": [
    "49/18 is at address 11011010, equals 2.7222222..."
   ]
  },
  {
   "cell_type": "code",
   "execution_count": 17,
   "metadata": {},
   "outputs": [
    {
     "name": "stdout",
     "output_type": "stream",
     "text": [
      "49 = 18(2) + 13\n",
      "18 = 13(1) +  5\n",
      "13 =  5(2) +  3\n",
      " 5 =  3(1) +  2\n",
      " 3 =  2(1) +  1\n",
      " 2 =  1(2) +  0\n"
     ]
    }
   ],
   "source": [
    "trace_gcd(49, 18)"
   ]
  },
  {
   "cell_type": "code",
   "execution_count": 18,
   "metadata": {},
   "outputs": [
    {
     "name": "stdout",
     "output_type": "stream",
     "text": [
      "[2, 1, 2, 1, 1, 2]\n"
     ]
    }
   ],
   "source": [
    "print(frac2contfrac(frac(49, 18)))"
   ]
  },
  {
   "cell_type": "markdown",
   "metadata": {},
   "source": [
    "87/32 is at address 1101101000, equals 2.7187500..."
   ]
  },
  {
   "cell_type": "code",
   "execution_count": 19,
   "metadata": {},
   "outputs": [
    {
     "name": "stdout",
     "output_type": "stream",
     "text": [
      "87 = 32(2) + 23\n",
      "32 = 23(1) +  9\n",
      "23 =  9(2) +  5\n",
      " 9 =  5(1) +  4\n",
      " 5 =  4(1) +  1\n",
      " 4 =  1(4) +  0\n"
     ]
    }
   ],
   "source": [
    "trace_gcd(87, 32)"
   ]
  },
  {
   "cell_type": "markdown",
   "metadata": {},
   "source": [
    "106/39 is at address 11011010000, equals 2.7179487..."
   ]
  },
  {
   "cell_type": "code",
   "execution_count": 20,
   "metadata": {},
   "outputs": [
    {
     "name": "stdout",
     "output_type": "stream",
     "text": [
      "106 = 39(2) + 28\n",
      " 39 = 28(1) + 11\n",
      " 28 = 11(2) +  6\n",
      " 11 =  6(1) +  5\n",
      "  6 =  5(1) +  1\n",
      "  5 =  1(5) +  0\n"
     ]
    }
   ],
   "source": [
    "trace_gcd(106, 39)"
   ]
  },
  {
   "cell_type": "code",
   "execution_count": 21,
   "metadata": {},
   "outputs": [
    {
     "name": "stdout",
     "output_type": "stream",
     "text": [
      "2.71828182845904509079559829842764884233474731445312\n"
     ]
    }
   ],
   "source": [
    "print('{0:.50f}'.format(1038929163353808 / 382200680031313))"
   ]
  },
  {
   "cell_type": "code",
   "execution_count": 22,
   "metadata": {},
   "outputs": [
    {
     "name": "stdout",
     "output_type": "stream",
     "text": [
      "2.7182818284590452353602874713492485633715800289396\n"
     ]
    }
   ],
   "source": [
    "from mpmath import mp\n",
    "mp.dps = 50\n",
    "print(mp.fdiv(1038929163353808, 382200680031313))"
   ]
  },
  {
   "cell_type": "code",
   "execution_count": 23,
   "metadata": {},
   "outputs": [
    {
     "name": "stdout",
     "output_type": "stream",
     "text": [
      "6121026514868073/2251799813685248 [2, 1, 2, 1, 1, 4, 1, 1, 6, 1, 1, 8, 1, 1, 10, 1, 1, 12, 1, 1, 11, 1, 1, 1, 11, 5, 1, 1, 2, 1, 4, 2, 1, 1, 9, 17, 3]\n",
      "[2, 1, 2, 1, 1, 4, 1, 1, 6, 1, 1, 8, 1, 1, 10, 1, 1, 12, 1, 1]\n"
     ]
    }
   ],
   "source": [
    "from math import e\n",
    "e_as_frac = frac(e).limit_denominator(10000000000000000)\n",
    "print(e_as_frac, frac2contfrac(e_as_frac))\n",
    "print(e_cont_frac(20))"
   ]
  },
  {
   "cell_type": "code",
   "execution_count": 24,
   "metadata": {},
   "outputs": [
    {
     "name": "stdout",
     "output_type": "stream",
     "text": [
      "52061284670617417/19152276311294112\n"
     ]
    }
   ],
   "source": [
    "print(contfrac2frac([2,1,2,1,1,4,1,1,6,1,1,8,1,1,10,1,1,12,1,1,14,1,1,16,1,1,18,1,1,20,1,1,22,1,1,24]))"
   ]
  },
  {
   "cell_type": "code",
   "execution_count": 25,
   "metadata": {},
   "outputs": [
    {
     "name": "stdout",
     "output_type": "stream",
     "text": [
      "2.7182818284590452353602874713526638578384660674105\n"
     ]
    }
   ],
   "source": [
    "from mpmath import mp\n",
    "mp.dps = 50\n",
    "print(mp.fdiv(52061284670617417, 19152276311294112))"
   ]
  },
  {
   "cell_type": "markdown",
   "metadata": {},
   "source": [
    "## Answer Selected Questions\n",
    "### 1\n",
    "How can relations be encoded as sets of pairs?\n",
    "#### Answer\n",
    "Try it!"
   ]
  },
  {
   "cell_type": "code",
   "execution_count": 26,
   "metadata": {},
   "outputs": [
    {
     "name": "stdout",
     "output_type": "stream",
     "text": [
      "10000000\n"
     ]
    }
   ],
   "source": [
    "from pyprimesieve import primes\n",
    "# ftmpl = first ten million primes list\n",
    "ftmpl = list(primes(1, 179424674))\n",
    "print(len(ftmpl))\n",
    "def encode_set(nset):\n",
    "  return encode_set(nset[1:]) * ftmpl[nset[0]] if nset else 1"
   ]
  },
  {
   "cell_type": "code",
   "execution_count": 27,
   "metadata": {},
   "outputs": [
    {
     "name": "stdout",
     "output_type": "stream",
     "text": [
      "2\n"
     ]
    }
   ],
   "source": [
    "print(ftmpl[0])"
   ]
  },
  {
   "cell_type": "code",
   "execution_count": 28,
   "metadata": {},
   "outputs": [],
   "source": [
    "def encode_set(nset):\n",
    "  return encode_set(nset[1:]) * ftmpl[nset[0]] if nset else 1"
   ]
  },
  {
   "cell_type": "code",
   "execution_count": 29,
   "metadata": {},
   "outputs": [
    {
     "name": "stdout",
     "output_type": "stream",
     "text": [
      "105\n"
     ]
    }
   ],
   "source": [
    "print(encode_set([1, 2, 3]))"
   ]
  },
  {
   "cell_type": "code",
   "execution_count": 30,
   "metadata": {},
   "outputs": [
    {
     "name": "stdout",
     "output_type": "stream",
     "text": [
      "[(1, 2), (2, 3), (1, 3)]\n",
      "[15, 35, 21]\n",
      "632237\n"
     ]
    }
   ],
   "source": [
    "R = [(1, 2), (2, 3), (1, 3)]\n",
    "print(R)\n",
    "pair_encodings = list(map(encode_set, R))\n",
    "print(pair_encodings)\n",
    "encoding_of_R = encode_set(pair_encodings)\n",
    "print(encoding_of_R)"
   ]
  },
  {
   "cell_type": "markdown",
   "metadata": {},
   "source": [
    "### 2\n",
    "Why is an ordered set which is reflexive, antisymmetric, and transitive called a partial order? If all the elements preceding a given element are less than in comparable value and a set can have no duplicates (meaning if x and y as elements of set S are equal by x = y, then they are duplicates), why is it called a partial order? It sounds to me more like a total order - a complete order. Incomplete is a synonym to partial, the opposite of complete.\n",
    "#### Answer\n",
    "What we have here is a category error.\n",
    "\n",
    "A Partial Order is a *relation*, not a set.\n",
    "\n",
    "A poster-child poset is the pair (P(S), $\\subseteq$). For example:\n",
    "\n",
    "Given S = {1, 2, 3, 4}, P(S) = Power Set of S = {$\\emptyset$, {1}, {2}, {3}, {4}, {1, 2}, {1, 3}, {1, 4}, {2, 3}, {2, 4}, {3, 4}, {1, 2, 3}, {1, 2, 4}, {1, 3, 4}, {2, 3, 4}, {1, 2, 3, 4}}.\n",
    "\n",
    "---\n",
    "\n",
    "Here is how to draw the Hasse diagram of this poset using dot:\n"
   ]
  },
  {
   "cell_type": "code",
   "execution_count": 31,
   "metadata": {},
   "outputs": [
    {
     "data": {
      "image/svg+xml": [
       "<?xml version=\"1.0\" encoding=\"UTF-8\" standalone=\"no\"?>\r\n",
       "<!DOCTYPE svg PUBLIC \"-//W3C//DTD SVG 1.1//EN\"\r\n",
       " \"http://www.w3.org/Graphics/SVG/1.1/DTD/svg11.dtd\">\r\n",
       "<!-- Generated by graphviz version 2.38.0 (20140413.2041)\r\n",
       " -->\r\n",
       "<!-- Title: %3 Pages: 1 -->\r\n",
       "<svg width=\"422pt\" height=\"332pt\"\r\n",
       " viewBox=\"0.00 0.00 422.00 332.00\" xmlns=\"http://www.w3.org/2000/svg\" xmlns:xlink=\"http://www.w3.org/1999/xlink\">\r\n",
       "<g id=\"graph0\" class=\"graph\" transform=\"scale(1 1) rotate(0) translate(4 328)\">\r\n",
       "<title>%3</title>\r\n",
       "<polygon fill=\"white\" stroke=\"none\" points=\"-4,4 -4,-328 418,-328 418,4 -4,4\"/>\r\n",
       "<!-- 1234 -->\r\n",
       "<g id=\"node1\" class=\"node\"><title>1234</title>\r\n",
       "<text text-anchor=\"middle\" x=\"201\" y=\"-302.3\" font-family=\"Times New Roman,serif\" font-size=\"14.00\">{1, 2, 3, 4}</text>\r\n",
       "</g>\r\n",
       "<!-- 123 -->\r\n",
       "<g id=\"node2\" class=\"node\"><title>123</title>\r\n",
       "<text text-anchor=\"middle\" x=\"77\" y=\"-230.3\" font-family=\"Times New Roman,serif\" font-size=\"14.00\">{1, 2, 3}</text>\r\n",
       "</g>\r\n",
       "<!-- 1234&#45;&#45;123 -->\r\n",
       "<g id=\"edge1\" class=\"edge\"><title>1234&#45;&#45;123</title>\r\n",
       "<path fill=\"none\" stroke=\"black\" d=\"M170.666,-287.876C151.451,-277.029 126.688,-263.05 107.45,-252.19\"/>\r\n",
       "</g>\r\n",
       "<!-- 124 -->\r\n",
       "<g id=\"node3\" class=\"node\"><title>124</title>\r\n",
       "<text text-anchor=\"middle\" x=\"160\" y=\"-230.3\" font-family=\"Times New Roman,serif\" font-size=\"14.00\">{1, 2, 4}</text>\r\n",
       "</g>\r\n",
       "<!-- 1234&#45;&#45;124 -->\r\n",
       "<g id=\"edge2\" class=\"edge\"><title>1234&#45;&#45;124</title>\r\n",
       "<path fill=\"none\" stroke=\"black\" d=\"M190.865,-287.697C184.51,-276.846 176.351,-262.917 170.018,-252.104\"/>\r\n",
       "</g>\r\n",
       "<!-- 134 -->\r\n",
       "<g id=\"node4\" class=\"node\"><title>134</title>\r\n",
       "<text text-anchor=\"middle\" x=\"243\" y=\"-230.3\" font-family=\"Times New Roman,serif\" font-size=\"14.00\">{1, 3, 4}</text>\r\n",
       "</g>\r\n",
       "<!-- 1234&#45;&#45;134 -->\r\n",
       "<g id=\"edge3\" class=\"edge\"><title>1234&#45;&#45;134</title>\r\n",
       "<path fill=\"none\" stroke=\"black\" d=\"M211.382,-287.697C217.892,-276.846 226.25,-262.917 232.737,-252.104\"/>\r\n",
       "</g>\r\n",
       "<!-- 234 -->\r\n",
       "<g id=\"node5\" class=\"node\"><title>234</title>\r\n",
       "<text text-anchor=\"middle\" x=\"326\" y=\"-230.3\" font-family=\"Times New Roman,serif\" font-size=\"14.00\">{2, 3, 4}</text>\r\n",
       "</g>\r\n",
       "<!-- 1234&#45;&#45;234 -->\r\n",
       "<g id=\"edge4\" class=\"edge\"><title>1234&#45;&#45;234</title>\r\n",
       "<path fill=\"none\" stroke=\"black\" d=\"M231.578,-287.876C250.949,-277.029 275.911,-263.05 295.304,-252.19\"/>\r\n",
       "</g>\r\n",
       "<!-- 12 -->\r\n",
       "<g id=\"node6\" class=\"node\"><title>12</title>\r\n",
       "<text text-anchor=\"middle\" x=\"27\" y=\"-158.3\" font-family=\"Times New Roman,serif\" font-size=\"14.00\">{1, 2}</text>\r\n",
       "</g>\r\n",
       "<!-- 123&#45;&#45;12 -->\r\n",
       "<g id=\"edge5\" class=\"edge\"><title>123&#45;&#45;12</title>\r\n",
       "<path fill=\"none\" stroke=\"black\" d=\"M64.6404,-215.697C56.8902,-204.846 46.9405,-190.917 39.2174,-180.104\"/>\r\n",
       "</g>\r\n",
       "<!-- 13 -->\r\n",
       "<g id=\"node7\" class=\"node\"><title>13</title>\r\n",
       "<text text-anchor=\"middle\" x=\"99\" y=\"-158.3\" font-family=\"Times New Roman,serif\" font-size=\"14.00\">{1, 3}</text>\r\n",
       "</g>\r\n",
       "<!-- 123&#45;&#45;13 -->\r\n",
       "<g id=\"edge6\" class=\"edge\"><title>123&#45;&#45;13</title>\r\n",
       "<path fill=\"none\" stroke=\"black\" d=\"M82.4382,-215.697C85.8483,-204.846 90.2262,-190.917 93.6244,-180.104\"/>\r\n",
       "</g>\r\n",
       "<!-- 23 -->\r\n",
       "<g id=\"node9\" class=\"node\"><title>23</title>\r\n",
       "<text text-anchor=\"middle\" x=\"243\" y=\"-158.3\" font-family=\"Times New Roman,serif\" font-size=\"14.00\">{2, 3}</text>\r\n",
       "</g>\r\n",
       "<!-- 123&#45;&#45;23 -->\r\n",
       "<g id=\"edge7\" class=\"edge\"><title>123&#45;&#45;23</title>\r\n",
       "<path fill=\"none\" stroke=\"black\" d=\"M109.517,-219.85C144.886,-205.529 197.657,-184.107 207,-180 209.911,-178.721 212.938,-177.352 215.945,-175.968\"/>\r\n",
       "</g>\r\n",
       "<!-- 124&#45;&#45;12 -->\r\n",
       "<g id=\"edge8\" class=\"edge\"><title>124&#45;&#45;12</title>\r\n",
       "<path fill=\"none\" stroke=\"black\" d=\"M127.465,-215.876C105.009,-204.057 75.4899,-188.521 54.2681,-177.352\"/>\r\n",
       "</g>\r\n",
       "<!-- 14 -->\r\n",
       "<g id=\"node8\" class=\"node\"><title>14</title>\r\n",
       "<text text-anchor=\"middle\" x=\"171\" y=\"-158.3\" font-family=\"Times New Roman,serif\" font-size=\"14.00\">{1, 4}</text>\r\n",
       "</g>\r\n",
       "<!-- 124&#45;&#45;14 -->\r\n",
       "<g id=\"edge9\" class=\"edge\"><title>124&#45;&#45;14</title>\r\n",
       "<path fill=\"none\" stroke=\"black\" d=\"M162.719,-215.697C164.424,-204.846 166.613,-190.917 168.312,-180.104\"/>\r\n",
       "</g>\r\n",
       "<!-- 24 -->\r\n",
       "<g id=\"node10\" class=\"node\"><title>24</title>\r\n",
       "<text text-anchor=\"middle\" x=\"315\" y=\"-158.3\" font-family=\"Times New Roman,serif\" font-size=\"14.00\">{2, 4}</text>\r\n",
       "</g>\r\n",
       "<!-- 124&#45;&#45;24 -->\r\n",
       "<g id=\"edge10\" class=\"edge\"><title>124&#45;&#45;24</title>\r\n",
       "<path fill=\"none\" stroke=\"black\" d=\"M192.665,-218.685C216.624,-208.128 249.913,-193.343 279,-180 281.89,-178.674 284.904,-177.276 287.903,-175.874\"/>\r\n",
       "</g>\r\n",
       "<!-- 134&#45;&#45;13 -->\r\n",
       "<g id=\"edge11\" class=\"edge\"><title>134&#45;&#45;13</title>\r\n",
       "<path fill=\"none\" stroke=\"black\" d=\"M210.324,-217.116C184.932,-204.773 150.127,-187.854 126.231,-176.237\"/>\r\n",
       "</g>\r\n",
       "<!-- 134&#45;&#45;14 -->\r\n",
       "<g id=\"edge12\" class=\"edge\"><title>134&#45;&#45;14</title>\r\n",
       "<path fill=\"none\" stroke=\"black\" d=\"M225.202,-215.697C214.042,-204.846 199.714,-190.917 188.593,-180.104\"/>\r\n",
       "</g>\r\n",
       "<!-- 34 -->\r\n",
       "<g id=\"node11\" class=\"node\"><title>34</title>\r\n",
       "<text text-anchor=\"middle\" x=\"387\" y=\"-158.3\" font-family=\"Times New Roman,serif\" font-size=\"14.00\">{3, 4}</text>\r\n",
       "</g>\r\n",
       "<!-- 134&#45;&#45;34 -->\r\n",
       "<g id=\"edge13\" class=\"edge\"><title>134&#45;&#45;34</title>\r\n",
       "<path fill=\"none\" stroke=\"black\" d=\"M275.676,-217.116C301.068,-204.773 335.873,-187.854 359.769,-176.237\"/>\r\n",
       "</g>\r\n",
       "<!-- 234&#45;&#45;23 -->\r\n",
       "<g id=\"edge14\" class=\"edge\"><title>234&#45;&#45;23</title>\r\n",
       "<path fill=\"none\" stroke=\"black\" d=\"M305.483,-215.697C292.618,-204.846 276.101,-190.917 263.281,-180.104\"/>\r\n",
       "</g>\r\n",
       "<!-- 234&#45;&#45;24 -->\r\n",
       "<g id=\"edge15\" class=\"edge\"><title>234&#45;&#45;24</title>\r\n",
       "<path fill=\"none\" stroke=\"black\" d=\"M323.281,-215.697C321.576,-204.846 319.387,-190.917 317.688,-180.104\"/>\r\n",
       "</g>\r\n",
       "<!-- 234&#45;&#45;34 -->\r\n",
       "<g id=\"edge16\" class=\"edge\"><title>234&#45;&#45;34</title>\r\n",
       "<path fill=\"none\" stroke=\"black\" d=\"M341.079,-215.697C350.534,-204.846 362.673,-190.917 372.095,-180.104\"/>\r\n",
       "</g>\r\n",
       "<!-- 1 -->\r\n",
       "<g id=\"node12\" class=\"node\"><title>1</title>\r\n",
       "<text text-anchor=\"middle\" x=\"99\" y=\"-86.3\" font-family=\"Times New Roman,serif\" font-size=\"14.00\">{1}</text>\r\n",
       "</g>\r\n",
       "<!-- 12&#45;&#45;1 -->\r\n",
       "<g id=\"edge17\" class=\"edge\"><title>12&#45;&#45;1</title>\r\n",
       "<path fill=\"none\" stroke=\"black\" d=\"M44.7978,-143.697C55.9581,-132.846 70.2857,-118.917 81.407,-108.104\"/>\r\n",
       "</g>\r\n",
       "<!-- 2 -->\r\n",
       "<g id=\"node13\" class=\"node\"><title>2</title>\r\n",
       "<text text-anchor=\"middle\" x=\"171\" y=\"-86.3\" font-family=\"Times New Roman,serif\" font-size=\"14.00\">{2}</text>\r\n",
       "</g>\r\n",
       "<!-- 12&#45;&#45;2 -->\r\n",
       "<g id=\"edge18\" class=\"edge\"><title>12&#45;&#45;2</title>\r\n",
       "<path fill=\"none\" stroke=\"black\" d=\"M54.0853,-147.834C79.6673,-135.398 117.845,-116.839 143.547,-104.345\"/>\r\n",
       "</g>\r\n",
       "<!-- 13&#45;&#45;1 -->\r\n",
       "<g id=\"edge19\" class=\"edge\"><title>13&#45;&#45;1</title>\r\n",
       "<path fill=\"none\" stroke=\"black\" d=\"M99,-143.697C99,-132.846 99,-118.917 99,-108.104\"/>\r\n",
       "</g>\r\n",
       "<!-- 3 -->\r\n",
       "<g id=\"node14\" class=\"node\"><title>3</title>\r\n",
       "<text text-anchor=\"middle\" x=\"243\" y=\"-86.3\" font-family=\"Times New Roman,serif\" font-size=\"14.00\">{3}</text>\r\n",
       "</g>\r\n",
       "<!-- 13&#45;&#45;3 -->\r\n",
       "<g id=\"edge20\" class=\"edge\"><title>13&#45;&#45;3</title>\r\n",
       "<path fill=\"none\" stroke=\"black\" d=\"M126.085,-147.834C151.667,-135.398 189.845,-116.839 215.547,-104.345\"/>\r\n",
       "</g>\r\n",
       "<!-- 14&#45;&#45;1 -->\r\n",
       "<g id=\"edge21\" class=\"edge\"><title>14&#45;&#45;1</title>\r\n",
       "<path fill=\"none\" stroke=\"black\" d=\"M153.202,-143.697C142.042,-132.846 127.714,-118.917 116.593,-108.104\"/>\r\n",
       "</g>\r\n",
       "<!-- 4 -->\r\n",
       "<g id=\"node15\" class=\"node\"><title>4</title>\r\n",
       "<text text-anchor=\"middle\" x=\"315\" y=\"-86.3\" font-family=\"Times New Roman,serif\" font-size=\"14.00\">{4}</text>\r\n",
       "</g>\r\n",
       "<!-- 14&#45;&#45;4 -->\r\n",
       "<g id=\"edge22\" class=\"edge\"><title>14&#45;&#45;4</title>\r\n",
       "<path fill=\"none\" stroke=\"black\" d=\"M198.085,-147.834C223.667,-135.398 261.845,-116.839 287.547,-104.345\"/>\r\n",
       "</g>\r\n",
       "<!-- 23&#45;&#45;2 -->\r\n",
       "<g id=\"edge23\" class=\"edge\"><title>23&#45;&#45;2</title>\r\n",
       "<path fill=\"none\" stroke=\"black\" d=\"M225.202,-143.697C214.042,-132.846 199.714,-118.917 188.593,-108.104\"/>\r\n",
       "</g>\r\n",
       "<!-- 23&#45;&#45;3 -->\r\n",
       "<g id=\"edge24\" class=\"edge\"><title>23&#45;&#45;3</title>\r\n",
       "<path fill=\"none\" stroke=\"black\" d=\"M243,-143.697C243,-132.846 243,-118.917 243,-108.104\"/>\r\n",
       "</g>\r\n",
       "<!-- 24&#45;&#45;2 -->\r\n",
       "<g id=\"edge25\" class=\"edge\"><title>24&#45;&#45;2</title>\r\n",
       "<path fill=\"none\" stroke=\"black\" d=\"M287.915,-147.834C262.333,-135.398 224.155,-116.839 198.453,-104.345\"/>\r\n",
       "</g>\r\n",
       "<!-- 24&#45;&#45;4 -->\r\n",
       "<g id=\"edge26\" class=\"edge\"><title>24&#45;&#45;4</title>\r\n",
       "<path fill=\"none\" stroke=\"black\" d=\"M315,-143.697C315,-132.846 315,-118.917 315,-108.104\"/>\r\n",
       "</g>\r\n",
       "<!-- 34&#45;&#45;3 -->\r\n",
       "<g id=\"edge27\" class=\"edge\"><title>34&#45;&#45;3</title>\r\n",
       "<path fill=\"none\" stroke=\"black\" d=\"M359.915,-147.834C334.333,-135.398 296.155,-116.839 270.453,-104.345\"/>\r\n",
       "</g>\r\n",
       "<!-- 34&#45;&#45;4 -->\r\n",
       "<g id=\"edge28\" class=\"edge\"><title>34&#45;&#45;4</title>\r\n",
       "<path fill=\"none\" stroke=\"black\" d=\"M369.202,-143.697C358.042,-132.846 343.714,-118.917 332.593,-108.104\"/>\r\n",
       "</g>\r\n",
       "<!-- 0 -->\r\n",
       "<g id=\"node16\" class=\"node\"><title>0</title>\r\n",
       "<text text-anchor=\"start\" x=\"200.5\" y=\"-14.3\" font-family=\"Times New Roman,serif\" font-size=\"14.00\">∅</text>\r\n",
       "</g>\r\n",
       "<!-- 1&#45;&#45;0 -->\r\n",
       "<g id=\"edge29\" class=\"edge\"><title>1&#45;&#45;0</title>\r\n",
       "<path fill=\"none\" stroke=\"black\" d=\"M125.42,-71.8761C142.156,-61.0287 163.723,-47.0498 180.479,-36.1898\"/>\r\n",
       "</g>\r\n",
       "<!-- 2&#45;&#45;0 -->\r\n",
       "<g id=\"edge30\" class=\"edge\"><title>2&#45;&#45;0</title>\r\n",
       "<path fill=\"none\" stroke=\"black\" d=\"M179.899,-71.6966C185.479,-60.8463 192.643,-46.9167 198.203,-36.1043\"/>\r\n",
       "</g>\r\n",
       "<!-- 3&#45;&#45;0 -->\r\n",
       "<g id=\"edge31\" class=\"edge\"><title>3&#45;&#45;0</title>\r\n",
       "<path fill=\"none\" stroke=\"black\" d=\"M234.101,-71.6966C228.521,-60.8463 221.357,-46.9167 215.797,-36.1043\"/>\r\n",
       "</g>\r\n",
       "<!-- 4&#45;&#45;0 -->\r\n",
       "<g id=\"edge32\" class=\"edge\"><title>4&#45;&#45;0</title>\r\n",
       "<path fill=\"none\" stroke=\"black\" d=\"M288.58,-71.8761C271.844,-61.0287 250.277,-47.0498 233.521,-36.1898\"/>\r\n",
       "</g>\r\n",
       "</g>\r\n",
       "</svg>\r\n"
      ],
      "text/plain": [
       "<graphviz.files.Source at 0x15cae95b080>"
      ]
     },
     "execution_count": 31,
     "metadata": {},
     "output_type": "execute_result"
    }
   ],
   "source": [
    "from graphviz import Source\n",
    "Source('''\n",
    "graph {\n",
    "  node [shape=none]\n",
    "  1234 [label=\"{1, 2, 3, 4}\"]\n",
    "   123 [label=\"{1, 2, 3}\"]\n",
    "   124 [label=\"{1, 2, 4}\"]\n",
    "   134 [label=\"{1, 3, 4}\"]\n",
    "   234 [label=\"{2, 3, 4}\"]\n",
    "    12 [label=\"{1, 2}\"]\n",
    "    13 [label=\"{1, 3}\"]\n",
    "    14 [label=\"{1, 4}\"]\n",
    "    23 [label=\"{2, 3}\"]\n",
    "    24 [label=\"{2, 4}\"]\n",
    "    34 [label=\"{3, 4}\"]\n",
    "     1 [label=\"{1}\"]\n",
    "     2 [label=\"{2}\"]\n",
    "     3 [label=\"{3}\"]\n",
    "     4 [label=\"{4}\"]\n",
    "     0 [label=<&empty;>]\n",
    "  1234 -- {123, 124, 134, 234}\n",
    "   123 -- {12, 13, 23}\n",
    "   124 -- {12, 14, 24}\n",
    "   134 -- {13, 14, 34}\n",
    "   234 -- {23, 24, 34}\n",
    "    12 -- {1, 2}\n",
    "    13 -- {1, 3}\n",
    "    14 -- {1, 4}\n",
    "    23 -- {2, 3}\n",
    "    24 -- {2, 4}\n",
    "    34 -- {3, 4}\n",
    "     1 -- 0\n",
    "     2 -- 0\n",
    "     3 -- 0\n",
    "     4 -- 0\n",
    "  {rank=same 1234}\n",
    "  {rank=same 123 124 134 234}\n",
    "  {rank=same 12 13 14 23 24 34}\n",
    "  {rank=same 1 2 3 4}\n",
    "  {rank=same 0}\n",
    "}\n",
    "''')"
   ]
  },
  {
   "cell_type": "markdown",
   "metadata": {},
   "source": [
    "### 3\n",
    "From the reading we learn that a Gödel hash can uniquely identify the original object. Does this mean that most hashes are larger than their original objects?\n",
    "#### Answer\n",
    "It depends on the prime map and the elements being hashed.\n",
    "\n",
    "### 4\n",
    "As defined in the book, \"An equivalence relation is a binary relation that is reflexive, symmetric, and transitive.\" This being the case, if a relation is symmetric and transitive, would it not also **have** to be reflexive? Why or why not?\n",
    "#### Answer\n",
    "The is-sibling-of relation is symmetric and transitive, but not reflexive.\n",
    "\n",
    "### 5\n",
    "In the book an example is given of a relation $R_1 = \\{(1, 1)\\}$, which is characterized as both symmetric and antisymmetric. With the standard meaning of the word symmetry it's hard to envision how something could be both symmetric and antisymmetric. Are the only relations that possess both properties those in which x = y?\n",
    "#### Answer\n",
    "Yes. In fact, any subset of the identity relation possesses both.\n",
    "\n",
    "(Note: The empty relation vacuously does too.)\n",
    "\n",
    "### 6\n",
    "What, exactly, is the prime basis of a poset?\n",
    "\n",
    "According to the reading, the prime basis is a subset of the poset. Also, \"A poset has a prime basis if every (non-bottom) element has a unique decomposition as the least upper bound of a finite number of basis elements.\" Is this saying that each element in the poset has a unique decomposition, or each element in the prime basis has a unique decomposition?\n",
    "#### Answer\n",
    "A good example, related to the poster-child poset mentioned earlier, is given in V.B.d) *factorable power sets*: A partially ordered power set (P(S), ⊆) where the order is inclusion is easily factorable: its prime basis, $B_{P(S)}$, consists of the singleton sets over $S: \\{\\{s\\} : s \\in S\\}$.\n",
    "\n",
    "### 7\n",
    "When considering binary relations, does a partial order always imply divisibility? If so, is this the reason Gödel hashes are considered partial order-preserving?\n",
    "#### Answer\n",
    "\"Divides\" (e.g. 3 | 12) is a partial order. It can profitably be thought of when pondering the abstract nature of these objects.\n",
    "\n",
    "## For Your Consideration, Profit, and Learning\n",
    "There's a feature column of the American Mathematical Society called *Monthly essays on mathematical topics*. Here's one:\n",
    "\n",
    "https://www.ams.org/publicoutreach/feature-column/fcarc-stern-brocot\n",
    "\n",
    "The above link to the original AMS site is broken sometimes, or the images are broken, so here's a PDF version someone captured:\n",
    "\n",
    "https://gaurish4math.files.wordpress.com/2016/10/feature-column-from-the-ams.pdf\n",
    "\n"
   ]
  },
  {
   "cell_type": "code",
   "execution_count": null,
   "metadata": {},
   "outputs": [],
   "source": []
  }
 ],
 "metadata": {
  "kernelspec": {
   "display_name": "Python 3",
   "language": "python",
   "name": "python3"
  },
  "language_info": {
   "codemirror_mode": {
    "name": "ipython",
    "version": 3
   },
   "file_extension": ".py",
   "mimetype": "text/x-python",
   "name": "python",
   "nbconvert_exporter": "python",
   "pygments_lexer": "ipython3",
   "version": "3.6.9"
  }
 },
 "nbformat": 4,
 "nbformat_minor": 4
}
