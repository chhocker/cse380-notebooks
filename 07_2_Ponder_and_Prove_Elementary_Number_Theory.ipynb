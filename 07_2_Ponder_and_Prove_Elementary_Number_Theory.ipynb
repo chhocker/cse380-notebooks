{
  "nbformat": 4,
  "nbformat_minor": 0,
  "metadata": {
    "kernelspec": {
      "display_name": "Python 3",
      "language": "python",
      "name": "python3"
    },
    "language_info": {
      "codemirror_mode": {
        "name": "ipython",
        "version": 3
      },
      "file_extension": ".py",
      "mimetype": "text/x-python",
      "name": "python",
      "nbconvert_exporter": "python",
      "pygments_lexer": "ipython3",
      "version": "3.9.1-final"
    },
    "colab": {
      "name": "07_2_Ponder_and_Prove_Elementary_Number_Theory.ipynb",
      "provenance": [],
      "include_colab_link": true
    }
  },
  "cells": [
    {
      "cell_type": "markdown",
      "metadata": {
        "id": "view-in-github",
        "colab_type": "text"
      },
      "source": [
        "<a href=\"https://colab.research.google.com/github/byui-cse/cse380-notebooks/blob/master/07_2_Ponder_and_Prove_Elementary_Number_Theory.ipynb\" target=\"_parent\"><img src=\"https://colab.research.google.com/assets/colab-badge.svg\" alt=\"Open In Colab\"/></a>"
      ]
    },
    {
      "cell_type": "markdown",
      "metadata": {
        "id": "1rG4k7VvQ2WT"
      },
      "source": [
        "# Ponder and Prove Elementary Number Theory\n",
        "#### Claire Hocker (working with Daniel Strickland and Bretton Steiner)"
      ]
    },
    {
      "cell_type": "markdown",
      "metadata": {
        "id": "W0WxE3IAQ2WU"
      },
      "source": [
        "## Explore Fermat's Little Theorem Further\n"
      ]
    },
    {
      "cell_type": "markdown",
      "metadata": {
        "id": "u-CxbDylTkYp"
      },
      "source": [
        "The basics\n",
        "### Helper Information\n",
        "1. The definition of coprime\n",
        "\n",
        "For two numbers, $a$ and $b$, gcd($a$, $b$) = 1\n",
        "\n",
        "2. A consequence of coprimality\n",
        "\n",
        "If a number $b$ is coprime to a number $a$, each prime factor of $a$ is coprime to $b$.\n",
        "\n",
        "3. The factorization of the \"bulletproof pseudo prime\"\n",
        "\n",
        "$1105 = 5 \\times 13 \\times 17$\n",
        "\n",
        "4. FLT\n",
        "\n",
        "If $N$ is prime, then $N$ divides $X^N - X$ for all $X$.\n",
        "\n",
        "By consequence of this, $a^{p-1} \\equiv_p 1$\n",
        "\n",
        "5. CRT (Chinese Remainder Theorem)\n",
        "\n",
        "The CRT proves that there is a unique solution to simultaneous linear congruences with *coprime* moduli."
      ]
    },
    {
      "source": [
        "## Proof\n",
        "\n",
        "By Fermat's Little Theorem, we know that if $p$ is prime:\n",
        "\n",
        "$a^{p-1} \\equiv_p 1$\n",
        "\n",
        "I am trying to prove that even though 1105 is *not* prime, it follows the FLT rule above for every value of $a$. This kind of number is called a Carmichael number. \n",
        "\n",
        "--\n",
        "\n",
        "By the FLT, these three facts are true:\n",
        "\n",
        "1. $b^{4} \\equiv_{5} 1$      (our $p$ is the prime number $5$)\n",
        "2. $b^{12} \\equiv_{13} 1$   \n",
        "3. $b^{16} \\equiv_{17} 1$   \n",
        "\n",
        "You will notice that $5$, $13$, and $17$ make up the prime factorization of $1105$ (our \"bppp\").\n",
        "\n",
        "--\n",
        "\n",
        "As we work with 1105, we find that 1104 is 1 less than 1105, and is also a multiple of 4, 12, and 16--which are 1 less than each of the prime factors of 1105.\n",
        "\n",
        "By the FLT, we know:\n",
        "\n",
        "$(b^4)^{276} = b^{1104} \\equiv_{3} 1$\n",
        "\n",
        "$(b^{12})^{92} = b^{1104} \\equiv_{11} 1$\n",
        "\n",
        "$(b^{16})^{69} = b^{1104} \\equiv_{17} 1$\n",
        "\n",
        "\n",
        "The Chinese Remainder Theorem states that: for a system of simultanueous linear congruences with coprime moduli there is a unique solution. This also means that:\n",
        "\n",
        "$x \\equiv_{p} r$ and $x \\equiv_{q} r $ and $ x \\equiv_{s} r$, then $x \\equiv_{pqs} r$\n",
        "\n",
        "In our instance, $b^{1104}$ is coprime to each of the moduli and each of the moduli is coprime. No matter what $b$ is, it will always be coprime to each modulus.\n",
        "\n",
        "Since each of the congruency equations result in a remainder of 1, we know (by the CRT) that $b^{1104} \\equiv_{3 \\times 11 \\times 17} 1$\n",
        "\n",
        "If $b$ is modded by $1105$ the remainder will always be $1$.\n",
        "\n",
        "$b^{1104} \\equiv_{1105} 1$.\n",
        "\n",
        "Even though $1105$ is *not* prime, it will follow this pattern of having $1$ as a remainder, and will always fool Fermat's Little Theorem.\n"
      ],
      "cell_type": "markdown",
      "metadata": {}
    },
    {
      "cell_type": "markdown",
      "metadata": {
        "id": "5Cgy_0B4Q2WW"
      },
      "source": [
        "## What is True?\n",
        "Assess yourself on how you did using the checkboxes below. Check a box by putting an 'X' in it only if it is warranted.\n"
      ]
    },
    {
      "cell_type": "markdown",
      "metadata": {
        "id": "81dbKwHenxnT"
      },
      "source": [
        "# DONE My Report on What I Did and What I Learned"
      ]
    },
    {
      "cell_type": "markdown",
      "metadata": {
        "id": "C8BeiIern33B"
      },
      "source": [
        "## Fun\n",
        "## Fun\n",
        "This assignment was very difficult and foreboded me at first, but as I worked with Bretton and Daniel, it all started clicking! (At 6:00 pm on Saturday, no less.) I always feel like I am drowning a bit in this class, but as I figured this out and had that *aha!* moment, I did have fun! I stressed more than I had fun, that's for sure, but I had fun."
      ]
    },
    {
      "cell_type": "markdown",
      "metadata": {
        "id": "OzOkZ3son-u9"
      },
      "source": [
        "## New\n",
        "I have never created a proof before, and it is very interesting to see how all the pieces fit together."
      ]
    },
    {
      "cell_type": "markdown",
      "metadata": {
        "id": "mJHvoj6GokaZ"
      },
      "source": [
        "## Meaningful\n",
        "I can do difficult things! I was the one who found the \"missing piece\" while we were trying to wrap our heads around how the Chinese Remainder Theorem worked into everything. That helped me feel confident in what I am doing."
      ]
    },
    {
      "cell_type": "markdown",
      "metadata": {
        "id": "_RBE03fhpNUG"
      },
      "source": [
        "## Other\n",
        "I worked with Daniel Strickland and Bretton Steiner, and I also watched many YouTube videos about Fermat's Little Theorem and the Chinese Remainder Theorem."
      ]
    },
    {
      "cell_type": "markdown",
      "metadata": {
        "id": "Nrk-8EmgW4NP"
      },
      "source": [
        "# DONE What is True?\n",
        "Click on each warranted checkbox to toggle it to True (or back to False). \n",
        "\n",
        "NOTE: *This only works in Colab. If you run it in some other Jupyter notebook client/server environment you may have to change False to True (or vice versa) manually.*\n",
        "\n",
        "This self-assessment is subject to revision by a grader."
      ]
    },
    {
      "cell_type": "code",
      "metadata": {
        "id": "qGAjzgVRXR4M"
      },
      "source": [
        "#@markdown ## What is True about what I did?\n",
        "#@markdown ### I had fun.\n",
        "cb00 = True #@param {type:'boolean'}\n",
        "#@markdown ### I learned something new.\n",
        "cb01 = True #@param {type:'boolean'}\n",
        "#@markdown ### I achieved something meaningful, or something I can build upon at a later time.\n",
        "cb02 = True #@param {type:'boolean'}\n",
        "#@markdown ## What is true about my report?\n",
        "#@markdown ### I wrote a sufficient number of well-written sentences.\n",
        "cb03 = True #@param {type:'boolean'}\n",
        "#@markdown ### My report is free of mechanical infelicities.\n",
        "cb04 = True #@param {type:'boolean'}\n",
        "#@markdown ### I used Grammarly (or something better described in my report) to check for MIs.\n",
        "cb05 = True #@param {type:'boolean'}\n",
        "#@markdown ### I reported on any connections I found between these problems and something I already know. \n",
        "cb06 = True #@param {type:'boolean'}\n",
        "#@markdown ### I reported who were and what contribution each of my collaborators made.\n",
        "cb07 = True #@param {type:'boolean'}\n",
        "#@markdown ## What is true about my proof?\n",
        "#@markdown ### It succinctly uses the definition of coprime.\n",
        "cb08 = True #@param {type:'boolean'}\n",
        "#@markdown ### It correctly uses the definition of coprime.\n",
        "cb09 = True #@param {type:'boolean'}\n",
        "#@markdown ### It succinctly uses a consequence of comprimality\n",
        "cb10 = True #@param {type:'boolean'}\n",
        "#@markdown ### It correctly uses a consequence of comprimality\n",
        "cb11 = True #@param {type:'boolean'}\n",
        "#@markdown ### It succinctly uses the factorization of the **bppp**,\n",
        "cb12 = True #@param {type:'boolean'}\n",
        "#@markdown ### It correctly uses the factorization of the **bppp**,\n",
        "cb13 = True #@param {type:'boolean'}\n",
        "#@markdown ### It succinctly uses Fermat's Little Theorem. \n",
        "cb14 = True #@param {type:'boolean'}\n",
        "#@markdown ### It correctly uses Fermat's Little Theorem. \n",
        "cb15 = True #@param {type:'boolean'}\n",
        "#@markdown ### It succinctly uses the Chinese Remainder Theorem.\n",
        "cb16 = True #@param {type:'boolean'}\n",
        "#@markdown ### It correctly uses the Chinese Remainder Theorem.\n",
        "cb17 = True #@param {type:'boolean'}\n",
        "\n"
      ],
      "execution_count": 10,
      "outputs": []
    }
  ]
}